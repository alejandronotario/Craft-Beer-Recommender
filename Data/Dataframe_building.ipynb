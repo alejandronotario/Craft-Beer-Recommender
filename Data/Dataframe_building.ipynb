{
 "cells": [
  {
   "cell_type": "markdown",
   "metadata": {},
   "source": [
    "# To make the project dataframe in .csv from a .txt file"
   ]
  },
  {
   "cell_type": "code",
   "execution_count": 1,
   "metadata": {
    "collapsed": true
   },
   "outputs": [],
   "source": [
    "import csv\n",
    "import pandas as pd\n",
    "from pandas import DataFrame\n",
    "import numpy as np\n",
    "from sklearn import preprocessing\n",
    "from sklearn.preprocessing import LabelEncoder\n",
    "from itertools import izip, tee\n",
    "import datetime"
   ]
  },
  {
   "cell_type": "markdown",
   "metadata": {},
   "source": [
    "### Convert to .cvs file"
   ]
  },
  {
   "cell_type": "code",
   "execution_count": 2,
   "metadata": {},
   "outputs": [],
   "source": [
    "txt_file = \"./beeradvocate.txt\"\n",
    "csv_file = \"./beeradvocate_2.csv\"\n",
    "\n",
    "in_txt = csv.reader(open(txt_file, \"rb\"), delimiter = (':'))\n",
    "out_csv = csv.writer(open(csv_file, 'wb'))\n",
    "\n",
    "out_csv.writerows(in_txt)"
   ]
  },
  {
   "cell_type": "markdown",
   "metadata": {},
   "source": [
    "### Already having a .csv file, split the table at ' : ' \n",
    "### we use %capture to avoid skipping errors at the output"
   ]
  },
  {
   "cell_type": "code",
   "execution_count": 3,
   "metadata": {
    "scrolled": true
   },
   "outputs": [],
   "source": [
    "%%capture capt \n",
    "beer = pd.read_csv (\"beeradvocate_2.csv\", sep =\":\", error_bad_lines=False, header = None, )"
   ]
  },
  {
   "cell_type": "code",
   "execution_count": 4,
   "metadata": {
    "scrolled": true
   },
   "outputs": [
    {
     "data": {
      "text/html": [
       "<div>\n",
       "<style>\n",
       "    .dataframe thead tr:only-child th {\n",
       "        text-align: right;\n",
       "    }\n",
       "\n",
       "    .dataframe thead th {\n",
       "        text-align: left;\n",
       "    }\n",
       "\n",
       "    .dataframe tbody tr th {\n",
       "        vertical-align: top;\n",
       "    }\n",
       "</style>\n",
       "<table border=\"1\" class=\"dataframe\">\n",
       "  <thead>\n",
       "    <tr style=\"text-align: right;\">\n",
       "      <th></th>\n",
       "      <th>0</th>\n",
       "    </tr>\n",
       "  </thead>\n",
       "  <tbody>\n",
       "    <tr>\n",
       "      <th>0</th>\n",
       "      <td>beer/name, Sausa Weizen</td>\n",
       "    </tr>\n",
       "    <tr>\n",
       "      <th>1</th>\n",
       "      <td>beer/beerId, 47986</td>\n",
       "    </tr>\n",
       "    <tr>\n",
       "      <th>2</th>\n",
       "      <td>beer/brewerId, 10325</td>\n",
       "    </tr>\n",
       "    <tr>\n",
       "      <th>3</th>\n",
       "      <td>beer/ABV, 5.00</td>\n",
       "    </tr>\n",
       "    <tr>\n",
       "      <th>4</th>\n",
       "      <td>beer/style, Hefeweizen</td>\n",
       "    </tr>\n",
       "    <tr>\n",
       "      <th>5</th>\n",
       "      <td>review/appearance, 2.5</td>\n",
       "    </tr>\n",
       "    <tr>\n",
       "      <th>6</th>\n",
       "      <td>review/aroma, 2</td>\n",
       "    </tr>\n",
       "    <tr>\n",
       "      <th>7</th>\n",
       "      <td>review/palate, 1.5</td>\n",
       "    </tr>\n",
       "    <tr>\n",
       "      <th>8</th>\n",
       "      <td>review/taste, 1.5</td>\n",
       "    </tr>\n",
       "    <tr>\n",
       "      <th>9</th>\n",
       "      <td>review/overall, 1.5</td>\n",
       "    </tr>\n",
       "    <tr>\n",
       "      <th>10</th>\n",
       "      <td>review/time, 1234817823</td>\n",
       "    </tr>\n",
       "    <tr>\n",
       "      <th>11</th>\n",
       "      <td>review/profileName, stcules</td>\n",
       "    </tr>\n",
       "    <tr>\n",
       "      <th>12</th>\n",
       "      <td>review/text,\" A lot of foam. But a lot.\\tIn th...</td>\n",
       "    </tr>\n",
       "    <tr>\n",
       "      <th>13</th>\n",
       "      <td>beer/name, Red Moon</td>\n",
       "    </tr>\n",
       "    <tr>\n",
       "      <th>14</th>\n",
       "      <td>beer/beerId, 48213</td>\n",
       "    </tr>\n",
       "    <tr>\n",
       "      <th>15</th>\n",
       "      <td>beer/brewerId, 10325</td>\n",
       "    </tr>\n",
       "    <tr>\n",
       "      <th>16</th>\n",
       "      <td>beer/ABV, 6.20</td>\n",
       "    </tr>\n",
       "    <tr>\n",
       "      <th>17</th>\n",
       "      <td>beer/style, English Strong Ale</td>\n",
       "    </tr>\n",
       "    <tr>\n",
       "      <th>18</th>\n",
       "      <td>review/appearance, 3</td>\n",
       "    </tr>\n",
       "    <tr>\n",
       "      <th>19</th>\n",
       "      <td>review/aroma, 2.5</td>\n",
       "    </tr>\n",
       "  </tbody>\n",
       "</table>\n",
       "</div>"
      ],
      "text/plain": [
       "                                                    0\n",
       "0                             beer/name, Sausa Weizen\n",
       "1                                  beer/beerId, 47986\n",
       "2                                beer/brewerId, 10325\n",
       "3                                      beer/ABV, 5.00\n",
       "4                              beer/style, Hefeweizen\n",
       "5                              review/appearance, 2.5\n",
       "6                                     review/aroma, 2\n",
       "7                                  review/palate, 1.5\n",
       "8                                   review/taste, 1.5\n",
       "9                                 review/overall, 1.5\n",
       "10                            review/time, 1234817823\n",
       "11                        review/profileName, stcules\n",
       "12  review/text,\" A lot of foam. But a lot.\\tIn th...\n",
       "13                                beer/name, Red Moon\n",
       "14                                 beer/beerId, 48213\n",
       "15                               beer/brewerId, 10325\n",
       "16                                     beer/ABV, 6.20\n",
       "17                     beer/style, English Strong Ale\n",
       "18                               review/appearance, 3\n",
       "19                                  review/aroma, 2.5"
      ]
     },
     "execution_count": 4,
     "metadata": {},
     "output_type": "execute_result"
    }
   ],
   "source": [
    "beer.head (20)\n"
   ]
  },
  {
   "cell_type": "markdown",
   "metadata": {},
   "source": [
    "### Split at ' , ' to get the values of columns and rows"
   ]
  },
  {
   "cell_type": "code",
   "execution_count": 5,
   "metadata": {
    "collapsed": true
   },
   "outputs": [],
   "source": [
    "beer['columnas'], beer ['filas'] = beer [0].str.split(',', 1).str"
   ]
  },
  {
   "cell_type": "code",
   "execution_count": 6,
   "metadata": {},
   "outputs": [
    {
     "data": {
      "text/html": [
       "<div>\n",
       "<style>\n",
       "    .dataframe thead tr:only-child th {\n",
       "        text-align: right;\n",
       "    }\n",
       "\n",
       "    .dataframe thead th {\n",
       "        text-align: left;\n",
       "    }\n",
       "\n",
       "    .dataframe tbody tr th {\n",
       "        vertical-align: top;\n",
       "    }\n",
       "</style>\n",
       "<table border=\"1\" class=\"dataframe\">\n",
       "  <thead>\n",
       "    <tr style=\"text-align: right;\">\n",
       "      <th></th>\n",
       "      <th>0</th>\n",
       "      <th>columnas</th>\n",
       "      <th>filas</th>\n",
       "    </tr>\n",
       "  </thead>\n",
       "  <tbody>\n",
       "    <tr>\n",
       "      <th>0</th>\n",
       "      <td>beer/name, Sausa Weizen</td>\n",
       "      <td>beer/name</td>\n",
       "      <td>Sausa Weizen</td>\n",
       "    </tr>\n",
       "    <tr>\n",
       "      <th>1</th>\n",
       "      <td>beer/beerId, 47986</td>\n",
       "      <td>beer/beerId</td>\n",
       "      <td>47986</td>\n",
       "    </tr>\n",
       "    <tr>\n",
       "      <th>2</th>\n",
       "      <td>beer/brewerId, 10325</td>\n",
       "      <td>beer/brewerId</td>\n",
       "      <td>10325</td>\n",
       "    </tr>\n",
       "    <tr>\n",
       "      <th>3</th>\n",
       "      <td>beer/ABV, 5.00</td>\n",
       "      <td>beer/ABV</td>\n",
       "      <td>5.00</td>\n",
       "    </tr>\n",
       "    <tr>\n",
       "      <th>4</th>\n",
       "      <td>beer/style, Hefeweizen</td>\n",
       "      <td>beer/style</td>\n",
       "      <td>Hefeweizen</td>\n",
       "    </tr>\n",
       "  </tbody>\n",
       "</table>\n",
       "</div>"
      ],
      "text/plain": [
       "                         0       columnas          filas\n",
       "0  beer/name, Sausa Weizen      beer/name   Sausa Weizen\n",
       "1       beer/beerId, 47986    beer/beerId          47986\n",
       "2     beer/brewerId, 10325  beer/brewerId          10325\n",
       "3           beer/ABV, 5.00       beer/ABV           5.00\n",
       "4   beer/style, Hefeweizen     beer/style     Hefeweizen"
      ]
     },
     "execution_count": 6,
     "metadata": {},
     "output_type": "execute_result"
    }
   ],
   "source": [
    "beer.head()"
   ]
  },
  {
   "cell_type": "markdown",
   "metadata": {},
   "source": [
    "### Make each column to join after:\n",
    "- First try with beer/name and beer/Id\n",
    "- Repeat with every column\n",
    "- Join to dataframe"
   ]
  },
  {
   "cell_type": "code",
   "execution_count": 7,
   "metadata": {
    "collapsed": true
   },
   "outputs": [],
   "source": [
    "name = beer[beer['columnas'] == 'beer/name']"
   ]
  },
  {
   "cell_type": "code",
   "execution_count": 8,
   "metadata": {},
   "outputs": [
    {
     "data": {
      "text/html": [
       "<div>\n",
       "<style>\n",
       "    .dataframe thead tr:only-child th {\n",
       "        text-align: right;\n",
       "    }\n",
       "\n",
       "    .dataframe thead th {\n",
       "        text-align: left;\n",
       "    }\n",
       "\n",
       "    .dataframe tbody tr th {\n",
       "        vertical-align: top;\n",
       "    }\n",
       "</style>\n",
       "<table border=\"1\" class=\"dataframe\">\n",
       "  <thead>\n",
       "    <tr style=\"text-align: right;\">\n",
       "      <th></th>\n",
       "      <th>0</th>\n",
       "      <th>columnas</th>\n",
       "      <th>filas</th>\n",
       "    </tr>\n",
       "  </thead>\n",
       "  <tbody>\n",
       "    <tr>\n",
       "      <th>0</th>\n",
       "      <td>beer/name, Sausa Weizen</td>\n",
       "      <td>beer/name</td>\n",
       "      <td>Sausa Weizen</td>\n",
       "    </tr>\n",
       "    <tr>\n",
       "      <th>13</th>\n",
       "      <td>beer/name, Red Moon</td>\n",
       "      <td>beer/name</td>\n",
       "      <td>Red Moon</td>\n",
       "    </tr>\n",
       "    <tr>\n",
       "      <th>26</th>\n",
       "      <td>beer/name, Black Horse Black Beer</td>\n",
       "      <td>beer/name</td>\n",
       "      <td>Black Horse Black Beer</td>\n",
       "    </tr>\n",
       "    <tr>\n",
       "      <th>39</th>\n",
       "      <td>beer/name, Sausa Pils</td>\n",
       "      <td>beer/name</td>\n",
       "      <td>Sausa Pils</td>\n",
       "    </tr>\n",
       "    <tr>\n",
       "      <th>52</th>\n",
       "      <td>beer/name, Cauldron DIPA</td>\n",
       "      <td>beer/name</td>\n",
       "      <td>Cauldron DIPA</td>\n",
       "    </tr>\n",
       "  </tbody>\n",
       "</table>\n",
       "</div>"
      ],
      "text/plain": [
       "                                    0   columnas                    filas\n",
       "0             beer/name, Sausa Weizen  beer/name             Sausa Weizen\n",
       "13                beer/name, Red Moon  beer/name                 Red Moon\n",
       "26  beer/name, Black Horse Black Beer  beer/name   Black Horse Black Beer\n",
       "39              beer/name, Sausa Pils  beer/name               Sausa Pils\n",
       "52           beer/name, Cauldron DIPA  beer/name            Cauldron DIPA"
      ]
     },
     "execution_count": 8,
     "metadata": {},
     "output_type": "execute_result"
    }
   ],
   "source": [
    "name.head()"
   ]
  },
  {
   "cell_type": "markdown",
   "metadata": {},
   "source": [
    "### Change the column name to join after"
   ]
  },
  {
   "cell_type": "code",
   "execution_count": 9,
   "metadata": {},
   "outputs": [
    {
     "name": "stderr",
     "output_type": "stream",
     "text": [
      "/home/alejandro/anaconda3/envs/beer/lib/python2.7/site-packages/pandas/core/frame.py:2746: SettingWithCopyWarning: \n",
      "A value is trying to be set on a copy of a slice from a DataFrame\n",
      "\n",
      "See the caveats in the documentation: http://pandas.pydata.org/pandas-docs/stable/indexing.html#indexing-view-versus-copy\n",
      "  **kwargs)\n"
     ]
    }
   ],
   "source": [
    "name.rename(columns ={\n",
    "    'filas':'names'\n",
    "}\n",
    "           ,inplace = True)"
   ]
  },
  {
   "cell_type": "code",
   "execution_count": 10,
   "metadata": {
    "collapsed": true
   },
   "outputs": [],
   "source": [
    "names=name['names']"
   ]
  },
  {
   "cell_type": "code",
   "execution_count": 11,
   "metadata": {
    "scrolled": true
   },
   "outputs": [
    {
     "data": {
      "text/plain": [
       "0                Sausa Weizen\n",
       "13                   Red Moon\n",
       "26     Black Horse Black Beer\n",
       "39                 Sausa Pils\n",
       "52              Cauldron DIPA\n",
       "Name: names, dtype: object"
      ]
     },
     "execution_count": 11,
     "metadata": {},
     "output_type": "execute_result"
    }
   ],
   "source": [
    "names.head()"
   ]
  },
  {
   "cell_type": "markdown",
   "metadata": {},
   "source": [
    "### The object has the index of the original dataset. It must be changed to the same sequence for every column. To make an index column and change the index for the column "
   ]
  },
  {
   "cell_type": "code",
   "execution_count": 12,
   "metadata": {
    "scrolled": true
   },
   "outputs": [
    {
     "data": {
      "text/plain": [
       "(1586187,)"
      ]
     },
     "execution_count": 12,
     "metadata": {},
     "output_type": "execute_result"
    }
   ],
   "source": [
    "names.shape"
   ]
  },
  {
   "cell_type": "code",
   "execution_count": 13,
   "metadata": {
    "collapsed": true
   },
   "outputs": [],
   "source": [
    "col_1 = pd.Series (range(0,1586187))"
   ]
  },
  {
   "cell_type": "code",
   "execution_count": 14,
   "metadata": {},
   "outputs": [
    {
     "data": {
      "text/plain": [
       "1586182    1586182\n",
       "1586183    1586183\n",
       "1586184    1586184\n",
       "1586185    1586185\n",
       "1586186    1586186\n",
       "dtype: int64"
      ]
     },
     "execution_count": 14,
     "metadata": {},
     "output_type": "execute_result"
    }
   ],
   "source": [
    "col_1.tail()"
   ]
  },
  {
   "cell_type": "code",
   "execution_count": 15,
   "metadata": {
    "collapsed": true
   },
   "outputs": [],
   "source": [
    "names.index = col_1"
   ]
  },
  {
   "cell_type": "code",
   "execution_count": 16,
   "metadata": {},
   "outputs": [
    {
     "data": {
      "text/plain": [
       "0               Sausa Weizen\n",
       "1                   Red Moon\n",
       "2     Black Horse Black Beer\n",
       "3                 Sausa Pils\n",
       "4              Cauldron DIPA\n",
       "Name: names, dtype: object"
      ]
     },
     "execution_count": 16,
     "metadata": {},
     "output_type": "execute_result"
    }
   ],
   "source": [
    "names.head()"
   ]
  },
  {
   "cell_type": "code",
   "execution_count": 17,
   "metadata": {},
   "outputs": [
    {
     "data": {
      "text/plain": [
       "1586182     The Horseman's Ale\n",
       "1586183     The Horseman's Ale\n",
       "1586184     The Horseman's Ale\n",
       "1586185     The Horseman's Ale\n",
       "1586186     The Horseman's Ale\n",
       "Name: names, dtype: object"
      ]
     },
     "execution_count": 17,
     "metadata": {},
     "output_type": "execute_result"
    }
   ],
   "source": [
    "names.tail()"
   ]
  },
  {
   "cell_type": "markdown",
   "metadata": {},
   "source": [
    "### Same for beer/Id"
   ]
  },
  {
   "cell_type": "code",
   "execution_count": 18,
   "metadata": {
    "collapsed": true
   },
   "outputs": [],
   "source": [
    "beer_ID = beer[beer['columnas'] == 'beer/beerId']\n",
    "beer_ID.rename(columns={\n",
    "    'filas' : 'Id'\n",
    "}\n",
    "              ,inplace = True)\n",
    "Id=beer_ID['Id']\n",
    "Id.index = col_1"
   ]
  },
  {
   "cell_type": "markdown",
   "metadata": {},
   "source": [
    "### Check the shapes"
   ]
  },
  {
   "cell_type": "code",
   "execution_count": 19,
   "metadata": {},
   "outputs": [
    {
     "data": {
      "text/plain": [
       "(1586187,)"
      ]
     },
     "execution_count": 19,
     "metadata": {},
     "output_type": "execute_result"
    }
   ],
   "source": [
    "col_1.shape"
   ]
  },
  {
   "cell_type": "code",
   "execution_count": 20,
   "metadata": {},
   "outputs": [
    {
     "data": {
      "text/plain": [
       "(1586187,)"
      ]
     },
     "execution_count": 20,
     "metadata": {},
     "output_type": "execute_result"
    }
   ],
   "source": [
    "names.shape"
   ]
  },
  {
   "cell_type": "code",
   "execution_count": 21,
   "metadata": {},
   "outputs": [
    {
     "data": {
      "text/plain": [
       "(1586187,)"
      ]
     },
     "execution_count": 21,
     "metadata": {},
     "output_type": "execute_result"
    }
   ],
   "source": [
    "Id.shape"
   ]
  },
  {
   "cell_type": "markdown",
   "metadata": {},
   "source": [
    "### Same for the rest"
   ]
  },
  {
   "cell_type": "code",
   "execution_count": 22,
   "metadata": {
    "collapsed": true
   },
   "outputs": [],
   "source": [
    "brewer_ID = beer[beer['columnas'] == 'beer/brewerId']\n",
    "brewer_ID.rename(columns={\n",
    "    'filas' : 'brewerId'\n",
    "}\n",
    "              ,inplace = True)\n",
    "brewerId=brewer_ID['brewerId']\n",
    "brewerId.index = col_1"
   ]
  },
  {
   "cell_type": "code",
   "execution_count": 23,
   "metadata": {
    "collapsed": true
   },
   "outputs": [],
   "source": [
    "ABV = beer[beer['columnas'] == 'beer/ABV']\n",
    "ABV.rename(columns={\n",
    "    'filas' : 'ABV'\n",
    "}\n",
    "              ,inplace = True)\n",
    "ABV=ABV['ABV']\n",
    "ABV.index = col_1"
   ]
  },
  {
   "cell_type": "code",
   "execution_count": 24,
   "metadata": {
    "collapsed": true
   },
   "outputs": [],
   "source": [
    "style = beer[beer['columnas'] == 'beer/style']\n",
    "style.rename(columns={\n",
    "    'filas' : 'style'\n",
    "}\n",
    "              ,inplace = True)\n",
    "style=style['style']\n",
    "style.index = col_1"
   ]
  },
  {
   "cell_type": "code",
   "execution_count": 25,
   "metadata": {
    "collapsed": true
   },
   "outputs": [],
   "source": [
    "appearance = beer[beer['columnas'] == 'review/appearance']\n",
    "appearance.rename(columns={\n",
    "    'filas' : 'appearance'\n",
    "}\n",
    "              ,inplace = True)\n",
    "appearance=appearance['appearance']\n",
    "appearance.index = col_1"
   ]
  },
  {
   "cell_type": "code",
   "execution_count": 26,
   "metadata": {
    "collapsed": true
   },
   "outputs": [],
   "source": [
    "aroma = beer[beer['columnas'] == 'review/aroma']\n",
    "aroma.rename(columns={\n",
    "    'filas' : 'aroma'\n",
    "}\n",
    "              ,inplace = True)\n",
    "aroma=aroma['aroma']\n",
    "aroma.index = col_1"
   ]
  },
  {
   "cell_type": "code",
   "execution_count": 27,
   "metadata": {
    "collapsed": true
   },
   "outputs": [],
   "source": [
    "palate = beer[beer['columnas'] == 'review/palate']\n",
    "palate.rename(columns={\n",
    "    'filas' : 'palate'\n",
    "}\n",
    "              ,inplace = True)\n",
    "palate=palate['palate']\n",
    "palate.index = col_1"
   ]
  },
  {
   "cell_type": "code",
   "execution_count": 28,
   "metadata": {
    "collapsed": true
   },
   "outputs": [],
   "source": [
    "taste = beer[beer['columnas'] == 'review/taste']\n",
    "taste.rename(columns={\n",
    "    'filas' : 'taste'\n",
    "}\n",
    "              ,inplace = True)\n",
    "taste=taste['taste']\n",
    "taste.index = col_1"
   ]
  },
  {
   "cell_type": "code",
   "execution_count": 29,
   "metadata": {
    "collapsed": true
   },
   "outputs": [],
   "source": [
    "overall = beer[beer['columnas'] == 'review/overall']\n",
    "overall.rename(columns={\n",
    "    'filas' : 'overall'\n",
    "}\n",
    "              ,inplace = True)\n",
    "overall=overall['overall']\n",
    "overall.index = col_1"
   ]
  },
  {
   "cell_type": "code",
   "execution_count": 30,
   "metadata": {
    "collapsed": true
   },
   "outputs": [],
   "source": [
    "time = beer[beer['columnas'] == 'review/time']\n",
    "time.rename(columns={\n",
    "    'filas' : 'time'\n",
    "}\n",
    "              ,inplace = True)\n",
    "time=time['time']\n",
    "time.index = col_1"
   ]
  },
  {
   "cell_type": "code",
   "execution_count": 31,
   "metadata": {
    "collapsed": true
   },
   "outputs": [],
   "source": [
    "profile_name = beer[beer['columnas'] == 'review/profileName']\n",
    "profile_name.rename(columns={\n",
    "    'filas' : 'profile_name'\n",
    "}\n",
    "              ,inplace = True)\n",
    "profile_name=profile_name['profile_name']\n",
    "profile_name.index = col_1"
   ]
  },
  {
   "cell_type": "markdown",
   "metadata": {},
   "source": [
    "### Now join the columns to get the dataframe"
   ]
  },
  {
   "cell_type": "code",
   "execution_count": 32,
   "metadata": {
    "collapsed": true
   },
   "outputs": [],
   "source": [
    "df_beer = pd.concat([names,\n",
    "                     Id,\n",
    "                     brewerId,\n",
    "                     ABV,\n",
    "                     style,\n",
    "                    appearance,\n",
    "                     aroma,\n",
    "                     palate,\n",
    "                     taste,\n",
    "                     overall,\n",
    "                     time,                     \n",
    "                     profile_name,\n",
    "                     \n",
    "                    ], axis=1, join = 'outer')"
   ]
  },
  {
   "cell_type": "code",
   "execution_count": 33,
   "metadata": {},
   "outputs": [
    {
     "data": {
      "text/html": [
       "<div>\n",
       "<style>\n",
       "    .dataframe thead tr:only-child th {\n",
       "        text-align: right;\n",
       "    }\n",
       "\n",
       "    .dataframe thead th {\n",
       "        text-align: left;\n",
       "    }\n",
       "\n",
       "    .dataframe tbody tr th {\n",
       "        vertical-align: top;\n",
       "    }\n",
       "</style>\n",
       "<table border=\"1\" class=\"dataframe\">\n",
       "  <thead>\n",
       "    <tr style=\"text-align: right;\">\n",
       "      <th></th>\n",
       "      <th>names</th>\n",
       "      <th>Id</th>\n",
       "      <th>brewerId</th>\n",
       "      <th>ABV</th>\n",
       "      <th>style</th>\n",
       "      <th>appearance</th>\n",
       "      <th>aroma</th>\n",
       "      <th>palate</th>\n",
       "      <th>taste</th>\n",
       "      <th>overall</th>\n",
       "      <th>time</th>\n",
       "      <th>profile_name</th>\n",
       "    </tr>\n",
       "  </thead>\n",
       "  <tbody>\n",
       "    <tr>\n",
       "      <th>0</th>\n",
       "      <td>Sausa Weizen</td>\n",
       "      <td>47986</td>\n",
       "      <td>10325</td>\n",
       "      <td>5.00</td>\n",
       "      <td>Hefeweizen</td>\n",
       "      <td>2.5</td>\n",
       "      <td>2</td>\n",
       "      <td>1.5</td>\n",
       "      <td>1.5</td>\n",
       "      <td>1.5</td>\n",
       "      <td>1234817823</td>\n",
       "      <td>stcules</td>\n",
       "    </tr>\n",
       "    <tr>\n",
       "      <th>1</th>\n",
       "      <td>Red Moon</td>\n",
       "      <td>48213</td>\n",
       "      <td>10325</td>\n",
       "      <td>6.20</td>\n",
       "      <td>English Strong Ale</td>\n",
       "      <td>3</td>\n",
       "      <td>2.5</td>\n",
       "      <td>3</td>\n",
       "      <td>3</td>\n",
       "      <td>3</td>\n",
       "      <td>1235915097</td>\n",
       "      <td>stcules</td>\n",
       "    </tr>\n",
       "    <tr>\n",
       "      <th>2</th>\n",
       "      <td>Black Horse Black Beer</td>\n",
       "      <td>48215</td>\n",
       "      <td>10325</td>\n",
       "      <td>6.50</td>\n",
       "      <td>Foreign / Export Stout</td>\n",
       "      <td>3</td>\n",
       "      <td>2.5</td>\n",
       "      <td>3</td>\n",
       "      <td>3</td>\n",
       "      <td>3</td>\n",
       "      <td>1235916604</td>\n",
       "      <td>stcules</td>\n",
       "    </tr>\n",
       "    <tr>\n",
       "      <th>3</th>\n",
       "      <td>Sausa Pils</td>\n",
       "      <td>47969</td>\n",
       "      <td>10325</td>\n",
       "      <td>5.00</td>\n",
       "      <td>German Pilsener</td>\n",
       "      <td>3.5</td>\n",
       "      <td>3</td>\n",
       "      <td>2.5</td>\n",
       "      <td>3</td>\n",
       "      <td>3</td>\n",
       "      <td>1234725145</td>\n",
       "      <td>stcules</td>\n",
       "    </tr>\n",
       "    <tr>\n",
       "      <th>4</th>\n",
       "      <td>Cauldron DIPA</td>\n",
       "      <td>64883</td>\n",
       "      <td>1075</td>\n",
       "      <td>7.70</td>\n",
       "      <td>American Double / Imperial IPA</td>\n",
       "      <td>4</td>\n",
       "      <td>4.5</td>\n",
       "      <td>4</td>\n",
       "      <td>4.5</td>\n",
       "      <td>4</td>\n",
       "      <td>1293735206</td>\n",
       "      <td>johnmichaelsen</td>\n",
       "    </tr>\n",
       "  </tbody>\n",
       "</table>\n",
       "</div>"
      ],
      "text/plain": [
       "                     names      Id brewerId    ABV  \\\n",
       "0             Sausa Weizen   47986    10325   5.00   \n",
       "1                 Red Moon   48213    10325   6.20   \n",
       "2   Black Horse Black Beer   48215    10325   6.50   \n",
       "3               Sausa Pils   47969    10325   5.00   \n",
       "4            Cauldron DIPA   64883     1075   7.70   \n",
       "\n",
       "                             style appearance aroma palate taste overall  \\\n",
       "0                       Hefeweizen        2.5     2    1.5   1.5     1.5   \n",
       "1               English Strong Ale          3   2.5      3     3       3   \n",
       "2           Foreign / Export Stout          3   2.5      3     3       3   \n",
       "3                  German Pilsener        3.5     3    2.5     3       3   \n",
       "4   American Double / Imperial IPA          4   4.5      4   4.5       4   \n",
       "\n",
       "          time     profile_name  \n",
       "0   1234817823          stcules  \n",
       "1   1235915097          stcules  \n",
       "2   1235916604          stcules  \n",
       "3   1234725145          stcules  \n",
       "4   1293735206   johnmichaelsen  "
      ]
     },
     "execution_count": 33,
     "metadata": {},
     "output_type": "execute_result"
    }
   ],
   "source": [
    "df_beer.head()"
   ]
  },
  {
   "cell_type": "code",
   "execution_count": 34,
   "metadata": {},
   "outputs": [
    {
     "data": {
      "text/html": [
       "<div>\n",
       "<style>\n",
       "    .dataframe thead tr:only-child th {\n",
       "        text-align: right;\n",
       "    }\n",
       "\n",
       "    .dataframe thead th {\n",
       "        text-align: left;\n",
       "    }\n",
       "\n",
       "    .dataframe tbody tr th {\n",
       "        vertical-align: top;\n",
       "    }\n",
       "</style>\n",
       "<table border=\"1\" class=\"dataframe\">\n",
       "  <thead>\n",
       "    <tr style=\"text-align: right;\">\n",
       "      <th></th>\n",
       "      <th>names</th>\n",
       "      <th>Id</th>\n",
       "      <th>brewerId</th>\n",
       "      <th>ABV</th>\n",
       "      <th>style</th>\n",
       "      <th>appearance</th>\n",
       "      <th>aroma</th>\n",
       "      <th>palate</th>\n",
       "      <th>taste</th>\n",
       "      <th>overall</th>\n",
       "      <th>time</th>\n",
       "      <th>profile_name</th>\n",
       "    </tr>\n",
       "  </thead>\n",
       "  <tbody>\n",
       "    <tr>\n",
       "      <th>1586182</th>\n",
       "      <td>The Horseman's Ale</td>\n",
       "      <td>33061</td>\n",
       "      <td>14359</td>\n",
       "      <td>5.20</td>\n",
       "      <td>Pumpkin Ale</td>\n",
       "      <td>4</td>\n",
       "      <td>4.5</td>\n",
       "      <td>5</td>\n",
       "      <td>5</td>\n",
       "      <td>5</td>\n",
       "      <td>1162871808</td>\n",
       "      <td>blitheringidiot</td>\n",
       "    </tr>\n",
       "    <tr>\n",
       "      <th>1586183</th>\n",
       "      <td>The Horseman's Ale</td>\n",
       "      <td>33061</td>\n",
       "      <td>14359</td>\n",
       "      <td>5.20</td>\n",
       "      <td>Pumpkin Ale</td>\n",
       "      <td>4.5</td>\n",
       "      <td>5</td>\n",
       "      <td>5</td>\n",
       "      <td>4.5</td>\n",
       "      <td>5</td>\n",
       "      <td>1162865640</td>\n",
       "      <td>PopeDX</td>\n",
       "    </tr>\n",
       "    <tr>\n",
       "      <th>1586184</th>\n",
       "      <td>The Horseman's Ale</td>\n",
       "      <td>33061</td>\n",
       "      <td>14359</td>\n",
       "      <td>5.20</td>\n",
       "      <td>Pumpkin Ale</td>\n",
       "      <td>4</td>\n",
       "      <td>4</td>\n",
       "      <td>3.5</td>\n",
       "      <td>3</td>\n",
       "      <td>3.5</td>\n",
       "      <td>1162685856</td>\n",
       "      <td>treehugger02010</td>\n",
       "    </tr>\n",
       "    <tr>\n",
       "      <th>1586185</th>\n",
       "      <td>The Horseman's Ale</td>\n",
       "      <td>33061</td>\n",
       "      <td>14359</td>\n",
       "      <td>5.20</td>\n",
       "      <td>Pumpkin Ale</td>\n",
       "      <td>3.5</td>\n",
       "      <td>4</td>\n",
       "      <td>4</td>\n",
       "      <td>4</td>\n",
       "      <td>5</td>\n",
       "      <td>1162684892</td>\n",
       "      <td>maddogruss</td>\n",
       "    </tr>\n",
       "    <tr>\n",
       "      <th>1586186</th>\n",
       "      <td>The Horseman's Ale</td>\n",
       "      <td>33061</td>\n",
       "      <td>14359</td>\n",
       "      <td>5.20</td>\n",
       "      <td>Pumpkin Ale</td>\n",
       "      <td>2.5</td>\n",
       "      <td>5</td>\n",
       "      <td>2</td>\n",
       "      <td>4</td>\n",
       "      <td>4</td>\n",
       "      <td>1161048566</td>\n",
       "      <td>yelterdow</td>\n",
       "    </tr>\n",
       "  </tbody>\n",
       "</table>\n",
       "</div>"
      ],
      "text/plain": [
       "                       names      Id brewerId    ABV         style appearance  \\\n",
       "1586182   The Horseman's Ale   33061    14359   5.20   Pumpkin Ale          4   \n",
       "1586183   The Horseman's Ale   33061    14359   5.20   Pumpkin Ale        4.5   \n",
       "1586184   The Horseman's Ale   33061    14359   5.20   Pumpkin Ale          4   \n",
       "1586185   The Horseman's Ale   33061    14359   5.20   Pumpkin Ale        3.5   \n",
       "1586186   The Horseman's Ale   33061    14359   5.20   Pumpkin Ale        2.5   \n",
       "\n",
       "        aroma palate taste overall         time      profile_name  \n",
       "1586182   4.5      5     5       5   1162871808   blitheringidiot  \n",
       "1586183     5      5   4.5       5   1162865640            PopeDX  \n",
       "1586184     4    3.5     3     3.5   1162685856   treehugger02010  \n",
       "1586185     4      4     4       5   1162684892        maddogruss  \n",
       "1586186     5      2     4       4   1161048566         yelterdow  "
      ]
     },
     "execution_count": 34,
     "metadata": {},
     "output_type": "execute_result"
    }
   ],
   "source": [
    "df_beer.tail()"
   ]
  },
  {
   "cell_type": "code",
   "execution_count": 35,
   "metadata": {},
   "outputs": [
    {
     "data": {
      "text/plain": [
       "(1586187, 12)"
      ]
     },
     "execution_count": 35,
     "metadata": {},
     "output_type": "execute_result"
    }
   ],
   "source": [
    "df_beer.shape"
   ]
  },
  {
   "cell_type": "markdown",
   "metadata": {},
   "source": [
    "### 'Text' column does not fit because it has less rows:\n",
    "- Create the text.csv file\n",
    "- Make a function to get differences between indexes\n",
    "- Get the rows which they do not have difference = 13\n",
    "- Eliminate the rows in the whole dataframe"
   ]
  },
  {
   "cell_type": "code",
   "execution_count": 36,
   "metadata": {
    "collapsed": true
   },
   "outputs": [],
   "source": [
    "text = beer[beer['columnas'] == 'review/text']"
   ]
  },
  {
   "cell_type": "code",
   "execution_count": 37,
   "metadata": {
    "collapsed": true,
    "scrolled": true
   },
   "outputs": [],
   "source": [
    "text.to_csv ('text.csv')"
   ]
  },
  {
   "cell_type": "code",
   "execution_count": 38,
   "metadata": {
    "collapsed": true
   },
   "outputs": [],
   "source": [
    "text = pd.read_csv (\"./text.csv\", sep = ',')"
   ]
  },
  {
   "cell_type": "code",
   "execution_count": 39,
   "metadata": {},
   "outputs": [
    {
     "data": {
      "text/html": [
       "<div>\n",
       "<style>\n",
       "    .dataframe thead tr:only-child th {\n",
       "        text-align: right;\n",
       "    }\n",
       "\n",
       "    .dataframe thead th {\n",
       "        text-align: left;\n",
       "    }\n",
       "\n",
       "    .dataframe tbody tr th {\n",
       "        vertical-align: top;\n",
       "    }\n",
       "</style>\n",
       "<table border=\"1\" class=\"dataframe\">\n",
       "  <thead>\n",
       "    <tr style=\"text-align: right;\">\n",
       "      <th></th>\n",
       "      <th>Unnamed: 0</th>\n",
       "      <th>0</th>\n",
       "      <th>columnas</th>\n",
       "      <th>filas</th>\n",
       "    </tr>\n",
       "  </thead>\n",
       "  <tbody>\n",
       "    <tr>\n",
       "      <th>0</th>\n",
       "      <td>12</td>\n",
       "      <td>review/text,\" A lot of foam. But a lot.\\tIn th...</td>\n",
       "      <td>review/text</td>\n",
       "      <td>\" A lot of foam. But a lot.\\tIn the smell some...</td>\n",
       "    </tr>\n",
       "    <tr>\n",
       "      <th>1</th>\n",
       "      <td>25</td>\n",
       "      <td>review/text,\" Dark red color, light beige foam...</td>\n",
       "      <td>review/text</td>\n",
       "      <td>\" Dark red color, light beige foam, average.\\t...</td>\n",
       "    </tr>\n",
       "    <tr>\n",
       "      <th>2</th>\n",
       "      <td>38</td>\n",
       "      <td>review/text,\" Almost totally black. Beige foam...</td>\n",
       "      <td>review/text</td>\n",
       "      <td>\" Almost totally black. Beige foam, quite comp...</td>\n",
       "    </tr>\n",
       "    <tr>\n",
       "      <th>3</th>\n",
       "      <td>51</td>\n",
       "      <td>review/text,\" Golden yellow color. White, comp...</td>\n",
       "      <td>review/text</td>\n",
       "      <td>\" Golden yellow color. White, compact foam, qu...</td>\n",
       "    </tr>\n",
       "    <tr>\n",
       "      <th>4</th>\n",
       "      <td>64</td>\n",
       "      <td>review/text,\" According to the website, the st...</td>\n",
       "      <td>review/text</td>\n",
       "      <td>\" According to the website, the style for the ...</td>\n",
       "    </tr>\n",
       "  </tbody>\n",
       "</table>\n",
       "</div>"
      ],
      "text/plain": [
       "   Unnamed: 0                                                  0     columnas  \\\n",
       "0          12  review/text,\" A lot of foam. But a lot.\\tIn th...  review/text   \n",
       "1          25  review/text,\" Dark red color, light beige foam...  review/text   \n",
       "2          38  review/text,\" Almost totally black. Beige foam...  review/text   \n",
       "3          51  review/text,\" Golden yellow color. White, comp...  review/text   \n",
       "4          64  review/text,\" According to the website, the st...  review/text   \n",
       "\n",
       "                                               filas  \n",
       "0  \" A lot of foam. But a lot.\\tIn the smell some...  \n",
       "1  \" Dark red color, light beige foam, average.\\t...  \n",
       "2  \" Almost totally black. Beige foam, quite comp...  \n",
       "3  \" Golden yellow color. White, compact foam, qu...  \n",
       "4  \" According to the website, the style for the ...  "
      ]
     },
     "execution_count": 39,
     "metadata": {},
     "output_type": "execute_result"
    }
   ],
   "source": [
    "text.head()"
   ]
  },
  {
   "cell_type": "code",
   "execution_count": 40,
   "metadata": {},
   "outputs": [
    {
     "data": {
      "text/plain": [
       "(1586175, 4)"
      ]
     },
     "execution_count": 40,
     "metadata": {},
     "output_type": "execute_result"
    }
   ],
   "source": [
    "text.shape"
   ]
  },
  {
   "cell_type": "code",
   "execution_count": 41,
   "metadata": {
    "collapsed": true,
    "scrolled": true
   },
   "outputs": [],
   "source": [
    "text.rename (columns = {\n",
    "    'Unnamed: 0' : 'index'\n",
    "},\n",
    "            inplace = True)"
   ]
  },
  {
   "cell_type": "code",
   "execution_count": 42,
   "metadata": {},
   "outputs": [
    {
     "data": {
      "text/html": [
       "<div>\n",
       "<style>\n",
       "    .dataframe thead tr:only-child th {\n",
       "        text-align: right;\n",
       "    }\n",
       "\n",
       "    .dataframe thead th {\n",
       "        text-align: left;\n",
       "    }\n",
       "\n",
       "    .dataframe tbody tr th {\n",
       "        vertical-align: top;\n",
       "    }\n",
       "</style>\n",
       "<table border=\"1\" class=\"dataframe\">\n",
       "  <thead>\n",
       "    <tr style=\"text-align: right;\">\n",
       "      <th></th>\n",
       "      <th>index</th>\n",
       "      <th>0</th>\n",
       "      <th>columnas</th>\n",
       "      <th>filas</th>\n",
       "    </tr>\n",
       "  </thead>\n",
       "  <tbody>\n",
       "    <tr>\n",
       "      <th>0</th>\n",
       "      <td>12</td>\n",
       "      <td>review/text,\" A lot of foam. But a lot.\\tIn th...</td>\n",
       "      <td>review/text</td>\n",
       "      <td>\" A lot of foam. But a lot.\\tIn the smell some...</td>\n",
       "    </tr>\n",
       "    <tr>\n",
       "      <th>1</th>\n",
       "      <td>25</td>\n",
       "      <td>review/text,\" Dark red color, light beige foam...</td>\n",
       "      <td>review/text</td>\n",
       "      <td>\" Dark red color, light beige foam, average.\\t...</td>\n",
       "    </tr>\n",
       "    <tr>\n",
       "      <th>2</th>\n",
       "      <td>38</td>\n",
       "      <td>review/text,\" Almost totally black. Beige foam...</td>\n",
       "      <td>review/text</td>\n",
       "      <td>\" Almost totally black. Beige foam, quite comp...</td>\n",
       "    </tr>\n",
       "    <tr>\n",
       "      <th>3</th>\n",
       "      <td>51</td>\n",
       "      <td>review/text,\" Golden yellow color. White, comp...</td>\n",
       "      <td>review/text</td>\n",
       "      <td>\" Golden yellow color. White, compact foam, qu...</td>\n",
       "    </tr>\n",
       "    <tr>\n",
       "      <th>4</th>\n",
       "      <td>64</td>\n",
       "      <td>review/text,\" According to the website, the st...</td>\n",
       "      <td>review/text</td>\n",
       "      <td>\" According to the website, the style for the ...</td>\n",
       "    </tr>\n",
       "  </tbody>\n",
       "</table>\n",
       "</div>"
      ],
      "text/plain": [
       "   index                                                  0     columnas  \\\n",
       "0     12  review/text,\" A lot of foam. But a lot.\\tIn th...  review/text   \n",
       "1     25  review/text,\" Dark red color, light beige foam...  review/text   \n",
       "2     38  review/text,\" Almost totally black. Beige foam...  review/text   \n",
       "3     51  review/text,\" Golden yellow color. White, comp...  review/text   \n",
       "4     64  review/text,\" According to the website, the st...  review/text   \n",
       "\n",
       "                                               filas  \n",
       "0  \" A lot of foam. But a lot.\\tIn the smell some...  \n",
       "1  \" Dark red color, light beige foam, average.\\t...  \n",
       "2  \" Almost totally black. Beige foam, quite comp...  \n",
       "3  \" Golden yellow color. White, compact foam, qu...  \n",
       "4  \" According to the website, the style for the ...  "
      ]
     },
     "execution_count": 42,
     "metadata": {},
     "output_type": "execute_result"
    }
   ],
   "source": [
    "text.head()"
   ]
  },
  {
   "cell_type": "code",
   "execution_count": 43,
   "metadata": {
    "collapsed": true
   },
   "outputs": [],
   "source": [
    "index = text['index']"
   ]
  },
  {
   "cell_type": "code",
   "execution_count": 44,
   "metadata": {},
   "outputs": [
    {
     "data": {
      "text/plain": [
       "0    12\n",
       "1    25\n",
       "2    38\n",
       "3    51\n",
       "4    64\n",
       "Name: index, dtype: int64"
      ]
     },
     "execution_count": 44,
     "metadata": {},
     "output_type": "execute_result"
    }
   ],
   "source": [
    "index.head()"
   ]
  },
  {
   "cell_type": "code",
   "execution_count": 45,
   "metadata": {
    "scrolled": true
   },
   "outputs": [
    {
     "data": {
      "text/plain": [
       "[12, 25, 38, 51, 64, 77, 90, 103, 116, 129]"
      ]
     },
     "execution_count": 45,
     "metadata": {},
     "output_type": "execute_result"
    }
   ],
   "source": [
    "index.tolist()[:10]"
   ]
  },
  {
   "cell_type": "markdown",
   "metadata": {},
   "source": [
    "### Function"
   ]
  },
  {
   "cell_type": "code",
   "execution_count": 46,
   "metadata": {
    "collapsed": true
   },
   "outputs": [],
   "source": [
    "def pairwise(iterable):\n",
    "    \"s -> (s0,s1), (s1,s2), (s2, s3), ...\"\n",
    "    a, b = tee(iterable)\n",
    "    next(b, None)\n",
    "    return izip(a, b)"
   ]
  },
  {
   "cell_type": "code",
   "execution_count": 47,
   "metadata": {},
   "outputs": [
    {
     "data": {
      "text/plain": [
       "[13, 13, 13, 13, 13, 13, 13, 13, 13, 13]"
      ]
     },
     "execution_count": 47,
     "metadata": {},
     "output_type": "execute_result"
    }
   ],
   "source": [
    "diff = [y-x for x,y in pairwise(index)]\n",
    "diff[:10]"
   ]
  },
  {
   "cell_type": "markdown",
   "metadata": {},
   "source": [
    "### Differences at wrong rows"
   ]
  },
  {
   "cell_type": "code",
   "execution_count": 48,
   "metadata": {},
   "outputs": [
    {
     "name": "stdout",
     "output_type": "stream",
     "text": [
      "[25, 25, 25, 25, 25, 25, 25, 25, 25, 25, 25, 25]\n"
     ]
    }
   ],
   "source": [
    "wrong_rows = []\n",
    "for i in diff:\n",
    "    if i != 13:\n",
    "        wrong_rows.append (i)\n",
    "print wrong_rows"
   ]
  },
  {
   "cell_type": "markdown",
   "metadata": {},
   "source": [
    "### Make a dataframe"
   ]
  },
  {
   "cell_type": "code",
   "execution_count": 49,
   "metadata": {
    "collapsed": true
   },
   "outputs": [],
   "source": [
    "df_diff = pd.DataFrame (np.array(diff))\n",
    "df_diff = df_diff.astype (int)"
   ]
  },
  {
   "cell_type": "code",
   "execution_count": 50,
   "metadata": {},
   "outputs": [
    {
     "data": {
      "text/html": [
       "<div>\n",
       "<style>\n",
       "    .dataframe thead tr:only-child th {\n",
       "        text-align: right;\n",
       "    }\n",
       "\n",
       "    .dataframe thead th {\n",
       "        text-align: left;\n",
       "    }\n",
       "\n",
       "    .dataframe tbody tr th {\n",
       "        vertical-align: top;\n",
       "    }\n",
       "</style>\n",
       "<table border=\"1\" class=\"dataframe\">\n",
       "  <thead>\n",
       "    <tr style=\"text-align: right;\">\n",
       "      <th></th>\n",
       "      <th>0</th>\n",
       "    </tr>\n",
       "  </thead>\n",
       "  <tbody>\n",
       "    <tr>\n",
       "      <th>0</th>\n",
       "      <td>13</td>\n",
       "    </tr>\n",
       "    <tr>\n",
       "      <th>1</th>\n",
       "      <td>13</td>\n",
       "    </tr>\n",
       "    <tr>\n",
       "      <th>2</th>\n",
       "      <td>13</td>\n",
       "    </tr>\n",
       "    <tr>\n",
       "      <th>3</th>\n",
       "      <td>13</td>\n",
       "    </tr>\n",
       "    <tr>\n",
       "      <th>4</th>\n",
       "      <td>13</td>\n",
       "    </tr>\n",
       "  </tbody>\n",
       "</table>\n",
       "</div>"
      ],
      "text/plain": [
       "    0\n",
       "0  13\n",
       "1  13\n",
       "2  13\n",
       "3  13\n",
       "4  13"
      ]
     },
     "execution_count": 50,
     "metadata": {},
     "output_type": "execute_result"
    }
   ],
   "source": [
    "df_diff.head()"
   ]
  },
  {
   "cell_type": "code",
   "execution_count": 51,
   "metadata": {
    "collapsed": true
   },
   "outputs": [],
   "source": [
    "df_index = pd.DataFrame (np.array(index))"
   ]
  },
  {
   "cell_type": "code",
   "execution_count": 52,
   "metadata": {},
   "outputs": [
    {
     "data": {
      "text/html": [
       "<div>\n",
       "<style>\n",
       "    .dataframe thead tr:only-child th {\n",
       "        text-align: right;\n",
       "    }\n",
       "\n",
       "    .dataframe thead th {\n",
       "        text-align: left;\n",
       "    }\n",
       "\n",
       "    .dataframe tbody tr th {\n",
       "        vertical-align: top;\n",
       "    }\n",
       "</style>\n",
       "<table border=\"1\" class=\"dataframe\">\n",
       "  <thead>\n",
       "    <tr style=\"text-align: right;\">\n",
       "      <th></th>\n",
       "      <th>0</th>\n",
       "    </tr>\n",
       "  </thead>\n",
       "  <tbody>\n",
       "    <tr>\n",
       "      <th>0</th>\n",
       "      <td>12</td>\n",
       "    </tr>\n",
       "    <tr>\n",
       "      <th>1</th>\n",
       "      <td>25</td>\n",
       "    </tr>\n",
       "    <tr>\n",
       "      <th>2</th>\n",
       "      <td>38</td>\n",
       "    </tr>\n",
       "    <tr>\n",
       "      <th>3</th>\n",
       "      <td>51</td>\n",
       "    </tr>\n",
       "    <tr>\n",
       "      <th>4</th>\n",
       "      <td>64</td>\n",
       "    </tr>\n",
       "  </tbody>\n",
       "</table>\n",
       "</div>"
      ],
      "text/plain": [
       "    0\n",
       "0  12\n",
       "1  25\n",
       "2  38\n",
       "3  51\n",
       "4  64"
      ]
     },
     "execution_count": 52,
     "metadata": {},
     "output_type": "execute_result"
    }
   ],
   "source": [
    "df_index.head()"
   ]
  },
  {
   "cell_type": "code",
   "execution_count": 53,
   "metadata": {
    "collapsed": true
   },
   "outputs": [],
   "source": [
    "df_miss = pd.concat ([\n",
    "    df_index,\n",
    "    df_diff\n",
    "    \n",
    "],\n",
    "axis=1, join = 'outer')"
   ]
  },
  {
   "cell_type": "code",
   "execution_count": 54,
   "metadata": {
    "collapsed": true
   },
   "outputs": [],
   "source": [
    "df_miss.columns = ['index', 'diff']"
   ]
  },
  {
   "cell_type": "code",
   "execution_count": 55,
   "metadata": {},
   "outputs": [
    {
     "data": {
      "text/html": [
       "<div>\n",
       "<style>\n",
       "    .dataframe thead tr:only-child th {\n",
       "        text-align: right;\n",
       "    }\n",
       "\n",
       "    .dataframe thead th {\n",
       "        text-align: left;\n",
       "    }\n",
       "\n",
       "    .dataframe tbody tr th {\n",
       "        vertical-align: top;\n",
       "    }\n",
       "</style>\n",
       "<table border=\"1\" class=\"dataframe\">\n",
       "  <thead>\n",
       "    <tr style=\"text-align: right;\">\n",
       "      <th></th>\n",
       "      <th>index</th>\n",
       "      <th>diff</th>\n",
       "    </tr>\n",
       "  </thead>\n",
       "  <tbody>\n",
       "    <tr>\n",
       "      <th>0</th>\n",
       "      <td>12</td>\n",
       "      <td>13.0</td>\n",
       "    </tr>\n",
       "    <tr>\n",
       "      <th>1</th>\n",
       "      <td>25</td>\n",
       "      <td>13.0</td>\n",
       "    </tr>\n",
       "    <tr>\n",
       "      <th>2</th>\n",
       "      <td>38</td>\n",
       "      <td>13.0</td>\n",
       "    </tr>\n",
       "    <tr>\n",
       "      <th>3</th>\n",
       "      <td>51</td>\n",
       "      <td>13.0</td>\n",
       "    </tr>\n",
       "    <tr>\n",
       "      <th>4</th>\n",
       "      <td>64</td>\n",
       "      <td>13.0</td>\n",
       "    </tr>\n",
       "  </tbody>\n",
       "</table>\n",
       "</div>"
      ],
      "text/plain": [
       "   index  diff\n",
       "0     12  13.0\n",
       "1     25  13.0\n",
       "2     38  13.0\n",
       "3     51  13.0\n",
       "4     64  13.0"
      ]
     },
     "execution_count": 55,
     "metadata": {},
     "output_type": "execute_result"
    }
   ],
   "source": [
    "df_miss.head()"
   ]
  },
  {
   "cell_type": "markdown",
   "metadata": {},
   "source": [
    "### Get the indexes in which difference !=13 from the original dataset"
   ]
  },
  {
   "cell_type": "code",
   "execution_count": 56,
   "metadata": {},
   "outputs": [
    {
     "data": {
      "text/html": [
       "<div>\n",
       "<style>\n",
       "    .dataframe thead tr:only-child th {\n",
       "        text-align: right;\n",
       "    }\n",
       "\n",
       "    .dataframe thead th {\n",
       "        text-align: left;\n",
       "    }\n",
       "\n",
       "    .dataframe tbody tr th {\n",
       "        vertical-align: top;\n",
       "    }\n",
       "</style>\n",
       "<table border=\"1\" class=\"dataframe\">\n",
       "  <thead>\n",
       "    <tr style=\"text-align: right;\">\n",
       "      <th></th>\n",
       "      <th>index</th>\n",
       "      <th>diff</th>\n",
       "    </tr>\n",
       "  </thead>\n",
       "  <tbody>\n",
       "    <tr>\n",
       "      <th>124969</th>\n",
       "      <td>1624609</td>\n",
       "      <td>25.0</td>\n",
       "    </tr>\n",
       "    <tr>\n",
       "      <th>246054</th>\n",
       "      <td>3198726</td>\n",
       "      <td>25.0</td>\n",
       "    </tr>\n",
       "    <tr>\n",
       "      <th>415676</th>\n",
       "      <td>5403824</td>\n",
       "      <td>25.0</td>\n",
       "    </tr>\n",
       "    <tr>\n",
       "      <th>416375</th>\n",
       "      <td>5412923</td>\n",
       "      <td>25.0</td>\n",
       "    </tr>\n",
       "    <tr>\n",
       "      <th>775388</th>\n",
       "      <td>10080104</td>\n",
       "      <td>25.0</td>\n",
       "    </tr>\n",
       "    <tr>\n",
       "      <th>1097093</th>\n",
       "      <td>14262281</td>\n",
       "      <td>25.0</td>\n",
       "    </tr>\n",
       "    <tr>\n",
       "      <th>1177000</th>\n",
       "      <td>15301084</td>\n",
       "      <td>25.0</td>\n",
       "    </tr>\n",
       "    <tr>\n",
       "      <th>1246163</th>\n",
       "      <td>16200215</td>\n",
       "      <td>25.0</td>\n",
       "    </tr>\n",
       "    <tr>\n",
       "      <th>1246336</th>\n",
       "      <td>16202476</td>\n",
       "      <td>25.0</td>\n",
       "    </tr>\n",
       "    <tr>\n",
       "      <th>1378825</th>\n",
       "      <td>17924845</td>\n",
       "      <td>25.0</td>\n",
       "    </tr>\n",
       "    <tr>\n",
       "      <th>1386777</th>\n",
       "      <td>18028233</td>\n",
       "      <td>25.0</td>\n",
       "    </tr>\n",
       "    <tr>\n",
       "      <th>1547382</th>\n",
       "      <td>20116110</td>\n",
       "      <td>25.0</td>\n",
       "    </tr>\n",
       "    <tr>\n",
       "      <th>1586174</th>\n",
       "      <td>20620418</td>\n",
       "      <td>NaN</td>\n",
       "    </tr>\n",
       "  </tbody>\n",
       "</table>\n",
       "</div>"
      ],
      "text/plain": [
       "            index  diff\n",
       "124969    1624609  25.0\n",
       "246054    3198726  25.0\n",
       "415676    5403824  25.0\n",
       "416375    5412923  25.0\n",
       "775388   10080104  25.0\n",
       "1097093  14262281  25.0\n",
       "1177000  15301084  25.0\n",
       "1246163  16200215  25.0\n",
       "1246336  16202476  25.0\n",
       "1378825  17924845  25.0\n",
       "1386777  18028233  25.0\n",
       "1547382  20116110  25.0\n",
       "1586174  20620418   NaN"
      ]
     },
     "execution_count": 56,
     "metadata": {},
     "output_type": "execute_result"
    }
   ],
   "source": [
    "df_miss [df_miss['diff'] != 13.0]"
   ]
  },
  {
   "cell_type": "markdown",
   "metadata": {},
   "source": [
    "### Check the rows to fit"
   ]
  },
  {
   "cell_type": "code",
   "execution_count": 57,
   "metadata": {
    "collapsed": true
   },
   "outputs": [],
   "source": [
    "text = beer[beer['columnas'] == 'review/text']\n",
    "text.rename(columns={\n",
    "    'filas' : 'text'\n",
    "}\n",
    "              ,inplace = True)\n",
    "text= text['text']"
   ]
  },
  {
   "cell_type": "code",
   "execution_count": 58,
   "metadata": {
    "scrolled": true
   },
   "outputs": [
    {
     "data": {
      "text/plain": [
       "12    \" A lot of foam. But a lot.\\tIn the smell some...\n",
       "25    \" Dark red color, light beige foam, average.\\t...\n",
       "38    \" Almost totally black. Beige foam, quite comp...\n",
       "51    \" Golden yellow color. White, compact foam, qu...\n",
       "64    \" According to the website, the style for the ...\n",
       "Name: text, dtype: object"
      ]
     },
     "execution_count": 58,
     "metadata": {},
     "output_type": "execute_result"
    }
   ],
   "source": [
    "text.head()"
   ]
  },
  {
   "cell_type": "code",
   "execution_count": 59,
   "metadata": {},
   "outputs": [
    {
     "data": {
      "text/plain": [
       "1624609    \" Chesnut brown with an even layer of head. La...\n",
       "1624634    \" Rusty amber with caramel brown highlights. S...\n",
       "1624647    \" Pours solid brown and clear with a lace form...\n",
       "1624660    \" 330ml slim brown bottle dated best-before 1/...\n",
       "1624673    \" Served from a 11.2 oz bottle into a tulip gl...\n",
       "Name: text, dtype: object"
      ]
     },
     "execution_count": 59,
     "metadata": {},
     "output_type": "execute_result"
    }
   ],
   "source": [
    "text[124969:124974]"
   ]
  },
  {
   "cell_type": "code",
   "execution_count": 60,
   "metadata": {},
   "outputs": [
    {
     "data": {
      "text/plain": [
       "3198726    \" Growler fill from the always fantastic Andy'...\n",
       "3198751    \" Beer pours a dark, dark brown color with a m...\n",
       "3198764    \" 1/30/2005\\t$1.25\\t12 oz.\\t9.50%\\tBest by May...\n",
       "3198777    \" I must say, I enjoyed this a bit more than m...\n",
       "3198790    \" The beer poured into the glass blackish brow...\n",
       "3198803    \" Whoa! Grabbed this &lt;winter wheat&gt; to e...\n",
       "Name: text, dtype: object"
      ]
     },
     "execution_count": 60,
     "metadata": {},
     "output_type": "execute_result"
    }
   ],
   "source": [
    "text [246054: 246060]"
   ]
  },
  {
   "cell_type": "code",
   "execution_count": 61,
   "metadata": {},
   "outputs": [
    {
     "data": {
      "text/html": [
       "<div>\n",
       "<style>\n",
       "    .dataframe thead tr:only-child th {\n",
       "        text-align: right;\n",
       "    }\n",
       "\n",
       "    .dataframe thead th {\n",
       "        text-align: left;\n",
       "    }\n",
       "\n",
       "    .dataframe tbody tr th {\n",
       "        vertical-align: top;\n",
       "    }\n",
       "</style>\n",
       "<table border=\"1\" class=\"dataframe\">\n",
       "  <thead>\n",
       "    <tr style=\"text-align: right;\">\n",
       "      <th></th>\n",
       "      <th>names</th>\n",
       "      <th>Id</th>\n",
       "      <th>brewerId</th>\n",
       "      <th>ABV</th>\n",
       "      <th>style</th>\n",
       "      <th>appearance</th>\n",
       "      <th>aroma</th>\n",
       "      <th>palate</th>\n",
       "      <th>taste</th>\n",
       "      <th>overall</th>\n",
       "      <th>time</th>\n",
       "      <th>profile_name</th>\n",
       "    </tr>\n",
       "  </thead>\n",
       "  <tbody>\n",
       "    <tr>\n",
       "      <th>124969</th>\n",
       "      <td>Vichtenaar</td>\n",
       "      <td>10643</td>\n",
       "      <td>641</td>\n",
       "      <td>5.10</td>\n",
       "      <td>Flanders Red Ale</td>\n",
       "      <td>4.5</td>\n",
       "      <td>3.5</td>\n",
       "      <td>3</td>\n",
       "      <td>3.5</td>\n",
       "      <td>3.5</td>\n",
       "      <td>1176421694</td>\n",
       "      <td>malcontent</td>\n",
       "    </tr>\n",
       "    <tr>\n",
       "      <th>124970</th>\n",
       "      <td>Vichtenaar</td>\n",
       "      <td>10643</td>\n",
       "      <td>641</td>\n",
       "      <td>5.10</td>\n",
       "      <td>Flanders Red Ale</td>\n",
       "      <td>4</td>\n",
       "      <td>4</td>\n",
       "      <td>4</td>\n",
       "      <td>4</td>\n",
       "      <td>4.5</td>\n",
       "      <td>1176355712</td>\n",
       "      <td>msubulldog25</td>\n",
       "    </tr>\n",
       "    <tr>\n",
       "      <th>124971</th>\n",
       "      <td>Vichtenaar</td>\n",
       "      <td>10643</td>\n",
       "      <td>641</td>\n",
       "      <td>5.10</td>\n",
       "      <td>Flanders Red Ale</td>\n",
       "      <td>4</td>\n",
       "      <td>4.5</td>\n",
       "      <td>4</td>\n",
       "      <td>4.5</td>\n",
       "      <td>4.5</td>\n",
       "      <td>1164939613</td>\n",
       "      <td>alexgash</td>\n",
       "    </tr>\n",
       "  </tbody>\n",
       "</table>\n",
       "</div>"
      ],
      "text/plain": [
       "              names      Id brewerId    ABV              style appearance  \\\n",
       "124969   Vichtenaar   10643      641   5.10   Flanders Red Ale        4.5   \n",
       "124970   Vichtenaar   10643      641   5.10   Flanders Red Ale          4   \n",
       "124971   Vichtenaar   10643      641   5.10   Flanders Red Ale          4   \n",
       "\n",
       "       aroma palate taste overall         time   profile_name  \n",
       "124969   3.5      3   3.5     3.5   1176421694     malcontent  \n",
       "124970     4      4     4     4.5   1176355712   msubulldog25  \n",
       "124971   4.5      4   4.5     4.5   1164939613       alexgash  "
      ]
     },
     "execution_count": 61,
     "metadata": {},
     "output_type": "execute_result"
    }
   ],
   "source": [
    "df_beer[124969:124972]"
   ]
  },
  {
   "cell_type": "code",
   "execution_count": 62,
   "metadata": {},
   "outputs": [
    {
     "data": {
      "text/html": [
       "<div>\n",
       "<style>\n",
       "    .dataframe thead tr:only-child th {\n",
       "        text-align: right;\n",
       "    }\n",
       "\n",
       "    .dataframe thead th {\n",
       "        text-align: left;\n",
       "    }\n",
       "\n",
       "    .dataframe tbody tr th {\n",
       "        vertical-align: top;\n",
       "    }\n",
       "</style>\n",
       "<table border=\"1\" class=\"dataframe\">\n",
       "  <thead>\n",
       "    <tr style=\"text-align: right;\">\n",
       "      <th></th>\n",
       "      <th>names</th>\n",
       "      <th>Id</th>\n",
       "      <th>brewerId</th>\n",
       "      <th>ABV</th>\n",
       "      <th>style</th>\n",
       "      <th>appearance</th>\n",
       "      <th>aroma</th>\n",
       "      <th>palate</th>\n",
       "      <th>taste</th>\n",
       "      <th>overall</th>\n",
       "      <th>time</th>\n",
       "      <th>profile_name</th>\n",
       "    </tr>\n",
       "  </thead>\n",
       "  <tbody>\n",
       "    <tr>\n",
       "      <th>246054</th>\n",
       "      <td>Ramstein Winter Wheat</td>\n",
       "      <td>2743</td>\n",
       "      <td>607</td>\n",
       "      <td>9.50</td>\n",
       "      <td>Weizenbock</td>\n",
       "      <td>4.5</td>\n",
       "      <td>4.5</td>\n",
       "      <td>4.5</td>\n",
       "      <td>4.5</td>\n",
       "      <td>4.5</td>\n",
       "      <td>1165784289</td>\n",
       "      <td>jwc215</td>\n",
       "    </tr>\n",
       "    <tr>\n",
       "      <th>246055</th>\n",
       "      <td>Ramstein Winter Wheat</td>\n",
       "      <td>2743</td>\n",
       "      <td>607</td>\n",
       "      <td>9.50</td>\n",
       "      <td>Weizenbock</td>\n",
       "      <td>4.5</td>\n",
       "      <td>4.5</td>\n",
       "      <td>3.5</td>\n",
       "      <td>4</td>\n",
       "      <td>4</td>\n",
       "      <td>1164946415</td>\n",
       "      <td>yelterdow</td>\n",
       "    </tr>\n",
       "    <tr>\n",
       "      <th>246056</th>\n",
       "      <td>Ramstein Winter Wheat</td>\n",
       "      <td>2743</td>\n",
       "      <td>607</td>\n",
       "      <td>9.50</td>\n",
       "      <td>Weizenbock</td>\n",
       "      <td>3.5</td>\n",
       "      <td>4.5</td>\n",
       "      <td>4</td>\n",
       "      <td>4.5</td>\n",
       "      <td>4.5</td>\n",
       "      <td>1159298456</td>\n",
       "      <td>msubulldog25</td>\n",
       "    </tr>\n",
       "  </tbody>\n",
       "</table>\n",
       "</div>"
      ],
      "text/plain": [
       "                         names     Id brewerId    ABV        style appearance  \\\n",
       "246054   Ramstein Winter Wheat   2743      607   9.50   Weizenbock        4.5   \n",
       "246055   Ramstein Winter Wheat   2743      607   9.50   Weizenbock        4.5   \n",
       "246056   Ramstein Winter Wheat   2743      607   9.50   Weizenbock        3.5   \n",
       "\n",
       "       aroma palate taste overall         time   profile_name  \n",
       "246054   4.5    4.5   4.5     4.5   1165784289         jwc215  \n",
       "246055   4.5    3.5     4       4   1164946415      yelterdow  \n",
       "246056   4.5      4   4.5     4.5   1159298456   msubulldog25  "
      ]
     },
     "execution_count": 62,
     "metadata": {},
     "output_type": "execute_result"
    }
   ],
   "source": [
    "df_beer[246054:246057]"
   ]
  },
  {
   "cell_type": "markdown",
   "metadata": {},
   "source": [
    "### Drop the rows"
   ]
  },
  {
   "cell_type": "code",
   "execution_count": 63,
   "metadata": {
    "collapsed": true
   },
   "outputs": [],
   "source": [
    "df_beer=df_beer.drop(df_beer.index[[124970,246055,\n",
    "                                    415677,416376,\n",
    "                                    775389,1097094,\n",
    "                                    1177001,1246164,\n",
    "                                    1246337,1378826,\n",
    "                                    1386778,1547383]])"
   ]
  },
  {
   "cell_type": "code",
   "execution_count": 64,
   "metadata": {},
   "outputs": [
    {
     "data": {
      "text/plain": [
       "(1586175, 12)"
      ]
     },
     "execution_count": 64,
     "metadata": {},
     "output_type": "execute_result"
    }
   ],
   "source": [
    "df_beer.shape"
   ]
  },
  {
   "cell_type": "code",
   "execution_count": 65,
   "metadata": {},
   "outputs": [
    {
     "data": {
      "text/html": [
       "<div>\n",
       "<style>\n",
       "    .dataframe thead tr:only-child th {\n",
       "        text-align: right;\n",
       "    }\n",
       "\n",
       "    .dataframe thead th {\n",
       "        text-align: left;\n",
       "    }\n",
       "\n",
       "    .dataframe tbody tr th {\n",
       "        vertical-align: top;\n",
       "    }\n",
       "</style>\n",
       "<table border=\"1\" class=\"dataframe\">\n",
       "  <thead>\n",
       "    <tr style=\"text-align: right;\">\n",
       "      <th></th>\n",
       "      <th>names</th>\n",
       "      <th>Id</th>\n",
       "      <th>brewerId</th>\n",
       "      <th>ABV</th>\n",
       "      <th>style</th>\n",
       "      <th>appearance</th>\n",
       "      <th>aroma</th>\n",
       "      <th>palate</th>\n",
       "      <th>taste</th>\n",
       "      <th>overall</th>\n",
       "      <th>time</th>\n",
       "      <th>profile_name</th>\n",
       "    </tr>\n",
       "  </thead>\n",
       "  <tbody>\n",
       "    <tr>\n",
       "      <th>124969</th>\n",
       "      <td>Vichtenaar</td>\n",
       "      <td>10643</td>\n",
       "      <td>641</td>\n",
       "      <td>5.10</td>\n",
       "      <td>Flanders Red Ale</td>\n",
       "      <td>4.5</td>\n",
       "      <td>3.5</td>\n",
       "      <td>3</td>\n",
       "      <td>3.5</td>\n",
       "      <td>3.5</td>\n",
       "      <td>1176421694</td>\n",
       "      <td>malcontent</td>\n",
       "    </tr>\n",
       "    <tr>\n",
       "      <th>124971</th>\n",
       "      <td>Vichtenaar</td>\n",
       "      <td>10643</td>\n",
       "      <td>641</td>\n",
       "      <td>5.10</td>\n",
       "      <td>Flanders Red Ale</td>\n",
       "      <td>4</td>\n",
       "      <td>4.5</td>\n",
       "      <td>4</td>\n",
       "      <td>4.5</td>\n",
       "      <td>4.5</td>\n",
       "      <td>1164939613</td>\n",
       "      <td>alexgash</td>\n",
       "    </tr>\n",
       "    <tr>\n",
       "      <th>124972</th>\n",
       "      <td>Vichtenaar</td>\n",
       "      <td>10643</td>\n",
       "      <td>641</td>\n",
       "      <td>5.10</td>\n",
       "      <td>Flanders Red Ale</td>\n",
       "      <td>4.5</td>\n",
       "      <td>5</td>\n",
       "      <td>4.5</td>\n",
       "      <td>5</td>\n",
       "      <td>5</td>\n",
       "      <td>1164498691</td>\n",
       "      <td>nortmand</td>\n",
       "    </tr>\n",
       "  </tbody>\n",
       "</table>\n",
       "</div>"
      ],
      "text/plain": [
       "              names      Id brewerId    ABV              style appearance  \\\n",
       "124969   Vichtenaar   10643      641   5.10   Flanders Red Ale        4.5   \n",
       "124971   Vichtenaar   10643      641   5.10   Flanders Red Ale          4   \n",
       "124972   Vichtenaar   10643      641   5.10   Flanders Red Ale        4.5   \n",
       "\n",
       "       aroma palate taste overall         time profile_name  \n",
       "124969   3.5      3   3.5     3.5   1176421694   malcontent  \n",
       "124971   4.5      4   4.5     4.5   1164939613     alexgash  \n",
       "124972     5    4.5     5       5   1164498691     nortmand  "
      ]
     },
     "execution_count": 65,
     "metadata": {},
     "output_type": "execute_result"
    }
   ],
   "source": [
    "df_beer[124969:124972]"
   ]
  },
  {
   "cell_type": "markdown",
   "metadata": {},
   "source": [
    "### New index lengh"
   ]
  },
  {
   "cell_type": "code",
   "execution_count": 66,
   "metadata": {
    "collapsed": true
   },
   "outputs": [],
   "source": [
    "col_2 = pd.Series (range(0,1586175))\n",
    "df_beer.index = col_2"
   ]
  },
  {
   "cell_type": "code",
   "execution_count": 67,
   "metadata": {},
   "outputs": [
    {
     "data": {
      "text/html": [
       "<div>\n",
       "<style>\n",
       "    .dataframe thead tr:only-child th {\n",
       "        text-align: right;\n",
       "    }\n",
       "\n",
       "    .dataframe thead th {\n",
       "        text-align: left;\n",
       "    }\n",
       "\n",
       "    .dataframe tbody tr th {\n",
       "        vertical-align: top;\n",
       "    }\n",
       "</style>\n",
       "<table border=\"1\" class=\"dataframe\">\n",
       "  <thead>\n",
       "    <tr style=\"text-align: right;\">\n",
       "      <th></th>\n",
       "      <th>names</th>\n",
       "      <th>Id</th>\n",
       "      <th>brewerId</th>\n",
       "      <th>ABV</th>\n",
       "      <th>style</th>\n",
       "      <th>appearance</th>\n",
       "      <th>aroma</th>\n",
       "      <th>palate</th>\n",
       "      <th>taste</th>\n",
       "      <th>overall</th>\n",
       "      <th>time</th>\n",
       "      <th>profile_name</th>\n",
       "    </tr>\n",
       "  </thead>\n",
       "  <tbody>\n",
       "    <tr>\n",
       "      <th>124969</th>\n",
       "      <td>Vichtenaar</td>\n",
       "      <td>10643</td>\n",
       "      <td>641</td>\n",
       "      <td>5.10</td>\n",
       "      <td>Flanders Red Ale</td>\n",
       "      <td>4.5</td>\n",
       "      <td>3.5</td>\n",
       "      <td>3</td>\n",
       "      <td>3.5</td>\n",
       "      <td>3.5</td>\n",
       "      <td>1176421694</td>\n",
       "      <td>malcontent</td>\n",
       "    </tr>\n",
       "    <tr>\n",
       "      <th>124970</th>\n",
       "      <td>Vichtenaar</td>\n",
       "      <td>10643</td>\n",
       "      <td>641</td>\n",
       "      <td>5.10</td>\n",
       "      <td>Flanders Red Ale</td>\n",
       "      <td>4</td>\n",
       "      <td>4.5</td>\n",
       "      <td>4</td>\n",
       "      <td>4.5</td>\n",
       "      <td>4.5</td>\n",
       "      <td>1164939613</td>\n",
       "      <td>alexgash</td>\n",
       "    </tr>\n",
       "    <tr>\n",
       "      <th>124971</th>\n",
       "      <td>Vichtenaar</td>\n",
       "      <td>10643</td>\n",
       "      <td>641</td>\n",
       "      <td>5.10</td>\n",
       "      <td>Flanders Red Ale</td>\n",
       "      <td>4.5</td>\n",
       "      <td>5</td>\n",
       "      <td>4.5</td>\n",
       "      <td>5</td>\n",
       "      <td>5</td>\n",
       "      <td>1164498691</td>\n",
       "      <td>nortmand</td>\n",
       "    </tr>\n",
       "  </tbody>\n",
       "</table>\n",
       "</div>"
      ],
      "text/plain": [
       "              names      Id brewerId    ABV              style appearance  \\\n",
       "124969   Vichtenaar   10643      641   5.10   Flanders Red Ale        4.5   \n",
       "124970   Vichtenaar   10643      641   5.10   Flanders Red Ale          4   \n",
       "124971   Vichtenaar   10643      641   5.10   Flanders Red Ale        4.5   \n",
       "\n",
       "       aroma palate taste overall         time profile_name  \n",
       "124969   3.5      3   3.5     3.5   1176421694   malcontent  \n",
       "124970   4.5      4   4.5     4.5   1164939613     alexgash  \n",
       "124971     5    4.5     5       5   1164498691     nortmand  "
      ]
     },
     "execution_count": 67,
     "metadata": {},
     "output_type": "execute_result"
    }
   ],
   "source": [
    "df_beer[124969:124972]"
   ]
  },
  {
   "cell_type": "code",
   "execution_count": 68,
   "metadata": {
    "collapsed": true
   },
   "outputs": [],
   "source": [
    "text.index = col_2"
   ]
  },
  {
   "cell_type": "code",
   "execution_count": 69,
   "metadata": {},
   "outputs": [
    {
     "data": {
      "text/plain": [
       "1586170    \" Never has a beer struck me in such a way tha...\n",
       "1586171    \" What a fantastic pumpkin beer! Probably my m...\n",
       "1586172    \" My buddy got a growler from the Defiant Brew...\n",
       "1586173    \" If you're looking for a quality beer right a...\n",
       "1586174    \" Growler fill from the long-awaited Defiant B...\n",
       "Name: text, dtype: object"
      ]
     },
     "execution_count": 69,
     "metadata": {},
     "output_type": "execute_result"
    }
   ],
   "source": [
    "text.tail()"
   ]
  },
  {
   "cell_type": "code",
   "execution_count": 70,
   "metadata": {},
   "outputs": [
    {
     "data": {
      "text/plain": [
       "0    \" A lot of foam. But a lot.\\tIn the smell some...\n",
       "1    \" Dark red color, light beige foam, average.\\t...\n",
       "2    \" Almost totally black. Beige foam, quite comp...\n",
       "3    \" Golden yellow color. White, compact foam, qu...\n",
       "4    \" According to the website, the style for the ...\n",
       "Name: text, dtype: object"
      ]
     },
     "execution_count": 70,
     "metadata": {},
     "output_type": "execute_result"
    }
   ],
   "source": [
    "text.head()"
   ]
  },
  {
   "cell_type": "markdown",
   "metadata": {},
   "source": [
    "### Adding 'text' column "
   ]
  },
  {
   "cell_type": "code",
   "execution_count": 71,
   "metadata": {
    "collapsed": true
   },
   "outputs": [],
   "source": [
    "df_beer['text'] = text"
   ]
  },
  {
   "cell_type": "code",
   "execution_count": 72,
   "metadata": {},
   "outputs": [
    {
     "data": {
      "text/html": [
       "<div>\n",
       "<style>\n",
       "    .dataframe thead tr:only-child th {\n",
       "        text-align: right;\n",
       "    }\n",
       "\n",
       "    .dataframe thead th {\n",
       "        text-align: left;\n",
       "    }\n",
       "\n",
       "    .dataframe tbody tr th {\n",
       "        vertical-align: top;\n",
       "    }\n",
       "</style>\n",
       "<table border=\"1\" class=\"dataframe\">\n",
       "  <thead>\n",
       "    <tr style=\"text-align: right;\">\n",
       "      <th></th>\n",
       "      <th>names</th>\n",
       "      <th>Id</th>\n",
       "      <th>brewerId</th>\n",
       "      <th>ABV</th>\n",
       "      <th>style</th>\n",
       "      <th>appearance</th>\n",
       "      <th>aroma</th>\n",
       "      <th>palate</th>\n",
       "      <th>taste</th>\n",
       "      <th>overall</th>\n",
       "      <th>time</th>\n",
       "      <th>profile_name</th>\n",
       "      <th>text</th>\n",
       "    </tr>\n",
       "  </thead>\n",
       "  <tbody>\n",
       "    <tr>\n",
       "      <th>1586170</th>\n",
       "      <td>The Horseman's Ale</td>\n",
       "      <td>33061</td>\n",
       "      <td>14359</td>\n",
       "      <td>5.20</td>\n",
       "      <td>Pumpkin Ale</td>\n",
       "      <td>4</td>\n",
       "      <td>4.5</td>\n",
       "      <td>5</td>\n",
       "      <td>5</td>\n",
       "      <td>5</td>\n",
       "      <td>1162871808</td>\n",
       "      <td>blitheringidiot</td>\n",
       "      <td>\" Never has a beer struck me in such a way tha...</td>\n",
       "    </tr>\n",
       "    <tr>\n",
       "      <th>1586171</th>\n",
       "      <td>The Horseman's Ale</td>\n",
       "      <td>33061</td>\n",
       "      <td>14359</td>\n",
       "      <td>5.20</td>\n",
       "      <td>Pumpkin Ale</td>\n",
       "      <td>4.5</td>\n",
       "      <td>5</td>\n",
       "      <td>5</td>\n",
       "      <td>4.5</td>\n",
       "      <td>5</td>\n",
       "      <td>1162865640</td>\n",
       "      <td>PopeDX</td>\n",
       "      <td>\" What a fantastic pumpkin beer! Probably my m...</td>\n",
       "    </tr>\n",
       "    <tr>\n",
       "      <th>1586172</th>\n",
       "      <td>The Horseman's Ale</td>\n",
       "      <td>33061</td>\n",
       "      <td>14359</td>\n",
       "      <td>5.20</td>\n",
       "      <td>Pumpkin Ale</td>\n",
       "      <td>4</td>\n",
       "      <td>4</td>\n",
       "      <td>3.5</td>\n",
       "      <td>3</td>\n",
       "      <td>3.5</td>\n",
       "      <td>1162685856</td>\n",
       "      <td>treehugger02010</td>\n",
       "      <td>\" My buddy got a growler from the Defiant Brew...</td>\n",
       "    </tr>\n",
       "    <tr>\n",
       "      <th>1586173</th>\n",
       "      <td>The Horseman's Ale</td>\n",
       "      <td>33061</td>\n",
       "      <td>14359</td>\n",
       "      <td>5.20</td>\n",
       "      <td>Pumpkin Ale</td>\n",
       "      <td>3.5</td>\n",
       "      <td>4</td>\n",
       "      <td>4</td>\n",
       "      <td>4</td>\n",
       "      <td>5</td>\n",
       "      <td>1162684892</td>\n",
       "      <td>maddogruss</td>\n",
       "      <td>\" If you're looking for a quality beer right a...</td>\n",
       "    </tr>\n",
       "    <tr>\n",
       "      <th>1586174</th>\n",
       "      <td>The Horseman's Ale</td>\n",
       "      <td>33061</td>\n",
       "      <td>14359</td>\n",
       "      <td>5.20</td>\n",
       "      <td>Pumpkin Ale</td>\n",
       "      <td>2.5</td>\n",
       "      <td>5</td>\n",
       "      <td>2</td>\n",
       "      <td>4</td>\n",
       "      <td>4</td>\n",
       "      <td>1161048566</td>\n",
       "      <td>yelterdow</td>\n",
       "      <td>\" Growler fill from the long-awaited Defiant B...</td>\n",
       "    </tr>\n",
       "  </tbody>\n",
       "</table>\n",
       "</div>"
      ],
      "text/plain": [
       "                       names      Id brewerId    ABV         style appearance  \\\n",
       "1586170   The Horseman's Ale   33061    14359   5.20   Pumpkin Ale          4   \n",
       "1586171   The Horseman's Ale   33061    14359   5.20   Pumpkin Ale        4.5   \n",
       "1586172   The Horseman's Ale   33061    14359   5.20   Pumpkin Ale          4   \n",
       "1586173   The Horseman's Ale   33061    14359   5.20   Pumpkin Ale        3.5   \n",
       "1586174   The Horseman's Ale   33061    14359   5.20   Pumpkin Ale        2.5   \n",
       "\n",
       "        aroma palate taste overall         time      profile_name  \\\n",
       "1586170   4.5      5     5       5   1162871808   blitheringidiot   \n",
       "1586171     5      5   4.5       5   1162865640            PopeDX   \n",
       "1586172     4    3.5     3     3.5   1162685856   treehugger02010   \n",
       "1586173     4      4     4       5   1162684892        maddogruss   \n",
       "1586174     5      2     4       4   1161048566         yelterdow   \n",
       "\n",
       "                                                      text  \n",
       "1586170  \" Never has a beer struck me in such a way tha...  \n",
       "1586171  \" What a fantastic pumpkin beer! Probably my m...  \n",
       "1586172  \" My buddy got a growler from the Defiant Brew...  \n",
       "1586173  \" If you're looking for a quality beer right a...  \n",
       "1586174  \" Growler fill from the long-awaited Defiant B...  "
      ]
     },
     "execution_count": 72,
     "metadata": {},
     "output_type": "execute_result"
    }
   ],
   "source": [
    "df_beer.tail()"
   ]
  },
  {
   "cell_type": "code",
   "execution_count": 73,
   "metadata": {
    "scrolled": false
   },
   "outputs": [
    {
     "data": {
      "text/html": [
       "<div>\n",
       "<style>\n",
       "    .dataframe thead tr:only-child th {\n",
       "        text-align: right;\n",
       "    }\n",
       "\n",
       "    .dataframe thead th {\n",
       "        text-align: left;\n",
       "    }\n",
       "\n",
       "    .dataframe tbody tr th {\n",
       "        vertical-align: top;\n",
       "    }\n",
       "</style>\n",
       "<table border=\"1\" class=\"dataframe\">\n",
       "  <thead>\n",
       "    <tr style=\"text-align: right;\">\n",
       "      <th></th>\n",
       "      <th>names</th>\n",
       "      <th>Id</th>\n",
       "      <th>brewerId</th>\n",
       "      <th>ABV</th>\n",
       "      <th>style</th>\n",
       "      <th>appearance</th>\n",
       "      <th>aroma</th>\n",
       "      <th>palate</th>\n",
       "      <th>taste</th>\n",
       "      <th>overall</th>\n",
       "      <th>time</th>\n",
       "      <th>profile_name</th>\n",
       "      <th>text</th>\n",
       "    </tr>\n",
       "  </thead>\n",
       "  <tbody>\n",
       "    <tr>\n",
       "      <th>0</th>\n",
       "      <td>Sausa Weizen</td>\n",
       "      <td>47986</td>\n",
       "      <td>10325</td>\n",
       "      <td>5.00</td>\n",
       "      <td>Hefeweizen</td>\n",
       "      <td>2.5</td>\n",
       "      <td>2</td>\n",
       "      <td>1.5</td>\n",
       "      <td>1.5</td>\n",
       "      <td>1.5</td>\n",
       "      <td>1234817823</td>\n",
       "      <td>stcules</td>\n",
       "      <td>\" A lot of foam. But a lot.\\tIn the smell some...</td>\n",
       "    </tr>\n",
       "    <tr>\n",
       "      <th>1</th>\n",
       "      <td>Red Moon</td>\n",
       "      <td>48213</td>\n",
       "      <td>10325</td>\n",
       "      <td>6.20</td>\n",
       "      <td>English Strong Ale</td>\n",
       "      <td>3</td>\n",
       "      <td>2.5</td>\n",
       "      <td>3</td>\n",
       "      <td>3</td>\n",
       "      <td>3</td>\n",
       "      <td>1235915097</td>\n",
       "      <td>stcules</td>\n",
       "      <td>\" Dark red color, light beige foam, average.\\t...</td>\n",
       "    </tr>\n",
       "    <tr>\n",
       "      <th>2</th>\n",
       "      <td>Black Horse Black Beer</td>\n",
       "      <td>48215</td>\n",
       "      <td>10325</td>\n",
       "      <td>6.50</td>\n",
       "      <td>Foreign / Export Stout</td>\n",
       "      <td>3</td>\n",
       "      <td>2.5</td>\n",
       "      <td>3</td>\n",
       "      <td>3</td>\n",
       "      <td>3</td>\n",
       "      <td>1235916604</td>\n",
       "      <td>stcules</td>\n",
       "      <td>\" Almost totally black. Beige foam, quite comp...</td>\n",
       "    </tr>\n",
       "    <tr>\n",
       "      <th>3</th>\n",
       "      <td>Sausa Pils</td>\n",
       "      <td>47969</td>\n",
       "      <td>10325</td>\n",
       "      <td>5.00</td>\n",
       "      <td>German Pilsener</td>\n",
       "      <td>3.5</td>\n",
       "      <td>3</td>\n",
       "      <td>2.5</td>\n",
       "      <td>3</td>\n",
       "      <td>3</td>\n",
       "      <td>1234725145</td>\n",
       "      <td>stcules</td>\n",
       "      <td>\" Golden yellow color. White, compact foam, qu...</td>\n",
       "    </tr>\n",
       "    <tr>\n",
       "      <th>4</th>\n",
       "      <td>Cauldron DIPA</td>\n",
       "      <td>64883</td>\n",
       "      <td>1075</td>\n",
       "      <td>7.70</td>\n",
       "      <td>American Double / Imperial IPA</td>\n",
       "      <td>4</td>\n",
       "      <td>4.5</td>\n",
       "      <td>4</td>\n",
       "      <td>4.5</td>\n",
       "      <td>4</td>\n",
       "      <td>1293735206</td>\n",
       "      <td>johnmichaelsen</td>\n",
       "      <td>\" According to the website, the style for the ...</td>\n",
       "    </tr>\n",
       "  </tbody>\n",
       "</table>\n",
       "</div>"
      ],
      "text/plain": [
       "                     names      Id brewerId    ABV  \\\n",
       "0             Sausa Weizen   47986    10325   5.00   \n",
       "1                 Red Moon   48213    10325   6.20   \n",
       "2   Black Horse Black Beer   48215    10325   6.50   \n",
       "3               Sausa Pils   47969    10325   5.00   \n",
       "4            Cauldron DIPA   64883     1075   7.70   \n",
       "\n",
       "                             style appearance aroma palate taste overall  \\\n",
       "0                       Hefeweizen        2.5     2    1.5   1.5     1.5   \n",
       "1               English Strong Ale          3   2.5      3     3       3   \n",
       "2           Foreign / Export Stout          3   2.5      3     3       3   \n",
       "3                  German Pilsener        3.5     3    2.5     3       3   \n",
       "4   American Double / Imperial IPA          4   4.5      4   4.5       4   \n",
       "\n",
       "          time     profile_name  \\\n",
       "0   1234817823          stcules   \n",
       "1   1235915097          stcules   \n",
       "2   1235916604          stcules   \n",
       "3   1234725145          stcules   \n",
       "4   1293735206   johnmichaelsen   \n",
       "\n",
       "                                                text  \n",
       "0  \" A lot of foam. But a lot.\\tIn the smell some...  \n",
       "1  \" Dark red color, light beige foam, average.\\t...  \n",
       "2  \" Almost totally black. Beige foam, quite comp...  \n",
       "3  \" Golden yellow color. White, compact foam, qu...  \n",
       "4  \" According to the website, the style for the ...  "
      ]
     },
     "execution_count": 73,
     "metadata": {},
     "output_type": "execute_result"
    }
   ],
   "source": [
    "df_beer.head()"
   ]
  },
  {
   "cell_type": "code",
   "execution_count": 74,
   "metadata": {
    "collapsed": true
   },
   "outputs": [],
   "source": [
    "df_beer.to_csv('df_before_dates.csv')"
   ]
  },
  {
   "cell_type": "markdown",
   "metadata": {},
   "source": [
    "### Change the time format to get dates"
   ]
  },
  {
   "cell_type": "code",
   "execution_count": 75,
   "metadata": {
    "collapsed": true
   },
   "outputs": [],
   "source": [
    "beer = pd.read_csv('df_beers.csv')"
   ]
  },
  {
   "cell_type": "code",
   "execution_count": 76,
   "metadata": {},
   "outputs": [
    {
     "data": {
      "text/plain": [
       "0    1234817823\n",
       "1    1235915097\n",
       "Name: time, dtype: int64"
      ]
     },
     "execution_count": 76,
     "metadata": {},
     "output_type": "execute_result"
    }
   ],
   "source": [
    "beer['time'].head(2)"
   ]
  },
  {
   "cell_type": "code",
   "execution_count": 77,
   "metadata": {
    "collapsed": true
   },
   "outputs": [],
   "source": [
    "def convert_stamp_to_date(stamp):\n",
    "    try:\n",
    "        d = datetime.datetime.utcfromtimestamp(stamp)\n",
    "    except:\n",
    "        d = datetime.datetime.utcfromtimestamp(0)\n",
    "    d = datetime.datetime(d.year, d.month, d.day)\n",
    "    return d"
   ]
  },
  {
   "cell_type": "code",
   "execution_count": 78,
   "metadata": {
    "collapsed": true
   },
   "outputs": [],
   "source": [
    "beer['time2'] = beer['time'].apply(lambda x: convert_stamp_to_date(x))"
   ]
  },
  {
   "cell_type": "code",
   "execution_count": 79,
   "metadata": {},
   "outputs": [
    {
     "data": {
      "text/plain": [
       "0   2009-02-16\n",
       "1   2009-03-01\n",
       "2   2009-03-01\n",
       "3   2009-02-15\n",
       "4   2010-12-30\n",
       "Name: time2, dtype: datetime64[ns]"
      ]
     },
     "execution_count": 79,
     "metadata": {},
     "output_type": "execute_result"
    }
   ],
   "source": [
    "beer['time2'].head() "
   ]
  },
  {
   "cell_type": "code",
   "execution_count": 80,
   "metadata": {},
   "outputs": [
    {
     "data": {
      "text/html": [
       "<div>\n",
       "<style>\n",
       "    .dataframe thead tr:only-child th {\n",
       "        text-align: right;\n",
       "    }\n",
       "\n",
       "    .dataframe thead th {\n",
       "        text-align: left;\n",
       "    }\n",
       "\n",
       "    .dataframe tbody tr th {\n",
       "        vertical-align: top;\n",
       "    }\n",
       "</style>\n",
       "<table border=\"1\" class=\"dataframe\">\n",
       "  <thead>\n",
       "    <tr style=\"text-align: right;\">\n",
       "      <th></th>\n",
       "      <th>Unnamed: 0</th>\n",
       "      <th>names</th>\n",
       "      <th>Id</th>\n",
       "      <th>brewerId</th>\n",
       "      <th>ABV</th>\n",
       "      <th>style</th>\n",
       "      <th>appearance</th>\n",
       "      <th>aroma</th>\n",
       "      <th>palate</th>\n",
       "      <th>taste</th>\n",
       "      <th>overall</th>\n",
       "      <th>time</th>\n",
       "      <th>profile_name</th>\n",
       "      <th>text</th>\n",
       "      <th>time2</th>\n",
       "      <th>day</th>\n",
       "      <th>month</th>\n",
       "      <th>year</th>\n",
       "      <th>user_id</th>\n",
       "    </tr>\n",
       "  </thead>\n",
       "  <tbody>\n",
       "    <tr>\n",
       "      <th>0</th>\n",
       "      <td>0</td>\n",
       "      <td>Sausa Weizen</td>\n",
       "      <td>47986</td>\n",
       "      <td>10325</td>\n",
       "      <td>5.0</td>\n",
       "      <td>Hefeweizen</td>\n",
       "      <td>2.5</td>\n",
       "      <td>2.0</td>\n",
       "      <td>1.5</td>\n",
       "      <td>1.5</td>\n",
       "      <td>1.5</td>\n",
       "      <td>1234817823</td>\n",
       "      <td>stcules</td>\n",
       "      <td>\" A lot of foam. But a lot.\\tIn the smell some...</td>\n",
       "      <td>2009-02-16</td>\n",
       "      <td>1</td>\n",
       "      <td>1</td>\n",
       "      <td>1970</td>\n",
       "      <td>30561</td>\n",
       "    </tr>\n",
       "    <tr>\n",
       "      <th>1</th>\n",
       "      <td>1</td>\n",
       "      <td>Red Moon</td>\n",
       "      <td>48213</td>\n",
       "      <td>10325</td>\n",
       "      <td>6.2</td>\n",
       "      <td>English Strong Ale</td>\n",
       "      <td>3.0</td>\n",
       "      <td>2.5</td>\n",
       "      <td>3.0</td>\n",
       "      <td>3.0</td>\n",
       "      <td>3.0</td>\n",
       "      <td>1235915097</td>\n",
       "      <td>stcules</td>\n",
       "      <td>\" Dark red color, light beige foam, average.\\t...</td>\n",
       "      <td>2009-03-01</td>\n",
       "      <td>1</td>\n",
       "      <td>1</td>\n",
       "      <td>1970</td>\n",
       "      <td>30561</td>\n",
       "    </tr>\n",
       "    <tr>\n",
       "      <th>2</th>\n",
       "      <td>2</td>\n",
       "      <td>Black Horse Black Beer</td>\n",
       "      <td>48215</td>\n",
       "      <td>10325</td>\n",
       "      <td>6.5</td>\n",
       "      <td>Foreign / Export Stout</td>\n",
       "      <td>3.0</td>\n",
       "      <td>2.5</td>\n",
       "      <td>3.0</td>\n",
       "      <td>3.0</td>\n",
       "      <td>3.0</td>\n",
       "      <td>1235916604</td>\n",
       "      <td>stcules</td>\n",
       "      <td>\" Almost totally black. Beige foam, quite comp...</td>\n",
       "      <td>2009-03-01</td>\n",
       "      <td>1</td>\n",
       "      <td>1</td>\n",
       "      <td>1970</td>\n",
       "      <td>30561</td>\n",
       "    </tr>\n",
       "    <tr>\n",
       "      <th>3</th>\n",
       "      <td>3</td>\n",
       "      <td>Sausa Pils</td>\n",
       "      <td>47969</td>\n",
       "      <td>10325</td>\n",
       "      <td>5.0</td>\n",
       "      <td>German Pilsener</td>\n",
       "      <td>3.5</td>\n",
       "      <td>3.0</td>\n",
       "      <td>2.5</td>\n",
       "      <td>3.0</td>\n",
       "      <td>3.0</td>\n",
       "      <td>1234725145</td>\n",
       "      <td>stcules</td>\n",
       "      <td>\" Golden yellow color. White, compact foam, qu...</td>\n",
       "      <td>2009-02-15</td>\n",
       "      <td>1</td>\n",
       "      <td>1</td>\n",
       "      <td>1970</td>\n",
       "      <td>30561</td>\n",
       "    </tr>\n",
       "    <tr>\n",
       "      <th>4</th>\n",
       "      <td>4</td>\n",
       "      <td>Cauldron DIPA</td>\n",
       "      <td>64883</td>\n",
       "      <td>1075</td>\n",
       "      <td>7.7</td>\n",
       "      <td>American Double / Imperial IPA</td>\n",
       "      <td>4.0</td>\n",
       "      <td>4.5</td>\n",
       "      <td>4.0</td>\n",
       "      <td>4.5</td>\n",
       "      <td>4.0</td>\n",
       "      <td>1293735206</td>\n",
       "      <td>johnmichaelsen</td>\n",
       "      <td>\" According to the website, the style for the ...</td>\n",
       "      <td>2010-12-30</td>\n",
       "      <td>1</td>\n",
       "      <td>1</td>\n",
       "      <td>1970</td>\n",
       "      <td>23004</td>\n",
       "    </tr>\n",
       "  </tbody>\n",
       "</table>\n",
       "</div>"
      ],
      "text/plain": [
       "   Unnamed: 0                    names     Id  brewerId  ABV  \\\n",
       "0           0             Sausa Weizen  47986     10325  5.0   \n",
       "1           1                 Red Moon  48213     10325  6.2   \n",
       "2           2   Black Horse Black Beer  48215     10325  6.5   \n",
       "3           3               Sausa Pils  47969     10325  5.0   \n",
       "4           4            Cauldron DIPA  64883      1075  7.7   \n",
       "\n",
       "                             style  appearance  aroma  palate  taste  overall  \\\n",
       "0                       Hefeweizen         2.5    2.0     1.5    1.5      1.5   \n",
       "1               English Strong Ale         3.0    2.5     3.0    3.0      3.0   \n",
       "2           Foreign / Export Stout         3.0    2.5     3.0    3.0      3.0   \n",
       "3                  German Pilsener         3.5    3.0     2.5    3.0      3.0   \n",
       "4   American Double / Imperial IPA         4.0    4.5     4.0    4.5      4.0   \n",
       "\n",
       "         time     profile_name  \\\n",
       "0  1234817823          stcules   \n",
       "1  1235915097          stcules   \n",
       "2  1235916604          stcules   \n",
       "3  1234725145          stcules   \n",
       "4  1293735206   johnmichaelsen   \n",
       "\n",
       "                                                text      time2  day  month  \\\n",
       "0  \" A lot of foam. But a lot.\\tIn the smell some... 2009-02-16    1      1   \n",
       "1  \" Dark red color, light beige foam, average.\\t... 2009-03-01    1      1   \n",
       "2  \" Almost totally black. Beige foam, quite comp... 2009-03-01    1      1   \n",
       "3  \" Golden yellow color. White, compact foam, qu... 2009-02-15    1      1   \n",
       "4  \" According to the website, the style for the ... 2010-12-30    1      1   \n",
       "\n",
       "   year  user_id  \n",
       "0  1970    30561  \n",
       "1  1970    30561  \n",
       "2  1970    30561  \n",
       "3  1970    30561  \n",
       "4  1970    23004  "
      ]
     },
     "execution_count": 80,
     "metadata": {},
     "output_type": "execute_result"
    }
   ],
   "source": [
    "beer.head()"
   ]
  },
  {
   "cell_type": "markdown",
   "metadata": {},
   "source": [
    "### Split in Year, Month, Day"
   ]
  },
  {
   "cell_type": "code",
   "execution_count": 81,
   "metadata": {
    "collapsed": true
   },
   "outputs": [],
   "source": [
    "beer[\"day\"] = beer['time2'].map(lambda x: x.day)\n",
    "beer[\"month\"] = beer['time2'].map(lambda x: x.month)\n",
    "beer[\"year\"] = beer['time2'].map(lambda x: x.year)"
   ]
  },
  {
   "cell_type": "code",
   "execution_count": 82,
   "metadata": {},
   "outputs": [
    {
     "data": {
      "text/html": [
       "<div>\n",
       "<style>\n",
       "    .dataframe thead tr:only-child th {\n",
       "        text-align: right;\n",
       "    }\n",
       "\n",
       "    .dataframe thead th {\n",
       "        text-align: left;\n",
       "    }\n",
       "\n",
       "    .dataframe tbody tr th {\n",
       "        vertical-align: top;\n",
       "    }\n",
       "</style>\n",
       "<table border=\"1\" class=\"dataframe\">\n",
       "  <thead>\n",
       "    <tr style=\"text-align: right;\">\n",
       "      <th></th>\n",
       "      <th>Unnamed: 0</th>\n",
       "      <th>names</th>\n",
       "      <th>Id</th>\n",
       "      <th>brewerId</th>\n",
       "      <th>ABV</th>\n",
       "      <th>style</th>\n",
       "      <th>appearance</th>\n",
       "      <th>aroma</th>\n",
       "      <th>palate</th>\n",
       "      <th>taste</th>\n",
       "      <th>overall</th>\n",
       "      <th>time</th>\n",
       "      <th>profile_name</th>\n",
       "      <th>text</th>\n",
       "      <th>time2</th>\n",
       "      <th>day</th>\n",
       "      <th>month</th>\n",
       "      <th>year</th>\n",
       "      <th>user_id</th>\n",
       "    </tr>\n",
       "  </thead>\n",
       "  <tbody>\n",
       "    <tr>\n",
       "      <th>0</th>\n",
       "      <td>0</td>\n",
       "      <td>Sausa Weizen</td>\n",
       "      <td>47986</td>\n",
       "      <td>10325</td>\n",
       "      <td>5.0</td>\n",
       "      <td>Hefeweizen</td>\n",
       "      <td>2.5</td>\n",
       "      <td>2.0</td>\n",
       "      <td>1.5</td>\n",
       "      <td>1.5</td>\n",
       "      <td>1.5</td>\n",
       "      <td>1234817823</td>\n",
       "      <td>stcules</td>\n",
       "      <td>\" A lot of foam. But a lot.\\tIn the smell some...</td>\n",
       "      <td>2009-02-16</td>\n",
       "      <td>16</td>\n",
       "      <td>2</td>\n",
       "      <td>2009</td>\n",
       "      <td>30561</td>\n",
       "    </tr>\n",
       "    <tr>\n",
       "      <th>1</th>\n",
       "      <td>1</td>\n",
       "      <td>Red Moon</td>\n",
       "      <td>48213</td>\n",
       "      <td>10325</td>\n",
       "      <td>6.2</td>\n",
       "      <td>English Strong Ale</td>\n",
       "      <td>3.0</td>\n",
       "      <td>2.5</td>\n",
       "      <td>3.0</td>\n",
       "      <td>3.0</td>\n",
       "      <td>3.0</td>\n",
       "      <td>1235915097</td>\n",
       "      <td>stcules</td>\n",
       "      <td>\" Dark red color, light beige foam, average.\\t...</td>\n",
       "      <td>2009-03-01</td>\n",
       "      <td>1</td>\n",
       "      <td>3</td>\n",
       "      <td>2009</td>\n",
       "      <td>30561</td>\n",
       "    </tr>\n",
       "    <tr>\n",
       "      <th>2</th>\n",
       "      <td>2</td>\n",
       "      <td>Black Horse Black Beer</td>\n",
       "      <td>48215</td>\n",
       "      <td>10325</td>\n",
       "      <td>6.5</td>\n",
       "      <td>Foreign / Export Stout</td>\n",
       "      <td>3.0</td>\n",
       "      <td>2.5</td>\n",
       "      <td>3.0</td>\n",
       "      <td>3.0</td>\n",
       "      <td>3.0</td>\n",
       "      <td>1235916604</td>\n",
       "      <td>stcules</td>\n",
       "      <td>\" Almost totally black. Beige foam, quite comp...</td>\n",
       "      <td>2009-03-01</td>\n",
       "      <td>1</td>\n",
       "      <td>3</td>\n",
       "      <td>2009</td>\n",
       "      <td>30561</td>\n",
       "    </tr>\n",
       "    <tr>\n",
       "      <th>3</th>\n",
       "      <td>3</td>\n",
       "      <td>Sausa Pils</td>\n",
       "      <td>47969</td>\n",
       "      <td>10325</td>\n",
       "      <td>5.0</td>\n",
       "      <td>German Pilsener</td>\n",
       "      <td>3.5</td>\n",
       "      <td>3.0</td>\n",
       "      <td>2.5</td>\n",
       "      <td>3.0</td>\n",
       "      <td>3.0</td>\n",
       "      <td>1234725145</td>\n",
       "      <td>stcules</td>\n",
       "      <td>\" Golden yellow color. White, compact foam, qu...</td>\n",
       "      <td>2009-02-15</td>\n",
       "      <td>15</td>\n",
       "      <td>2</td>\n",
       "      <td>2009</td>\n",
       "      <td>30561</td>\n",
       "    </tr>\n",
       "    <tr>\n",
       "      <th>4</th>\n",
       "      <td>4</td>\n",
       "      <td>Cauldron DIPA</td>\n",
       "      <td>64883</td>\n",
       "      <td>1075</td>\n",
       "      <td>7.7</td>\n",
       "      <td>American Double / Imperial IPA</td>\n",
       "      <td>4.0</td>\n",
       "      <td>4.5</td>\n",
       "      <td>4.0</td>\n",
       "      <td>4.5</td>\n",
       "      <td>4.0</td>\n",
       "      <td>1293735206</td>\n",
       "      <td>johnmichaelsen</td>\n",
       "      <td>\" According to the website, the style for the ...</td>\n",
       "      <td>2010-12-30</td>\n",
       "      <td>30</td>\n",
       "      <td>12</td>\n",
       "      <td>2010</td>\n",
       "      <td>23004</td>\n",
       "    </tr>\n",
       "  </tbody>\n",
       "</table>\n",
       "</div>"
      ],
      "text/plain": [
       "   Unnamed: 0                    names     Id  brewerId  ABV  \\\n",
       "0           0             Sausa Weizen  47986     10325  5.0   \n",
       "1           1                 Red Moon  48213     10325  6.2   \n",
       "2           2   Black Horse Black Beer  48215     10325  6.5   \n",
       "3           3               Sausa Pils  47969     10325  5.0   \n",
       "4           4            Cauldron DIPA  64883      1075  7.7   \n",
       "\n",
       "                             style  appearance  aroma  palate  taste  overall  \\\n",
       "0                       Hefeweizen         2.5    2.0     1.5    1.5      1.5   \n",
       "1               English Strong Ale         3.0    2.5     3.0    3.0      3.0   \n",
       "2           Foreign / Export Stout         3.0    2.5     3.0    3.0      3.0   \n",
       "3                  German Pilsener         3.5    3.0     2.5    3.0      3.0   \n",
       "4   American Double / Imperial IPA         4.0    4.5     4.0    4.5      4.0   \n",
       "\n",
       "         time     profile_name  \\\n",
       "0  1234817823          stcules   \n",
       "1  1235915097          stcules   \n",
       "2  1235916604          stcules   \n",
       "3  1234725145          stcules   \n",
       "4  1293735206   johnmichaelsen   \n",
       "\n",
       "                                                text      time2  day  month  \\\n",
       "0  \" A lot of foam. But a lot.\\tIn the smell some... 2009-02-16   16      2   \n",
       "1  \" Dark red color, light beige foam, average.\\t... 2009-03-01    1      3   \n",
       "2  \" Almost totally black. Beige foam, quite comp... 2009-03-01    1      3   \n",
       "3  \" Golden yellow color. White, compact foam, qu... 2009-02-15   15      2   \n",
       "4  \" According to the website, the style for the ... 2010-12-30   30     12   \n",
       "\n",
       "   year  user_id  \n",
       "0  2009    30561  \n",
       "1  2009    30561  \n",
       "2  2009    30561  \n",
       "3  2009    30561  \n",
       "4  2010    23004  "
      ]
     },
     "execution_count": 82,
     "metadata": {},
     "output_type": "execute_result"
    }
   ],
   "source": [
    "beer.head()"
   ]
  },
  {
   "cell_type": "markdown",
   "metadata": {
    "collapsed": true
   },
   "source": [
    "### eliminate NAN"
   ]
  },
  {
   "cell_type": "code",
   "execution_count": 83,
   "metadata": {
    "collapsed": true
   },
   "outputs": [],
   "source": [
    "beer=beer.replace(' ', np.nan)"
   ]
  },
  {
   "cell_type": "code",
   "execution_count": 84,
   "metadata": {},
   "outputs": [
    {
     "data": {
      "text/plain": [
       "[]"
      ]
     },
     "execution_count": 84,
     "metadata": {},
     "output_type": "execute_result"
    }
   ],
   "source": [
    "beer.columns[beer.isnull().any()].tolist() "
   ]
  },
  {
   "cell_type": "markdown",
   "metadata": {
    "collapsed": true
   },
   "source": [
    "### Is there any column with missing values?"
   ]
  },
  {
   "cell_type": "code",
   "execution_count": 85,
   "metadata": {},
   "outputs": [
    {
     "data": {
      "text/plain": [
       "[]"
      ]
     },
     "execution_count": 85,
     "metadata": {},
     "output_type": "execute_result"
    }
   ],
   "source": [
    "beer.columns[beer.isnull().any()].tolist() "
   ]
  },
  {
   "cell_type": "markdown",
   "metadata": {},
   "source": [
    "### How many missing values are in each of those columns?"
   ]
  },
  {
   "cell_type": "code",
   "execution_count": 86,
   "metadata": {},
   "outputs": [
    {
     "data": {
      "text/plain": [
       "Unnamed: 0      0\n",
       "names           0\n",
       "Id              0\n",
       "brewerId        0\n",
       "ABV             0\n",
       "style           0\n",
       "appearance      0\n",
       "aroma           0\n",
       "palate          0\n",
       "taste           0\n",
       "overall         0\n",
       "time            0\n",
       "profile_name    0\n",
       "text            0\n",
       "time2           0\n",
       "day             0\n",
       "month           0\n",
       "year            0\n",
       "user_id         0\n",
       "dtype: int64"
      ]
     },
     "execution_count": 86,
     "metadata": {},
     "output_type": "execute_result"
    }
   ],
   "source": [
    "pd.isnull(beer).sum()"
   ]
  },
  {
   "cell_type": "markdown",
   "metadata": {},
   "source": [
    "### How to proceed with the missing values?\n",
    "1.We are going to delete the profile name rows with missing values, since if we do not know which consumer it is, the associated data to that rows are not useful for our  recommendation system   \n",
    "2.The missing  ABV  values will be replace for a \"99\" which is easy to identify and is not going to mixed up with the real values   \n",
    "3.Lastly, the missing text values are going to be recoded as \"no comments\""
   ]
  },
  {
   "cell_type": "code",
   "execution_count": 87,
   "metadata": {},
   "outputs": [
    {
     "data": {
      "text/plain": [
       "0"
      ]
     },
     "execution_count": 87,
     "metadata": {},
     "output_type": "execute_result"
    }
   ],
   "source": [
    "beer.ABV=beer.ABV.fillna(value=99)\n",
    "beer.ABV.isnull().sum()"
   ]
  },
  {
   "cell_type": "code",
   "execution_count": 88,
   "metadata": {},
   "outputs": [
    {
     "data": {
      "text/plain": [
       "0"
      ]
     },
     "execution_count": 88,
     "metadata": {},
     "output_type": "execute_result"
    }
   ],
   "source": [
    "beer.text=beer.text.fillna(value=\"no comments\")\n",
    "beer.text.isnull().sum()"
   ]
  },
  {
   "cell_type": "code",
   "execution_count": 89,
   "metadata": {
    "collapsed": true
   },
   "outputs": [],
   "source": [
    "beer=beer.dropna(axis=0)"
   ]
  },
  {
   "cell_type": "code",
   "execution_count": 90,
   "metadata": {},
   "outputs": [
    {
     "data": {
      "text/plain": [
       "[]"
      ]
     },
     "execution_count": 90,
     "metadata": {},
     "output_type": "execute_result"
    }
   ],
   "source": [
    "beer.columns[beer.isnull().any()].tolist() "
   ]
  },
  {
   "cell_type": "code",
   "execution_count": 91,
   "metadata": {},
   "outputs": [
    {
     "data": {
      "text/html": [
       "<div>\n",
       "<style>\n",
       "    .dataframe thead tr:only-child th {\n",
       "        text-align: right;\n",
       "    }\n",
       "\n",
       "    .dataframe thead th {\n",
       "        text-align: left;\n",
       "    }\n",
       "\n",
       "    .dataframe tbody tr th {\n",
       "        vertical-align: top;\n",
       "    }\n",
       "</style>\n",
       "<table border=\"1\" class=\"dataframe\">\n",
       "  <thead>\n",
       "    <tr style=\"text-align: right;\">\n",
       "      <th></th>\n",
       "      <th>Unnamed: 0</th>\n",
       "      <th>names</th>\n",
       "      <th>Id</th>\n",
       "      <th>brewerId</th>\n",
       "      <th>ABV</th>\n",
       "      <th>style</th>\n",
       "      <th>appearance</th>\n",
       "      <th>aroma</th>\n",
       "      <th>palate</th>\n",
       "      <th>taste</th>\n",
       "      <th>overall</th>\n",
       "      <th>time</th>\n",
       "      <th>profile_name</th>\n",
       "      <th>text</th>\n",
       "      <th>time2</th>\n",
       "      <th>day</th>\n",
       "      <th>month</th>\n",
       "      <th>year</th>\n",
       "      <th>user_id</th>\n",
       "    </tr>\n",
       "  </thead>\n",
       "  <tbody>\n",
       "    <tr>\n",
       "      <th>0</th>\n",
       "      <td>0</td>\n",
       "      <td>Sausa Weizen</td>\n",
       "      <td>47986</td>\n",
       "      <td>10325</td>\n",
       "      <td>5.0</td>\n",
       "      <td>Hefeweizen</td>\n",
       "      <td>2.5</td>\n",
       "      <td>2.0</td>\n",
       "      <td>1.5</td>\n",
       "      <td>1.5</td>\n",
       "      <td>1.5</td>\n",
       "      <td>1234817823</td>\n",
       "      <td>stcules</td>\n",
       "      <td>\" A lot of foam. But a lot.\\tIn the smell some...</td>\n",
       "      <td>2009-02-16</td>\n",
       "      <td>16</td>\n",
       "      <td>2</td>\n",
       "      <td>2009</td>\n",
       "      <td>30561</td>\n",
       "    </tr>\n",
       "    <tr>\n",
       "      <th>1</th>\n",
       "      <td>1</td>\n",
       "      <td>Red Moon</td>\n",
       "      <td>48213</td>\n",
       "      <td>10325</td>\n",
       "      <td>6.2</td>\n",
       "      <td>English Strong Ale</td>\n",
       "      <td>3.0</td>\n",
       "      <td>2.5</td>\n",
       "      <td>3.0</td>\n",
       "      <td>3.0</td>\n",
       "      <td>3.0</td>\n",
       "      <td>1235915097</td>\n",
       "      <td>stcules</td>\n",
       "      <td>\" Dark red color, light beige foam, average.\\t...</td>\n",
       "      <td>2009-03-01</td>\n",
       "      <td>1</td>\n",
       "      <td>3</td>\n",
       "      <td>2009</td>\n",
       "      <td>30561</td>\n",
       "    </tr>\n",
       "  </tbody>\n",
       "</table>\n",
       "</div>"
      ],
      "text/plain": [
       "   Unnamed: 0          names     Id  brewerId  ABV                style  \\\n",
       "0           0   Sausa Weizen  47986     10325  5.0           Hefeweizen   \n",
       "1           1       Red Moon  48213     10325  6.2   English Strong Ale   \n",
       "\n",
       "   appearance  aroma  palate  taste  overall        time profile_name  \\\n",
       "0         2.5    2.0     1.5    1.5      1.5  1234817823      stcules   \n",
       "1         3.0    2.5     3.0    3.0      3.0  1235915097      stcules   \n",
       "\n",
       "                                                text      time2  day  month  \\\n",
       "0  \" A lot of foam. But a lot.\\tIn the smell some... 2009-02-16   16      2   \n",
       "1  \" Dark red color, light beige foam, average.\\t... 2009-03-01    1      3   \n",
       "\n",
       "   year  user_id  \n",
       "0  2009    30561  \n",
       "1  2009    30561  "
      ]
     },
     "execution_count": 91,
     "metadata": {},
     "output_type": "execute_result"
    }
   ],
   "source": [
    "beer.head(2)"
   ]
  },
  {
   "cell_type": "code",
   "execution_count": 92,
   "metadata": {},
   "outputs": [
    {
     "data": {
      "text/plain": [
       "(1585827, 19)"
      ]
     },
     "execution_count": 92,
     "metadata": {},
     "output_type": "execute_result"
    }
   ],
   "source": [
    "beer.shape"
   ]
  },
  {
   "cell_type": "markdown",
   "metadata": {},
   "source": [
    "### we add a user Id column"
   ]
  },
  {
   "cell_type": "code",
   "execution_count": 93,
   "metadata": {
    "collapsed": true
   },
   "outputs": [],
   "source": [
    "beer['user_id'] = LabelEncoder().fit_transform(beer.profile_name)"
   ]
  },
  {
   "cell_type": "code",
   "execution_count": 94,
   "metadata": {},
   "outputs": [
    {
     "data": {
      "text/plain": [
       "(1585827, 19)"
      ]
     },
     "execution_count": 94,
     "metadata": {},
     "output_type": "execute_result"
    }
   ],
   "source": [
    "beer.shape"
   ]
  },
  {
   "cell_type": "code",
   "execution_count": 95,
   "metadata": {},
   "outputs": [
    {
     "data": {
      "text/html": [
       "<div>\n",
       "<style>\n",
       "    .dataframe thead tr:only-child th {\n",
       "        text-align: right;\n",
       "    }\n",
       "\n",
       "    .dataframe thead th {\n",
       "        text-align: left;\n",
       "    }\n",
       "\n",
       "    .dataframe tbody tr th {\n",
       "        vertical-align: top;\n",
       "    }\n",
       "</style>\n",
       "<table border=\"1\" class=\"dataframe\">\n",
       "  <thead>\n",
       "    <tr style=\"text-align: right;\">\n",
       "      <th></th>\n",
       "      <th>Unnamed: 0</th>\n",
       "      <th>names</th>\n",
       "      <th>Id</th>\n",
       "      <th>brewerId</th>\n",
       "      <th>ABV</th>\n",
       "      <th>style</th>\n",
       "      <th>appearance</th>\n",
       "      <th>aroma</th>\n",
       "      <th>palate</th>\n",
       "      <th>taste</th>\n",
       "      <th>overall</th>\n",
       "      <th>time</th>\n",
       "      <th>profile_name</th>\n",
       "      <th>text</th>\n",
       "      <th>time2</th>\n",
       "      <th>day</th>\n",
       "      <th>month</th>\n",
       "      <th>year</th>\n",
       "      <th>user_id</th>\n",
       "    </tr>\n",
       "  </thead>\n",
       "  <tbody>\n",
       "    <tr>\n",
       "      <th>0</th>\n",
       "      <td>0</td>\n",
       "      <td>Sausa Weizen</td>\n",
       "      <td>47986</td>\n",
       "      <td>10325</td>\n",
       "      <td>5.0</td>\n",
       "      <td>Hefeweizen</td>\n",
       "      <td>2.5</td>\n",
       "      <td>2.0</td>\n",
       "      <td>1.5</td>\n",
       "      <td>1.5</td>\n",
       "      <td>1.5</td>\n",
       "      <td>1234817823</td>\n",
       "      <td>stcules</td>\n",
       "      <td>\" A lot of foam. But a lot.\\tIn the smell some...</td>\n",
       "      <td>2009-02-16</td>\n",
       "      <td>16</td>\n",
       "      <td>2</td>\n",
       "      <td>2009</td>\n",
       "      <td>30561</td>\n",
       "    </tr>\n",
       "    <tr>\n",
       "      <th>1</th>\n",
       "      <td>1</td>\n",
       "      <td>Red Moon</td>\n",
       "      <td>48213</td>\n",
       "      <td>10325</td>\n",
       "      <td>6.2</td>\n",
       "      <td>English Strong Ale</td>\n",
       "      <td>3.0</td>\n",
       "      <td>2.5</td>\n",
       "      <td>3.0</td>\n",
       "      <td>3.0</td>\n",
       "      <td>3.0</td>\n",
       "      <td>1235915097</td>\n",
       "      <td>stcules</td>\n",
       "      <td>\" Dark red color, light beige foam, average.\\t...</td>\n",
       "      <td>2009-03-01</td>\n",
       "      <td>1</td>\n",
       "      <td>3</td>\n",
       "      <td>2009</td>\n",
       "      <td>30561</td>\n",
       "    </tr>\n",
       "    <tr>\n",
       "      <th>2</th>\n",
       "      <td>2</td>\n",
       "      <td>Black Horse Black Beer</td>\n",
       "      <td>48215</td>\n",
       "      <td>10325</td>\n",
       "      <td>6.5</td>\n",
       "      <td>Foreign / Export Stout</td>\n",
       "      <td>3.0</td>\n",
       "      <td>2.5</td>\n",
       "      <td>3.0</td>\n",
       "      <td>3.0</td>\n",
       "      <td>3.0</td>\n",
       "      <td>1235916604</td>\n",
       "      <td>stcules</td>\n",
       "      <td>\" Almost totally black. Beige foam, quite comp...</td>\n",
       "      <td>2009-03-01</td>\n",
       "      <td>1</td>\n",
       "      <td>3</td>\n",
       "      <td>2009</td>\n",
       "      <td>30561</td>\n",
       "    </tr>\n",
       "    <tr>\n",
       "      <th>3</th>\n",
       "      <td>3</td>\n",
       "      <td>Sausa Pils</td>\n",
       "      <td>47969</td>\n",
       "      <td>10325</td>\n",
       "      <td>5.0</td>\n",
       "      <td>German Pilsener</td>\n",
       "      <td>3.5</td>\n",
       "      <td>3.0</td>\n",
       "      <td>2.5</td>\n",
       "      <td>3.0</td>\n",
       "      <td>3.0</td>\n",
       "      <td>1234725145</td>\n",
       "      <td>stcules</td>\n",
       "      <td>\" Golden yellow color. White, compact foam, qu...</td>\n",
       "      <td>2009-02-15</td>\n",
       "      <td>15</td>\n",
       "      <td>2</td>\n",
       "      <td>2009</td>\n",
       "      <td>30561</td>\n",
       "    </tr>\n",
       "    <tr>\n",
       "      <th>4</th>\n",
       "      <td>4</td>\n",
       "      <td>Cauldron DIPA</td>\n",
       "      <td>64883</td>\n",
       "      <td>1075</td>\n",
       "      <td>7.7</td>\n",
       "      <td>American Double / Imperial IPA</td>\n",
       "      <td>4.0</td>\n",
       "      <td>4.5</td>\n",
       "      <td>4.0</td>\n",
       "      <td>4.5</td>\n",
       "      <td>4.0</td>\n",
       "      <td>1293735206</td>\n",
       "      <td>johnmichaelsen</td>\n",
       "      <td>\" According to the website, the style for the ...</td>\n",
       "      <td>2010-12-30</td>\n",
       "      <td>30</td>\n",
       "      <td>12</td>\n",
       "      <td>2010</td>\n",
       "      <td>23004</td>\n",
       "    </tr>\n",
       "  </tbody>\n",
       "</table>\n",
       "</div>"
      ],
      "text/plain": [
       "   Unnamed: 0                    names     Id  brewerId  ABV  \\\n",
       "0           0             Sausa Weizen  47986     10325  5.0   \n",
       "1           1                 Red Moon  48213     10325  6.2   \n",
       "2           2   Black Horse Black Beer  48215     10325  6.5   \n",
       "3           3               Sausa Pils  47969     10325  5.0   \n",
       "4           4            Cauldron DIPA  64883      1075  7.7   \n",
       "\n",
       "                             style  appearance  aroma  palate  taste  overall  \\\n",
       "0                       Hefeweizen         2.5    2.0     1.5    1.5      1.5   \n",
       "1               English Strong Ale         3.0    2.5     3.0    3.0      3.0   \n",
       "2           Foreign / Export Stout         3.0    2.5     3.0    3.0      3.0   \n",
       "3                  German Pilsener         3.5    3.0     2.5    3.0      3.0   \n",
       "4   American Double / Imperial IPA         4.0    4.5     4.0    4.5      4.0   \n",
       "\n",
       "         time     profile_name  \\\n",
       "0  1234817823          stcules   \n",
       "1  1235915097          stcules   \n",
       "2  1235916604          stcules   \n",
       "3  1234725145          stcules   \n",
       "4  1293735206   johnmichaelsen   \n",
       "\n",
       "                                                text      time2  day  month  \\\n",
       "0  \" A lot of foam. But a lot.\\tIn the smell some... 2009-02-16   16      2   \n",
       "1  \" Dark red color, light beige foam, average.\\t... 2009-03-01    1      3   \n",
       "2  \" Almost totally black. Beige foam, quite comp... 2009-03-01    1      3   \n",
       "3  \" Golden yellow color. White, compact foam, qu... 2009-02-15   15      2   \n",
       "4  \" According to the website, the style for the ... 2010-12-30   30     12   \n",
       "\n",
       "   year  user_id  \n",
       "0  2009    30561  \n",
       "1  2009    30561  \n",
       "2  2009    30561  \n",
       "3  2009    30561  \n",
       "4  2010    23004  "
      ]
     },
     "execution_count": 95,
     "metadata": {},
     "output_type": "execute_result"
    }
   ],
   "source": [
    "beer.head()"
   ]
  },
  {
   "cell_type": "code",
   "execution_count": 96,
   "metadata": {
    "collapsed": true
   },
   "outputs": [],
   "source": [
    "beer.to_csv ('df_beers.csv')"
   ]
  }
 ],
 "metadata": {
  "kernelspec": {
   "display_name": "Python 2",
   "language": "python",
   "name": "python2"
  },
  "language_info": {
   "codemirror_mode": {
    "name": "ipython",
    "version": 2
   },
   "file_extension": ".py",
   "mimetype": "text/x-python",
   "name": "python",
   "nbconvert_exporter": "python",
   "pygments_lexer": "ipython2",
   "version": "2.7.13"
  }
 },
 "nbformat": 4,
 "nbformat_minor": 2
}
