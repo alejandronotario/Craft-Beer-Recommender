{
 "cells": [
  {
   "cell_type": "markdown",
   "metadata": {},
   "source": [
    "# Input Beer Recommender Engine"
   ]
  },
  {
   "cell_type": "markdown",
   "metadata": {},
   "source": [
    "## In this notebook we make an item based recommender system to input a BEER which likes one user and GET the TOP 5 SIMILAR BEERS\n"
   ]
  },
  {
   "cell_type": "code",
   "execution_count": 1,
   "metadata": {
    "collapsed": true
   },
   "outputs": [],
   "source": [
    "import pandas as pd\n",
    "import numpy as np\n",
    "from matplotlib import pyplot\n",
    "%matplotlib inline\n",
    "import sys\n",
    "reload(sys)\n",
    "sys.setdefaultencoding(\"utf-8\")"
   ]
  },
  {
   "cell_type": "code",
   "execution_count": 2,
   "metadata": {
    "collapsed": true
   },
   "outputs": [],
   "source": [
    "df = pd.read_csv('df_to_recommender.csv')"
   ]
  },
  {
   "cell_type": "code",
   "execution_count": 3,
   "metadata": {
    "collapsed": false
   },
   "outputs": [
    {
     "data": {
      "text/plain": [
       "(7771, 27)"
      ]
     },
     "execution_count": 3,
     "metadata": {},
     "output_type": "execute_result"
    }
   ],
   "source": [
    "df.shape"
   ]
  },
  {
   "cell_type": "code",
   "execution_count": 4,
   "metadata": {
    "collapsed": false
   },
   "outputs": [
    {
     "data": {
      "text/plain": [
       "count    7771.000000\n",
       "mean      951.726161\n",
       "std       411.347573\n",
       "min       501.000000\n",
       "25%       649.000000\n",
       "50%       837.000000\n",
       "75%      1161.000000\n",
       "max      2197.000000\n",
       "Name: num_rated_beers, dtype: float64"
      ]
     },
     "execution_count": 4,
     "metadata": {},
     "output_type": "execute_result"
    }
   ],
   "source": [
    "rated = df.num_rated_beers\n",
    "stats = rated.describe()\n",
    "stats"
   ]
  },
  {
   "cell_type": "code",
   "execution_count": 5,
   "metadata": {
    "collapsed": true
   },
   "outputs": [],
   "source": [
    "df=df[['user_id', 'profile_name', 'Id', 'names', 'num_rated_beers', 'style','overall']].copy()"
   ]
  },
  {
   "cell_type": "code",
   "execution_count": 6,
   "metadata": {
    "collapsed": false
   },
   "outputs": [
    {
     "data": {
      "text/plain": [
       "(214, 7205)"
      ]
     },
     "execution_count": 6,
     "metadata": {},
     "output_type": "execute_result"
    }
   ],
   "source": [
    "ratings = df.pivot_table(values='overall', index='user_id', columns='names')\n",
    "ratings.fillna(0, inplace=True)\n",
    "beer_index = ratings.columns\n",
    "ratings.shape"
   ]
  },
  {
   "cell_type": "code",
   "execution_count": 7,
   "metadata": {
    "collapsed": false
   },
   "outputs": [
    {
     "data": {
      "text/html": [
       "<div>\n",
       "<table border=\"1\" class=\"dataframe\">\n",
       "  <thead>\n",
       "    <tr style=\"text-align: right;\">\n",
       "      <th>names</th>\n",
       "      <th>$ellout $tout</th>\n",
       "      <th>'Tis The Saison</th>\n",
       "      <th>'Zula Stout</th>\n",
       "      <th>'t Gaverhopke Zingende Blondine</th>\n",
       "      <th>'t Smisje Blond</th>\n",
       "      <th>'t Smisje Fiori</th>\n",
       "      <th>'t Smisje Grande Reserva</th>\n",
       "      <th>'t Smisje Great Reserva</th>\n",
       "      <th>'t Smisje Tripel</th>\n",
       "      <th>(512) Cascabel Cream Stout</th>\n",
       "      <th>...</th>\n",
       "      <th>\" La Malagne (for Archaeopark, Rochefort)\"</th>\n",
       "      <th>\" Mischief, Double Dry-Hopped\"</th>\n",
       "      <th>\" Nice Guy, Dud Root\"</th>\n",
       "      <th>\" Saison De Lente, 100% Brett\"</th>\n",
       "      <th>\" Schell's Anniversary Series #8, 1905 V.T. (Vacuum Tonic)\"</th>\n",
       "      <th>\" Schlafly \"\"Sofa King\"\" Red Ale\"</th>\n",
       "      <th>\" Schlafly #20, Volume 1 - Imperial Pilsner\"</th>\n",
       "      <th>\" Tovarish With Cacao, Toasted Almond &amp; Coconut\"</th>\n",
       "      <th>\" Upright (\"\"Punk Rock\"\" Strong) Lager\"</th>\n",
       "      <th>\" Zeppelin (for Den Ouden Advokaat, St.Pauwels)\"</th>\n",
       "    </tr>\n",
       "    <tr>\n",
       "      <th>user_id</th>\n",
       "      <th></th>\n",
       "      <th></th>\n",
       "      <th></th>\n",
       "      <th></th>\n",
       "      <th></th>\n",
       "      <th></th>\n",
       "      <th></th>\n",
       "      <th></th>\n",
       "      <th></th>\n",
       "      <th></th>\n",
       "      <th></th>\n",
       "      <th></th>\n",
       "      <th></th>\n",
       "      <th></th>\n",
       "      <th></th>\n",
       "      <th></th>\n",
       "      <th></th>\n",
       "      <th></th>\n",
       "      <th></th>\n",
       "      <th></th>\n",
       "      <th></th>\n",
       "    </tr>\n",
       "  </thead>\n",
       "  <tbody>\n",
       "    <tr>\n",
       "      <th>491</th>\n",
       "      <td>0.0</td>\n",
       "      <td>0.0</td>\n",
       "      <td>0.0</td>\n",
       "      <td>0.0</td>\n",
       "      <td>0.0</td>\n",
       "      <td>0.0</td>\n",
       "      <td>0.0</td>\n",
       "      <td>0.0</td>\n",
       "      <td>0.0</td>\n",
       "      <td>0.0</td>\n",
       "      <td>...</td>\n",
       "      <td>0.0</td>\n",
       "      <td>0.0</td>\n",
       "      <td>0.0</td>\n",
       "      <td>0.0</td>\n",
       "      <td>0.0</td>\n",
       "      <td>0.0</td>\n",
       "      <td>0.0</td>\n",
       "      <td>0.0</td>\n",
       "      <td>0.0</td>\n",
       "      <td>0.0</td>\n",
       "    </tr>\n",
       "    <tr>\n",
       "      <th>594</th>\n",
       "      <td>0.0</td>\n",
       "      <td>0.0</td>\n",
       "      <td>0.0</td>\n",
       "      <td>0.0</td>\n",
       "      <td>0.0</td>\n",
       "      <td>0.0</td>\n",
       "      <td>0.0</td>\n",
       "      <td>0.0</td>\n",
       "      <td>0.0</td>\n",
       "      <td>0.0</td>\n",
       "      <td>...</td>\n",
       "      <td>0.0</td>\n",
       "      <td>0.0</td>\n",
       "      <td>0.0</td>\n",
       "      <td>0.0</td>\n",
       "      <td>0.0</td>\n",
       "      <td>0.0</td>\n",
       "      <td>0.0</td>\n",
       "      <td>0.0</td>\n",
       "      <td>0.0</td>\n",
       "      <td>0.0</td>\n",
       "    </tr>\n",
       "    <tr>\n",
       "      <th>977</th>\n",
       "      <td>0.0</td>\n",
       "      <td>0.0</td>\n",
       "      <td>0.0</td>\n",
       "      <td>0.0</td>\n",
       "      <td>0.0</td>\n",
       "      <td>0.0</td>\n",
       "      <td>0.0</td>\n",
       "      <td>0.0</td>\n",
       "      <td>0.0</td>\n",
       "      <td>0.0</td>\n",
       "      <td>...</td>\n",
       "      <td>0.0</td>\n",
       "      <td>0.0</td>\n",
       "      <td>0.0</td>\n",
       "      <td>0.0</td>\n",
       "      <td>0.0</td>\n",
       "      <td>0.0</td>\n",
       "      <td>0.0</td>\n",
       "      <td>0.0</td>\n",
       "      <td>0.0</td>\n",
       "      <td>0.0</td>\n",
       "    </tr>\n",
       "    <tr>\n",
       "      <th>1198</th>\n",
       "      <td>0.0</td>\n",
       "      <td>0.0</td>\n",
       "      <td>0.0</td>\n",
       "      <td>0.0</td>\n",
       "      <td>0.0</td>\n",
       "      <td>0.0</td>\n",
       "      <td>0.0</td>\n",
       "      <td>0.0</td>\n",
       "      <td>0.0</td>\n",
       "      <td>0.0</td>\n",
       "      <td>...</td>\n",
       "      <td>0.0</td>\n",
       "      <td>0.0</td>\n",
       "      <td>0.0</td>\n",
       "      <td>0.0</td>\n",
       "      <td>0.0</td>\n",
       "      <td>0.0</td>\n",
       "      <td>0.0</td>\n",
       "      <td>0.0</td>\n",
       "      <td>0.0</td>\n",
       "      <td>0.0</td>\n",
       "    </tr>\n",
       "    <tr>\n",
       "      <th>1214</th>\n",
       "      <td>0.0</td>\n",
       "      <td>0.0</td>\n",
       "      <td>0.0</td>\n",
       "      <td>0.0</td>\n",
       "      <td>0.0</td>\n",
       "      <td>0.0</td>\n",
       "      <td>0.0</td>\n",
       "      <td>0.0</td>\n",
       "      <td>0.0</td>\n",
       "      <td>0.0</td>\n",
       "      <td>...</td>\n",
       "      <td>0.0</td>\n",
       "      <td>0.0</td>\n",
       "      <td>0.0</td>\n",
       "      <td>0.0</td>\n",
       "      <td>0.0</td>\n",
       "      <td>0.0</td>\n",
       "      <td>0.0</td>\n",
       "      <td>0.0</td>\n",
       "      <td>0.0</td>\n",
       "      <td>0.0</td>\n",
       "    </tr>\n",
       "  </tbody>\n",
       "</table>\n",
       "<p>5 rows × 7205 columns</p>\n",
       "</div>"
      ],
      "text/plain": [
       "names     $ellout $tout   'Tis The Saison   'Zula Stout  \\\n",
       "user_id                                                   \n",
       "491                 0.0               0.0           0.0   \n",
       "594                 0.0               0.0           0.0   \n",
       "977                 0.0               0.0           0.0   \n",
       "1198                0.0               0.0           0.0   \n",
       "1214                0.0               0.0           0.0   \n",
       "\n",
       "names     't Gaverhopke Zingende Blondine   't Smisje Blond   't Smisje Fiori  \\\n",
       "user_id                                                                         \n",
       "491                                   0.0               0.0               0.0   \n",
       "594                                   0.0               0.0               0.0   \n",
       "977                                   0.0               0.0               0.0   \n",
       "1198                                  0.0               0.0               0.0   \n",
       "1214                                  0.0               0.0               0.0   \n",
       "\n",
       "names     't Smisje Grande Reserva   't Smisje Great Reserva  \\\n",
       "user_id                                                        \n",
       "491                            0.0                       0.0   \n",
       "594                            0.0                       0.0   \n",
       "977                            0.0                       0.0   \n",
       "1198                           0.0                       0.0   \n",
       "1214                           0.0                       0.0   \n",
       "\n",
       "names     't Smisje Tripel   (512) Cascabel Cream Stout  \\\n",
       "user_id                                                   \n",
       "491                    0.0                          0.0   \n",
       "594                    0.0                          0.0   \n",
       "977                    0.0                          0.0   \n",
       "1198                   0.0                          0.0   \n",
       "1214                   0.0                          0.0   \n",
       "\n",
       "names                          ...                         \\\n",
       "user_id                        ...                          \n",
       "491                            ...                          \n",
       "594                            ...                          \n",
       "977                            ...                          \n",
       "1198                           ...                          \n",
       "1214                           ...                          \n",
       "\n",
       "names    \" La Malagne (for Archaeopark, Rochefort)\"  \\\n",
       "user_id                                               \n",
       "491                                             0.0   \n",
       "594                                             0.0   \n",
       "977                                             0.0   \n",
       "1198                                            0.0   \n",
       "1214                                            0.0   \n",
       "\n",
       "names    \" Mischief, Double Dry-Hopped\"  \" Nice Guy, Dud Root\"  \\\n",
       "user_id                                                          \n",
       "491                                 0.0                    0.0   \n",
       "594                                 0.0                    0.0   \n",
       "977                                 0.0                    0.0   \n",
       "1198                                0.0                    0.0   \n",
       "1214                                0.0                    0.0   \n",
       "\n",
       "names    \" Saison De Lente, 100% Brett\"  \\\n",
       "user_id                                   \n",
       "491                                 0.0   \n",
       "594                                 0.0   \n",
       "977                                 0.0   \n",
       "1198                                0.0   \n",
       "1214                                0.0   \n",
       "\n",
       "names    \" Schell's Anniversary Series #8, 1905 V.T. (Vacuum Tonic)\"  \\\n",
       "user_id                                                                \n",
       "491                                                    0.0             \n",
       "594                                                    0.0             \n",
       "977                                                    0.0             \n",
       "1198                                                   0.0             \n",
       "1214                                                   0.0             \n",
       "\n",
       "names    \" Schlafly \"\"Sofa King\"\" Red Ale\"  \\\n",
       "user_id                                      \n",
       "491                                    0.0   \n",
       "594                                    0.0   \n",
       "977                                    0.0   \n",
       "1198                                   0.0   \n",
       "1214                                   0.0   \n",
       "\n",
       "names    \" Schlafly #20, Volume 1 - Imperial Pilsner\"  \\\n",
       "user_id                                                 \n",
       "491                                               0.0   \n",
       "594                                               0.0   \n",
       "977                                               0.0   \n",
       "1198                                              0.0   \n",
       "1214                                              0.0   \n",
       "\n",
       "names    \" Tovarish With Cacao, Toasted Almond & Coconut\"  \\\n",
       "user_id                                                     \n",
       "491                                                   0.0   \n",
       "594                                                   0.0   \n",
       "977                                                   0.0   \n",
       "1198                                                  0.0   \n",
       "1214                                                  0.0   \n",
       "\n",
       "names    \" Upright (\"\"Punk Rock\"\" Strong) Lager\"  \\\n",
       "user_id                                            \n",
       "491                                          0.0   \n",
       "594                                          0.0   \n",
       "977                                          0.0   \n",
       "1198                                         0.0   \n",
       "1214                                         0.0   \n",
       "\n",
       "names    \" Zeppelin (for Den Ouden Advokaat, St.Pauwels)\"  \n",
       "user_id                                                    \n",
       "491                                                   0.0  \n",
       "594                                                   0.0  \n",
       "977                                                   0.0  \n",
       "1198                                                  0.0  \n",
       "1214                                                  0.0  \n",
       "\n",
       "[5 rows x 7205 columns]"
      ]
     },
     "execution_count": 7,
     "metadata": {},
     "output_type": "execute_result"
    }
   ],
   "source": [
    "ratings.head()"
   ]
  },
  {
   "cell_type": "code",
   "execution_count": 8,
   "metadata": {
    "collapsed": false,
    "scrolled": true
   },
   "outputs": [
    {
     "data": {
      "text/plain": [
       "(7205L, 7205L)"
      ]
     },
     "execution_count": 8,
     "metadata": {},
     "output_type": "execute_result"
    }
   ],
   "source": [
    "corr_matrix= np.corrcoef(ratings.T)\n",
    "corr_matrix.shape"
   ]
  },
  {
   "cell_type": "code",
   "execution_count": 9,
   "metadata": {
    "collapsed": true
   },
   "outputs": [],
   "source": [
    "def get_top_beers (a):\n",
    "    favoured_beer_index = list(beer_index).index(a)\n",
    "    P = corr_matrix[favoured_beer_index]\n",
    "#solo devolvemos las cervezas con la mayor correlación con bearded Pat's Barleywin\n",
    "    return(list(beer_index[(P>0.5) & (P<1.0)][:5]))"
   ]
  },
  {
   "cell_type": "markdown",
   "metadata": {},
   "source": [
    "### Check the function"
   ]
  },
  {
   "cell_type": "code",
   "execution_count": 10,
   "metadata": {
    "collapsed": false,
    "scrolled": true
   },
   "outputs": [
    {
     "data": {
      "text/plain": [
       "[' Big Ben Double IPA',\n",
       " ' Black Sin',\n",
       " ' Columbus Red',\n",
       " ' Double IPA Version 2',\n",
       " ' Fresh Hop 2009']"
      ]
     },
     "execution_count": 10,
     "metadata": {},
     "output_type": "execute_result"
    }
   ],
   "source": [
    "get_top_beers(' Orange Blossom')"
   ]
  },
  {
   "cell_type": "markdown",
   "metadata": {},
   "source": [
    "### Make a dropdown list application"
   ]
  },
  {
   "cell_type": "markdown",
   "metadata": {},
   "source": [
    "### Select a beer in the dropdown list below, and get your top 5 recommendations!"
   ]
  },
  {
   "cell_type": "code",
   "execution_count": 11,
   "metadata": {
    "collapsed": false
   },
   "outputs": [
    {
     "data": {
      "text/plain": [
       "[' Australian Mountain Pepper Berry',\n",
       " ' Brecknock Pale Ale',\n",
       " ' Garibaldi Honey Pale Ale',\n",
       " ' Grandl',\n",
       " ' Ice Fog IPA']"
      ]
     },
     "metadata": {},
     "output_type": "display_data"
    }
   ],
   "source": [
    "import ipywidgets as widgets\n",
    "from ipywidgets import interactive\n",
    " \n",
    "items = sorted(df['names'].unique().tolist())\n",
    "\n",
    "def view(x=''):\n",
    "    if x==x: return(get_top_beers(x))\n",
    "     \n",
    "    \n",
    "w = widgets.Select(options=items)\n",
    "interactive(view, x=w)"
   ]
  },
  {
   "cell_type": "code",
   "execution_count": null,
   "metadata": {
    "collapsed": true
   },
   "outputs": [],
   "source": []
  }
 ],
 "metadata": {
  "kernelspec": {
   "display_name": "Python 2",
   "language": "python",
   "name": "python2"
  },
  "language_info": {
   "codemirror_mode": {
    "name": "ipython",
    "version": 2
   },
   "file_extension": ".py",
   "mimetype": "text/x-python",
   "name": "python",
   "nbconvert_exporter": "python",
   "pygments_lexer": "ipython2",
   "version": "2.7.13"
  },
  "widgets": {
   "state": {
    "4c5c3c16b6454186a848aaaa2275a530": {
     "views": [
      {
       "cell_index": 15
      }
     ]
    }
   },
   "version": "1.2.0"
  }
 },
 "nbformat": 4,
 "nbformat_minor": 2
}
