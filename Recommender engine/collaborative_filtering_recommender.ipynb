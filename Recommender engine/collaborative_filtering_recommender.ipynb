{
 "cells": [
  {
   "cell_type": "markdown",
   "metadata": {},
   "source": [
    "# User Collaborative Filtering Recommender Engine"
   ]
  },
  {
   "cell_type": "markdown",
   "metadata": {},
   "source": [
    "## In this notebook we make a colaborative fltering recommender system based in users"
   ]
  },
  {
   "cell_type": "code",
   "execution_count": 1,
   "metadata": {
    "collapsed": true
   },
   "outputs": [],
   "source": [
    "import pandas as pd\n",
    "import numpy as np\n",
    "from matplotlib import pyplot\n",
    "%matplotlib inline"
   ]
  },
  {
   "cell_type": "code",
   "execution_count": 2,
   "metadata": {
    "collapsed": true
   },
   "outputs": [],
   "source": [
    "df = pd.read_csv('df_to_recommender.csv')"
   ]
  },
  {
   "cell_type": "code",
   "execution_count": 3,
   "metadata": {
    "collapsed": false
   },
   "outputs": [
    {
     "data": {
      "text/plain": [
       "(7771, 27)"
      ]
     },
     "execution_count": 3,
     "metadata": {},
     "output_type": "execute_result"
    }
   ],
   "source": [
    "df.shape"
   ]
  },
  {
   "cell_type": "code",
   "execution_count": 4,
   "metadata": {
    "collapsed": false
   },
   "outputs": [
    {
     "data": {
      "text/plain": [
       "count    7771.000000\n",
       "mean      951.726161\n",
       "std       411.347573\n",
       "min       501.000000\n",
       "25%       649.000000\n",
       "50%       837.000000\n",
       "75%      1161.000000\n",
       "max      2197.000000\n",
       "Name: num_rated_beers, dtype: float64"
      ]
     },
     "execution_count": 4,
     "metadata": {},
     "output_type": "execute_result"
    }
   ],
   "source": [
    "rated = df.num_rated_beers\n",
    "stats = rated.describe()\n",
    "stats"
   ]
  },
  {
   "cell_type": "code",
   "execution_count": 5,
   "metadata": {
    "collapsed": true
   },
   "outputs": [],
   "source": [
    "df=df[['user_id', 'profile_name', 'Id', 'names', 'num_rated_beers', 'style','overall']].copy()"
   ]
  },
  {
   "cell_type": "code",
   "execution_count": 6,
   "metadata": {
    "collapsed": false,
    "scrolled": true
   },
   "outputs": [
    {
     "data": {
      "text/html": [
       "<div>\n",
       "<table border=\"1\" class=\"dataframe\">\n",
       "  <thead>\n",
       "    <tr style=\"text-align: right;\">\n",
       "      <th></th>\n",
       "      <th>user_id</th>\n",
       "      <th>profile_name</th>\n",
       "      <th>Id</th>\n",
       "      <th>names</th>\n",
       "      <th>num_rated_beers</th>\n",
       "      <th>style</th>\n",
       "      <th>overall</th>\n",
       "    </tr>\n",
       "  </thead>\n",
       "  <tbody>\n",
       "    <tr>\n",
       "      <th>7766</th>\n",
       "      <td>13567</td>\n",
       "      <td>acrawf6</td>\n",
       "      <td>23236</td>\n",
       "      <td>Zea Amber Lager</td>\n",
       "      <td>522</td>\n",
       "      <td>Vienna Lager</td>\n",
       "      <td>4.0</td>\n",
       "    </tr>\n",
       "    <tr>\n",
       "      <th>7767</th>\n",
       "      <td>13567</td>\n",
       "      <td>acrawf6</td>\n",
       "      <td>32318</td>\n",
       "      <td>Zea Category 5 American Pale Ale</td>\n",
       "      <td>522</td>\n",
       "      <td>American Pale Ale (APA)</td>\n",
       "      <td>4.5</td>\n",
       "    </tr>\n",
       "    <tr>\n",
       "      <th>7768</th>\n",
       "      <td>13567</td>\n",
       "      <td>acrawf6</td>\n",
       "      <td>32319</td>\n",
       "      <td>German Lager</td>\n",
       "      <td>522</td>\n",
       "      <td>Märzen / Oktoberfest</td>\n",
       "      <td>4.5</td>\n",
       "    </tr>\n",
       "    <tr>\n",
       "      <th>7769</th>\n",
       "      <td>13567</td>\n",
       "      <td>acrawf6</td>\n",
       "      <td>40482</td>\n",
       "      <td>Gordon Biersch Smoked Märzen</td>\n",
       "      <td>522</td>\n",
       "      <td>Märzen / Oktoberfest</td>\n",
       "      <td>4.0</td>\n",
       "    </tr>\n",
       "    <tr>\n",
       "      <th>7770</th>\n",
       "      <td>13567</td>\n",
       "      <td>acrawf6</td>\n",
       "      <td>30074</td>\n",
       "      <td>Special Block 6</td>\n",
       "      <td>522</td>\n",
       "      <td>Belgian Pale Ale</td>\n",
       "      <td>4.0</td>\n",
       "    </tr>\n",
       "  </tbody>\n",
       "</table>\n",
       "</div>"
      ],
      "text/plain": [
       "      user_id profile_name     Id                              names  \\\n",
       "7766    13567      acrawf6  23236                    Zea Amber Lager   \n",
       "7767    13567      acrawf6  32318   Zea Category 5 American Pale Ale   \n",
       "7768    13567      acrawf6  32319                       German Lager   \n",
       "7769    13567      acrawf6  40482       Gordon Biersch Smoked Märzen   \n",
       "7770    13567      acrawf6  30074                    Special Block 6   \n",
       "\n",
       "      num_rated_beers                     style  overall  \n",
       "7766              522              Vienna Lager      4.0  \n",
       "7767              522   American Pale Ale (APA)      4.5  \n",
       "7768              522      Märzen / Oktoberfest      4.5  \n",
       "7769              522      Märzen / Oktoberfest      4.0  \n",
       "7770              522          Belgian Pale Ale      4.0  "
      ]
     },
     "execution_count": 6,
     "metadata": {},
     "output_type": "execute_result"
    }
   ],
   "source": [
    "df.tail()"
   ]
  },
  {
   "cell_type": "code",
   "execution_count": 7,
   "metadata": {
    "collapsed": false
   },
   "outputs": [
    {
     "data": {
      "text/plain": [
       "profile_name\n",
       " Kegatron        341\n",
       " paterlodie      279\n",
       " Redrover        193\n",
       " Naerhu          151\n",
       " sulldaddy       150\n",
       " mdagnew         149\n",
       " brendan13       149\n",
       " Vancer          146\n",
       " mynie           141\n",
       " msubulldog25    129\n",
       "Name: names, dtype: int64"
      ]
     },
     "execution_count": 7,
     "metadata": {},
     "output_type": "execute_result"
    }
   ],
   "source": [
    "## to check some profile names and input as sample_user = ' xxx'\n",
    "ToKnowNames = df.groupby(['profile_name'])['names'].count().sort_values(ascending = False).head(10)\n",
    "ToKnowNames"
   ]
  },
  {
   "cell_type": "code",
   "execution_count": 8,
   "metadata": {
    "collapsed": false
   },
   "outputs": [
    {
     "data": {
      "text/plain": [
       "(214, 7205)"
      ]
     },
     "execution_count": 8,
     "metadata": {},
     "output_type": "execute_result"
    }
   ],
   "source": [
    "ratings = df.pivot_table(values='overall', index='user_id', columns='names')\n",
    "ratings.fillna(0, inplace=True)\n",
    "beer_index = ratings.columns\n",
    "ratings.shape"
   ]
  },
  {
   "cell_type": "code",
   "execution_count": 9,
   "metadata": {
    "collapsed": false,
    "scrolled": true
   },
   "outputs": [
    {
     "data": {
      "text/html": [
       "<div>\n",
       "<table border=\"1\" class=\"dataframe\">\n",
       "  <thead>\n",
       "    <tr style=\"text-align: right;\">\n",
       "      <th>names</th>\n",
       "      <th>$ellout $tout</th>\n",
       "      <th>'Tis The Saison</th>\n",
       "      <th>'Zula Stout</th>\n",
       "      <th>'t Gaverhopke Zingende Blondine</th>\n",
       "      <th>'t Smisje Blond</th>\n",
       "      <th>'t Smisje Fiori</th>\n",
       "      <th>'t Smisje Grande Reserva</th>\n",
       "      <th>'t Smisje Great Reserva</th>\n",
       "      <th>'t Smisje Tripel</th>\n",
       "      <th>(512) Cascabel Cream Stout</th>\n",
       "      <th>...</th>\n",
       "      <th>\" La Malagne (for Archaeopark, Rochefort)\"</th>\n",
       "      <th>\" Mischief, Double Dry-Hopped\"</th>\n",
       "      <th>\" Nice Guy, Dud Root\"</th>\n",
       "      <th>\" Saison De Lente, 100% Brett\"</th>\n",
       "      <th>\" Schell's Anniversary Series #8, 1905 V.T. (Vacuum Tonic)\"</th>\n",
       "      <th>\" Schlafly \"\"Sofa King\"\" Red Ale\"</th>\n",
       "      <th>\" Schlafly #20, Volume 1 - Imperial Pilsner\"</th>\n",
       "      <th>\" Tovarish With Cacao, Toasted Almond &amp; Coconut\"</th>\n",
       "      <th>\" Upright (\"\"Punk Rock\"\" Strong) Lager\"</th>\n",
       "      <th>\" Zeppelin (for Den Ouden Advokaat, St.Pauwels)\"</th>\n",
       "    </tr>\n",
       "    <tr>\n",
       "      <th>user_id</th>\n",
       "      <th></th>\n",
       "      <th></th>\n",
       "      <th></th>\n",
       "      <th></th>\n",
       "      <th></th>\n",
       "      <th></th>\n",
       "      <th></th>\n",
       "      <th></th>\n",
       "      <th></th>\n",
       "      <th></th>\n",
       "      <th></th>\n",
       "      <th></th>\n",
       "      <th></th>\n",
       "      <th></th>\n",
       "      <th></th>\n",
       "      <th></th>\n",
       "      <th></th>\n",
       "      <th></th>\n",
       "      <th></th>\n",
       "      <th></th>\n",
       "      <th></th>\n",
       "    </tr>\n",
       "  </thead>\n",
       "  <tbody>\n",
       "    <tr>\n",
       "      <th>491</th>\n",
       "      <td>0.0</td>\n",
       "      <td>0.0</td>\n",
       "      <td>0.0</td>\n",
       "      <td>0.0</td>\n",
       "      <td>0.0</td>\n",
       "      <td>0.0</td>\n",
       "      <td>0.0</td>\n",
       "      <td>0.0</td>\n",
       "      <td>0.0</td>\n",
       "      <td>0.0</td>\n",
       "      <td>...</td>\n",
       "      <td>0.0</td>\n",
       "      <td>0.0</td>\n",
       "      <td>0.0</td>\n",
       "      <td>0.0</td>\n",
       "      <td>0.0</td>\n",
       "      <td>0.0</td>\n",
       "      <td>0.0</td>\n",
       "      <td>0.0</td>\n",
       "      <td>0.0</td>\n",
       "      <td>0.0</td>\n",
       "    </tr>\n",
       "    <tr>\n",
       "      <th>594</th>\n",
       "      <td>0.0</td>\n",
       "      <td>0.0</td>\n",
       "      <td>0.0</td>\n",
       "      <td>0.0</td>\n",
       "      <td>0.0</td>\n",
       "      <td>0.0</td>\n",
       "      <td>0.0</td>\n",
       "      <td>0.0</td>\n",
       "      <td>0.0</td>\n",
       "      <td>0.0</td>\n",
       "      <td>...</td>\n",
       "      <td>0.0</td>\n",
       "      <td>0.0</td>\n",
       "      <td>0.0</td>\n",
       "      <td>0.0</td>\n",
       "      <td>0.0</td>\n",
       "      <td>0.0</td>\n",
       "      <td>0.0</td>\n",
       "      <td>0.0</td>\n",
       "      <td>0.0</td>\n",
       "      <td>0.0</td>\n",
       "    </tr>\n",
       "    <tr>\n",
       "      <th>977</th>\n",
       "      <td>0.0</td>\n",
       "      <td>0.0</td>\n",
       "      <td>0.0</td>\n",
       "      <td>0.0</td>\n",
       "      <td>0.0</td>\n",
       "      <td>0.0</td>\n",
       "      <td>0.0</td>\n",
       "      <td>0.0</td>\n",
       "      <td>0.0</td>\n",
       "      <td>0.0</td>\n",
       "      <td>...</td>\n",
       "      <td>0.0</td>\n",
       "      <td>0.0</td>\n",
       "      <td>0.0</td>\n",
       "      <td>0.0</td>\n",
       "      <td>0.0</td>\n",
       "      <td>0.0</td>\n",
       "      <td>0.0</td>\n",
       "      <td>0.0</td>\n",
       "      <td>0.0</td>\n",
       "      <td>0.0</td>\n",
       "    </tr>\n",
       "    <tr>\n",
       "      <th>1198</th>\n",
       "      <td>0.0</td>\n",
       "      <td>0.0</td>\n",
       "      <td>0.0</td>\n",
       "      <td>0.0</td>\n",
       "      <td>0.0</td>\n",
       "      <td>0.0</td>\n",
       "      <td>0.0</td>\n",
       "      <td>0.0</td>\n",
       "      <td>0.0</td>\n",
       "      <td>0.0</td>\n",
       "      <td>...</td>\n",
       "      <td>0.0</td>\n",
       "      <td>0.0</td>\n",
       "      <td>0.0</td>\n",
       "      <td>0.0</td>\n",
       "      <td>0.0</td>\n",
       "      <td>0.0</td>\n",
       "      <td>0.0</td>\n",
       "      <td>0.0</td>\n",
       "      <td>0.0</td>\n",
       "      <td>0.0</td>\n",
       "    </tr>\n",
       "    <tr>\n",
       "      <th>1214</th>\n",
       "      <td>0.0</td>\n",
       "      <td>0.0</td>\n",
       "      <td>0.0</td>\n",
       "      <td>0.0</td>\n",
       "      <td>0.0</td>\n",
       "      <td>0.0</td>\n",
       "      <td>0.0</td>\n",
       "      <td>0.0</td>\n",
       "      <td>0.0</td>\n",
       "      <td>0.0</td>\n",
       "      <td>...</td>\n",
       "      <td>0.0</td>\n",
       "      <td>0.0</td>\n",
       "      <td>0.0</td>\n",
       "      <td>0.0</td>\n",
       "      <td>0.0</td>\n",
       "      <td>0.0</td>\n",
       "      <td>0.0</td>\n",
       "      <td>0.0</td>\n",
       "      <td>0.0</td>\n",
       "      <td>0.0</td>\n",
       "    </tr>\n",
       "  </tbody>\n",
       "</table>\n",
       "<p>5 rows × 7205 columns</p>\n",
       "</div>"
      ],
      "text/plain": [
       "names     $ellout $tout   'Tis The Saison   'Zula Stout  \\\n",
       "user_id                                                   \n",
       "491                 0.0               0.0           0.0   \n",
       "594                 0.0               0.0           0.0   \n",
       "977                 0.0               0.0           0.0   \n",
       "1198                0.0               0.0           0.0   \n",
       "1214                0.0               0.0           0.0   \n",
       "\n",
       "names     't Gaverhopke Zingende Blondine   't Smisje Blond   't Smisje Fiori  \\\n",
       "user_id                                                                         \n",
       "491                                   0.0               0.0               0.0   \n",
       "594                                   0.0               0.0               0.0   \n",
       "977                                   0.0               0.0               0.0   \n",
       "1198                                  0.0               0.0               0.0   \n",
       "1214                                  0.0               0.0               0.0   \n",
       "\n",
       "names     't Smisje Grande Reserva   't Smisje Great Reserva  \\\n",
       "user_id                                                        \n",
       "491                            0.0                       0.0   \n",
       "594                            0.0                       0.0   \n",
       "977                            0.0                       0.0   \n",
       "1198                           0.0                       0.0   \n",
       "1214                           0.0                       0.0   \n",
       "\n",
       "names     't Smisje Tripel   (512) Cascabel Cream Stout  \\\n",
       "user_id                                                   \n",
       "491                    0.0                          0.0   \n",
       "594                    0.0                          0.0   \n",
       "977                    0.0                          0.0   \n",
       "1198                   0.0                          0.0   \n",
       "1214                   0.0                          0.0   \n",
       "\n",
       "names                          ...                         \\\n",
       "user_id                        ...                          \n",
       "491                            ...                          \n",
       "594                            ...                          \n",
       "977                            ...                          \n",
       "1198                           ...                          \n",
       "1214                           ...                          \n",
       "\n",
       "names    \" La Malagne (for Archaeopark, Rochefort)\"  \\\n",
       "user_id                                               \n",
       "491                                             0.0   \n",
       "594                                             0.0   \n",
       "977                                             0.0   \n",
       "1198                                            0.0   \n",
       "1214                                            0.0   \n",
       "\n",
       "names    \" Mischief, Double Dry-Hopped\"  \" Nice Guy, Dud Root\"  \\\n",
       "user_id                                                          \n",
       "491                                 0.0                    0.0   \n",
       "594                                 0.0                    0.0   \n",
       "977                                 0.0                    0.0   \n",
       "1198                                0.0                    0.0   \n",
       "1214                                0.0                    0.0   \n",
       "\n",
       "names    \" Saison De Lente, 100% Brett\"  \\\n",
       "user_id                                   \n",
       "491                                 0.0   \n",
       "594                                 0.0   \n",
       "977                                 0.0   \n",
       "1198                                0.0   \n",
       "1214                                0.0   \n",
       "\n",
       "names    \" Schell's Anniversary Series #8, 1905 V.T. (Vacuum Tonic)\"  \\\n",
       "user_id                                                                \n",
       "491                                                    0.0             \n",
       "594                                                    0.0             \n",
       "977                                                    0.0             \n",
       "1198                                                   0.0             \n",
       "1214                                                   0.0             \n",
       "\n",
       "names    \" Schlafly \"\"Sofa King\"\" Red Ale\"  \\\n",
       "user_id                                      \n",
       "491                                    0.0   \n",
       "594                                    0.0   \n",
       "977                                    0.0   \n",
       "1198                                   0.0   \n",
       "1214                                   0.0   \n",
       "\n",
       "names    \" Schlafly #20, Volume 1 - Imperial Pilsner\"  \\\n",
       "user_id                                                 \n",
       "491                                               0.0   \n",
       "594                                               0.0   \n",
       "977                                               0.0   \n",
       "1198                                              0.0   \n",
       "1214                                              0.0   \n",
       "\n",
       "names    \" Tovarish With Cacao, Toasted Almond & Coconut\"  \\\n",
       "user_id                                                     \n",
       "491                                                   0.0   \n",
       "594                                                   0.0   \n",
       "977                                                   0.0   \n",
       "1198                                                  0.0   \n",
       "1214                                                  0.0   \n",
       "\n",
       "names    \" Upright (\"\"Punk Rock\"\" Strong) Lager\"  \\\n",
       "user_id                                            \n",
       "491                                          0.0   \n",
       "594                                          0.0   \n",
       "977                                          0.0   \n",
       "1198                                         0.0   \n",
       "1214                                         0.0   \n",
       "\n",
       "names    \" Zeppelin (for Den Ouden Advokaat, St.Pauwels)\"  \n",
       "user_id                                                    \n",
       "491                                                   0.0  \n",
       "594                                                   0.0  \n",
       "977                                                   0.0  \n",
       "1198                                                  0.0  \n",
       "1214                                                  0.0  \n",
       "\n",
       "[5 rows x 7205 columns]"
      ]
     },
     "execution_count": 9,
     "metadata": {},
     "output_type": "execute_result"
    }
   ],
   "source": [
    "ratings.head()"
   ]
  },
  {
   "cell_type": "markdown",
   "metadata": {},
   "source": [
    "### Sparsity = (17276 / (662 * 15437)) * 100 = 0.16% it is very low..."
   ]
  },
  {
   "cell_type": "markdown",
   "metadata": {},
   "source": [
    "### Corrcoef returns Pearson product-moment correlation coefficients."
   ]
  },
  {
   "cell_type": "code",
   "execution_count": 10,
   "metadata": {
    "collapsed": false
   },
   "outputs": [
    {
     "data": {
      "text/plain": [
       "(7205L, 7205L)"
      ]
     },
     "execution_count": 10,
     "metadata": {},
     "output_type": "execute_result"
    }
   ],
   "source": [
    "corr_matrix= np.corrcoef(ratings.T)\n",
    "corr_matrix.shape"
   ]
  },
  {
   "cell_type": "markdown",
   "metadata": {},
   "source": [
    "### We create a similatity beer function to get all the similarities with other beers."
   ]
  },
  {
   "cell_type": "code",
   "execution_count": 11,
   "metadata": {
    "collapsed": true
   },
   "outputs": [],
   "source": [
    "def get_beer_similarity(names):  \n",
    "    '''Returns correlation vector for a beer'''\n",
    "    beer_idx = list(beer_index).index(names)\n",
    "    return corr_matrix[beer_idx]"
   ]
  },
  {
   "cell_type": "code",
   "execution_count": 12,
   "metadata": {
    "collapsed": false,
    "scrolled": true
   },
   "outputs": [
    {
     "data": {
      "text/plain": [
       "(7205L,)"
      ]
     },
     "execution_count": 12,
     "metadata": {},
     "output_type": "execute_result"
    }
   ],
   "source": [
    "a=get_beer_similarity(\" Pumpkin Ale\")\n",
    "a.shape"
   ]
  },
  {
   "cell_type": "code",
   "execution_count": 13,
   "metadata": {
    "collapsed": false
   },
   "outputs": [
    {
     "data": {
      "text/plain": [
       "array([-0.01346934, -0.01346934, -0.01346934, ..., -0.01346934,\n",
       "       -0.01346934, -0.01346934])"
      ]
     },
     "execution_count": 13,
     "metadata": {},
     "output_type": "execute_result"
    }
   ],
   "source": [
    "a"
   ]
  },
  {
   "cell_type": "markdown",
   "metadata": {},
   "source": [
    "### Make a function to input user beers which returns a matrix with recommendations"
   ]
  },
  {
   "cell_type": "code",
   "execution_count": 14,
   "metadata": {
    "collapsed": true
   },
   "outputs": [],
   "source": [
    "def get_beer_recommendations(user_name):  \n",
    "    '''given a set of beers, it returns all the beers sorted by their correlation with the user'''\n",
    "    beer_similarities = np.zeros(corr_matrix.shape[0])\n",
    "    for Id in user_name:\n",
    "        beer_similarities = beer_similarities + get_beer_similarity(Id)\n",
    "    similarities_df = pd.DataFrame({\n",
    "        'beer_name': beer_index,\n",
    "        'sum_similarity': beer_similarities\n",
    "        })\n",
    "    similarities_df = similarities_df[~(similarities_df.beer_name.isin(user_name))]\n",
    "    similarities_df = similarities_df.sort_values(by=['sum_similarity'], ascending=False)\n",
    "    return similarities_df.beer_name.head(5)"
   ]
  },
  {
   "cell_type": "code",
   "execution_count": 15,
   "metadata": {
    "collapsed": false
   },
   "outputs": [
    {
     "data": {
      "text/html": [
       "<div>\n",
       "<table border=\"1\" class=\"dataframe\">\n",
       "  <thead>\n",
       "    <tr style=\"text-align: right;\">\n",
       "      <th></th>\n",
       "      <th>user_id</th>\n",
       "      <th>profile_name</th>\n",
       "      <th>Id</th>\n",
       "      <th>names</th>\n",
       "      <th>num_rated_beers</th>\n",
       "      <th>style</th>\n",
       "      <th>overall</th>\n",
       "    </tr>\n",
       "  </thead>\n",
       "  <tbody>\n",
       "  </tbody>\n",
       "</table>\n",
       "</div>"
      ],
      "text/plain": [
       "Empty DataFrame\n",
       "Columns: [user_id, profile_name, Id, names, num_rated_beers, style, overall]\n",
       "Index: []"
      ]
     },
     "execution_count": 15,
     "metadata": {},
     "output_type": "execute_result"
    }
   ],
   "source": [
    "sample_user = ' barleywinefiend'\n",
    "df[df.profile_name==sample_user].sort_values(by=['overall'], ascending=False)"
   ]
  },
  {
   "cell_type": "code",
   "execution_count": 16,
   "metadata": {
    "collapsed": false
   },
   "outputs": [
    {
     "data": {
      "text/plain": [
       "0                        $ellout $tout\n",
       "4841             Pale Ale (Centennial)\n",
       "4811                          Oxymoron\n",
       "4810     Oxymore Periple En La Demeure\n",
       "4809                  Oxford Raspberry\n",
       "Name: beer_name, dtype: object"
      ]
     },
     "execution_count": 16,
     "metadata": {},
     "output_type": "execute_result"
    }
   ],
   "source": [
    "sample_user_beers = df[df.profile_name==sample_user].names.tolist()  \n",
    "recommendations = get_beer_recommendations(sample_user_beers)\n",
    "recommendations"
   ]
  },
  {
   "cell_type": "code",
   "execution_count": 17,
   "metadata": {
    "collapsed": false
   },
   "outputs": [
    {
     "data": {
      "text/html": [
       "<div>\n",
       "<table border=\"1\" class=\"dataframe\">\n",
       "  <thead>\n",
       "    <tr style=\"text-align: right;\">\n",
       "      <th></th>\n",
       "      <th>index</th>\n",
       "      <th>profile_name</th>\n",
       "    </tr>\n",
       "  </thead>\n",
       "  <tbody>\n",
       "  </tbody>\n",
       "</table>\n",
       "</div>"
      ],
      "text/plain": [
       "Empty DataFrame\n",
       "Columns: [index, profile_name]\n",
       "Index: []"
      ]
     },
     "execution_count": 17,
     "metadata": {},
     "output_type": "execute_result"
    }
   ],
   "source": [
    "df1=df[df.profile_name==sample_user].head(5)\n",
    "df1=df1.filter(items=['profile_name'])\n",
    "df1.reset_index(inplace=True)\n",
    "df1"
   ]
  },
  {
   "cell_type": "code",
   "execution_count": 18,
   "metadata": {
    "collapsed": false,
    "scrolled": false
   },
   "outputs": [
    {
     "data": {
      "text/html": [
       "<div>\n",
       "<table border=\"1\" class=\"dataframe\">\n",
       "  <thead>\n",
       "    <tr style=\"text-align: right;\">\n",
       "      <th></th>\n",
       "      <th>index</th>\n",
       "      <th>beer_name</th>\n",
       "    </tr>\n",
       "  </thead>\n",
       "  <tbody>\n",
       "    <tr>\n",
       "      <th>0</th>\n",
       "      <td>0</td>\n",
       "      <td>$ellout $tout</td>\n",
       "    </tr>\n",
       "    <tr>\n",
       "      <th>1</th>\n",
       "      <td>4841</td>\n",
       "      <td>Pale Ale (Centennial)</td>\n",
       "    </tr>\n",
       "    <tr>\n",
       "      <th>2</th>\n",
       "      <td>4811</td>\n",
       "      <td>Oxymoron</td>\n",
       "    </tr>\n",
       "    <tr>\n",
       "      <th>3</th>\n",
       "      <td>4810</td>\n",
       "      <td>Oxymore Periple En La Demeure</td>\n",
       "    </tr>\n",
       "    <tr>\n",
       "      <th>4</th>\n",
       "      <td>4809</td>\n",
       "      <td>Oxford Raspberry</td>\n",
       "    </tr>\n",
       "  </tbody>\n",
       "</table>\n",
       "</div>"
      ],
      "text/plain": [
       "   index                       beer_name\n",
       "0      0                   $ellout $tout\n",
       "1   4841           Pale Ale (Centennial)\n",
       "2   4811                        Oxymoron\n",
       "3   4810   Oxymore Periple En La Demeure\n",
       "4   4809                Oxford Raspberry"
      ]
     },
     "execution_count": 18,
     "metadata": {},
     "output_type": "execute_result"
    }
   ],
   "source": [
    "df_final=recommendations.to_frame()\n",
    "df_final.reset_index(inplace=True)\n",
    "df_final"
   ]
  },
  {
   "cell_type": "code",
   "execution_count": 19,
   "metadata": {
    "collapsed": true
   },
   "outputs": [],
   "source": [
    "df_final_prueba=pd.concat([df1['profile_name'], df_final['beer_name']], axis=1)"
   ]
  },
  {
   "cell_type": "code",
   "execution_count": 20,
   "metadata": {
    "collapsed": false
   },
   "outputs": [
    {
     "data": {
      "text/html": [
       "<div>\n",
       "<table border=\"1\" class=\"dataframe\">\n",
       "  <thead>\n",
       "    <tr style=\"text-align: right;\">\n",
       "      <th></th>\n",
       "      <th>profile_name</th>\n",
       "      <th>beer_name</th>\n",
       "    </tr>\n",
       "  </thead>\n",
       "  <tbody>\n",
       "    <tr>\n",
       "      <th>0</th>\n",
       "      <td>NaN</td>\n",
       "      <td>$ellout $tout</td>\n",
       "    </tr>\n",
       "    <tr>\n",
       "      <th>1</th>\n",
       "      <td>NaN</td>\n",
       "      <td>Pale Ale (Centennial)</td>\n",
       "    </tr>\n",
       "    <tr>\n",
       "      <th>2</th>\n",
       "      <td>NaN</td>\n",
       "      <td>Oxymoron</td>\n",
       "    </tr>\n",
       "    <tr>\n",
       "      <th>3</th>\n",
       "      <td>NaN</td>\n",
       "      <td>Oxymore Periple En La Demeure</td>\n",
       "    </tr>\n",
       "    <tr>\n",
       "      <th>4</th>\n",
       "      <td>NaN</td>\n",
       "      <td>Oxford Raspberry</td>\n",
       "    </tr>\n",
       "  </tbody>\n",
       "</table>\n",
       "</div>"
      ],
      "text/plain": [
       "  profile_name                       beer_name\n",
       "0          NaN                   $ellout $tout\n",
       "1          NaN           Pale Ale (Centennial)\n",
       "2          NaN                        Oxymoron\n",
       "3          NaN   Oxymore Periple En La Demeure\n",
       "4          NaN                Oxford Raspberry"
      ]
     },
     "execution_count": 20,
     "metadata": {},
     "output_type": "execute_result"
    }
   ],
   "source": [
    "df_final_prueba"
   ]
  },
  {
   "cell_type": "code",
   "execution_count": 21,
   "metadata": {
    "collapsed": false
   },
   "outputs": [
    {
     "data": {
      "text/html": [
       "<div>\n",
       "<table border=\"1\" class=\"dataframe\">\n",
       "  <thead>\n",
       "    <tr style=\"text-align: right;\">\n",
       "      <th></th>\n",
       "      <th>user_id</th>\n",
       "      <th>profile_name</th>\n",
       "      <th>Id</th>\n",
       "      <th>names</th>\n",
       "      <th>num_rated_beers</th>\n",
       "      <th>style</th>\n",
       "      <th>overall</th>\n",
       "    </tr>\n",
       "  </thead>\n",
       "  <tbody>\n",
       "  </tbody>\n",
       "</table>\n",
       "</div>"
      ],
      "text/plain": [
       "Empty DataFrame\n",
       "Columns: [user_id, profile_name, Id, names, num_rated_beers, style, overall]\n",
       "Index: []"
      ]
     },
     "execution_count": 21,
     "metadata": {},
     "output_type": "execute_result"
    }
   ],
   "source": [
    "df_filtered = df[df['profile_name'] == \" barleywinefiend\"]\n",
    "df_filtered"
   ]
  },
  {
   "cell_type": "markdown",
   "metadata": {
    "collapsed": true
   },
   "source": [
    "### Make the application\n",
    "### To make a dropdown list to select the user and get the 5 top recommendations"
   ]
  },
  {
   "cell_type": "markdown",
   "metadata": {},
   "source": [
    "### Select the user in the dropdown list below, and get your top 5 recommendations!"
   ]
  },
  {
   "cell_type": "code",
   "execution_count": 22,
   "metadata": {
    "collapsed": false
   },
   "outputs": [
    {
     "data": {
      "text/plain": [
       "599      Bavarian Style Hefeweizen\n",
       "1862              Dark Star Porter\n",
       "3846          Lakeside British Ale\n",
       "5427              Rockford Bay IPA\n",
       "3422              Imperial Pilsner\n",
       "Name: beer_name, dtype: object"
      ]
     },
     "metadata": {},
     "output_type": "display_data"
    }
   ],
   "source": [
    "import ipywidgets as widgets\n",
    "from ipywidgets import interactive\n",
    " \n",
    "items = sorted(df['profile_name'].unique().tolist())\n",
    "\n",
    "def view(x=''):\n",
    "    if x==x: return(get_beer_recommendations(df[df.profile_name==x].names.tolist()))\n",
    "     \n",
    "    \n",
    "w = widgets.Select(options=items)\n",
    "interactive(view, x=w)\n",
    "\n"
   ]
  },
  {
   "cell_type": "code",
   "execution_count": null,
   "metadata": {
    "collapsed": true
   },
   "outputs": [],
   "source": []
  }
 ],
 "metadata": {
  "kernelspec": {
   "display_name": "Python 2",
   "language": "python",
   "name": "python2"
  },
  "language_info": {
   "codemirror_mode": {
    "name": "ipython",
    "version": 2
   },
   "file_extension": ".py",
   "mimetype": "text/x-python",
   "name": "python",
   "nbconvert_exporter": "python",
   "pygments_lexer": "ipython2",
   "version": "2.7.13"
  },
  "widgets": {
   "state": {
    "dda7202066704801aa428276e1ada53b": {
     "views": [
      {
       "cell_index": 28
      }
     ]
    }
   },
   "version": "1.2.0"
  }
 },
 "nbformat": 4,
 "nbformat_minor": 2
}
