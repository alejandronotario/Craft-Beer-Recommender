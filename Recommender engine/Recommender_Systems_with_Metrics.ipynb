{
 "cells": [
  {
   "cell_type": "markdown",
   "metadata": {},
   "source": [
    "# Recommender Systems evaluated by different metrics"
   ]
  },
  {
   "cell_type": "code",
   "execution_count": 1,
   "metadata": {
    "collapsed": true
   },
   "outputs": [],
   "source": [
    "import warnings\n",
    "warnings.filterwarnings(\"ignore\")\n",
    "import csv\n",
    "import pandas as pd\n",
    "import numpy as np\n",
    "from sklearn import preprocessing\n",
    "from sklearn.preprocessing import LabelEncoder"
   ]
  },
  {
   "cell_type": "code",
   "execution_count": 2,
   "metadata": {
    "scrolled": true
   },
   "outputs": [],
   "source": [
    "beers = pd.read_csv('df_clean.csv')"
   ]
  },
  {
   "cell_type": "code",
   "execution_count": 3,
   "metadata": {
    "scrolled": false
   },
   "outputs": [
    {
     "data": {
      "text/html": [
       "<div>\n",
       "<style>\n",
       "    .dataframe thead tr:only-child th {\n",
       "        text-align: right;\n",
       "    }\n",
       "\n",
       "    .dataframe thead th {\n",
       "        text-align: left;\n",
       "    }\n",
       "\n",
       "    .dataframe tbody tr th {\n",
       "        vertical-align: top;\n",
       "    }\n",
       "</style>\n",
       "<table border=\"1\" class=\"dataframe\">\n",
       "  <thead>\n",
       "    <tr style=\"text-align: right;\">\n",
       "      <th></th>\n",
       "      <th>Unnamed: 0</th>\n",
       "      <th>Unnamed: 0.1</th>\n",
       "      <th>Unnamed: 0.1.1</th>\n",
       "      <th>names</th>\n",
       "      <th>Id</th>\n",
       "      <th>brewerId</th>\n",
       "      <th>ABV</th>\n",
       "      <th>style</th>\n",
       "      <th>appearance</th>\n",
       "      <th>aroma</th>\n",
       "      <th>...</th>\n",
       "      <th>profile_name</th>\n",
       "      <th>text</th>\n",
       "      <th>time2</th>\n",
       "      <th>day</th>\n",
       "      <th>month</th>\n",
       "      <th>year</th>\n",
       "      <th>user_id</th>\n",
       "      <th>beers_by_day</th>\n",
       "      <th>more_beers_than_10</th>\n",
       "      <th>too_much_beers</th>\n",
       "    </tr>\n",
       "  </thead>\n",
       "  <tbody>\n",
       "    <tr>\n",
       "      <th>0</th>\n",
       "      <td>5930</td>\n",
       "      <td>7</td>\n",
       "      <td>7</td>\n",
       "      <td>Caldera Ginger Beer</td>\n",
       "      <td>52159</td>\n",
       "      <td>1075</td>\n",
       "      <td>4.7</td>\n",
       "      <td>Herbed / Spiced Beer</td>\n",
       "      <td>3.5</td>\n",
       "      <td>2.5</td>\n",
       "      <td>...</td>\n",
       "      <td>alpinebryant</td>\n",
       "      <td>\" Bottle says \"\"Malt beverage brewed with Ging...</td>\n",
       "      <td>2011-05-24</td>\n",
       "      <td>24</td>\n",
       "      <td>5</td>\n",
       "      <td>2011</td>\n",
       "      <td>13938</td>\n",
       "      <td>2</td>\n",
       "      <td>0</td>\n",
       "      <td>0</td>\n",
       "    </tr>\n",
       "  </tbody>\n",
       "</table>\n",
       "<p>1 rows × 24 columns</p>\n",
       "</div>"
      ],
      "text/plain": [
       "   Unnamed: 0  Unnamed: 0.1  Unnamed: 0.1.1                 names     Id  \\\n",
       "0        5930             7               7   Caldera Ginger Beer  52159   \n",
       "\n",
       "   brewerId  ABV                  style  appearance  aroma       ...        \\\n",
       "0      1075  4.7   Herbed / Spiced Beer         3.5    2.5       ...         \n",
       "\n",
       "    profile_name                                               text  \\\n",
       "0   alpinebryant  \" Bottle says \"\"Malt beverage brewed with Ging...   \n",
       "\n",
       "        time2  day month  year user_id  beers_by_day  more_beers_than_10  \\\n",
       "0  2011-05-24   24     5  2011   13938             2                   0   \n",
       "\n",
       "   too_much_beers  \n",
       "0               0  \n",
       "\n",
       "[1 rows x 24 columns]"
      ]
     },
     "execution_count": 3,
     "metadata": {},
     "output_type": "execute_result"
    }
   ],
   "source": [
    "beers.head(1)"
   ]
  },
  {
   "cell_type": "code",
   "execution_count": 4,
   "metadata": {},
   "outputs": [],
   "source": [
    "beers['beerId'] = LabelEncoder().fit_transform(beers.names)"
   ]
  },
  {
   "cell_type": "code",
   "execution_count": 5,
   "metadata": {
    "collapsed": true
   },
   "outputs": [],
   "source": [
    "beers.rename(columns={'names':'beerName'}, inplace=True)"
   ]
  },
  {
   "cell_type": "code",
   "execution_count": 6,
   "metadata": {},
   "outputs": [
    {
     "data": {
      "text/html": [
       "<div>\n",
       "<style>\n",
       "    .dataframe thead tr:only-child th {\n",
       "        text-align: right;\n",
       "    }\n",
       "\n",
       "    .dataframe thead th {\n",
       "        text-align: left;\n",
       "    }\n",
       "\n",
       "    .dataframe tbody tr th {\n",
       "        vertical-align: top;\n",
       "    }\n",
       "</style>\n",
       "<table border=\"1\" class=\"dataframe\">\n",
       "  <thead>\n",
       "    <tr style=\"text-align: right;\">\n",
       "      <th></th>\n",
       "      <th>user_id</th>\n",
       "      <th>profile_name</th>\n",
       "      <th>beerId</th>\n",
       "      <th>beerName</th>\n",
       "      <th>overall</th>\n",
       "    </tr>\n",
       "  </thead>\n",
       "  <tbody>\n",
       "    <tr>\n",
       "      <th>0</th>\n",
       "      <td>13938</td>\n",
       "      <td>alpinebryant</td>\n",
       "      <td>6549</td>\n",
       "      <td>Caldera Ginger Beer</td>\n",
       "      <td>3.0</td>\n",
       "    </tr>\n",
       "    <tr>\n",
       "      <th>1</th>\n",
       "      <td>13938</td>\n",
       "      <td>alpinebryant</td>\n",
       "      <td>28676</td>\n",
       "      <td>Short's Cup A Joe Coffee Creme Stout</td>\n",
       "      <td>4.0</td>\n",
       "    </tr>\n",
       "  </tbody>\n",
       "</table>\n",
       "</div>"
      ],
      "text/plain": [
       "   user_id   profile_name  beerId                               beerName  \\\n",
       "0    13938   alpinebryant    6549                    Caldera Ginger Beer   \n",
       "1    13938   alpinebryant   28676   Short's Cup A Joe Coffee Creme Stout   \n",
       "\n",
       "   overall  \n",
       "0      3.0  \n",
       "1      4.0  "
      ]
     },
     "execution_count": 6,
     "metadata": {},
     "output_type": "execute_result"
    }
   ],
   "source": [
    "df=beers.filter(items=['user_id','profile_name', 'beerId', 'beerName', 'overall'])\n",
    "df.head(2)"
   ]
  },
  {
   "cell_type": "code",
   "execution_count": 7,
   "metadata": {
    "scrolled": true
   },
   "outputs": [],
   "source": [
    "df2=beers.filter(items=['beerId', 'beerName'])"
   ]
  },
  {
   "cell_type": "markdown",
   "metadata": {},
   "source": [
    "#### We are going to create a dictionary with the the beers Ids as a key"
   ]
  },
  {
   "cell_type": "code",
   "execution_count": 8,
   "metadata": {},
   "outputs": [],
   "source": [
    "df3=df2.groupby('beerId')['beerName'].first()"
   ]
  },
  {
   "cell_type": "code",
   "execution_count": 9,
   "metadata": {},
   "outputs": [],
   "source": [
    "beer_dict=df3.to_dict()"
   ]
  },
  {
   "cell_type": "code",
   "execution_count": 10,
   "metadata": {},
   "outputs": [
    {
     "data": {
      "text/plain": [
       "{0: ' # 100',\n",
       " 1: \" #'s Ale\",\n",
       " 2: ' #1 Abbey Ale',\n",
       " 3: ' #13',\n",
       " 4: ' #14',\n",
       " 5: ' #20 Jubilee (Yubilejnoe)',\n",
       " 6: ' #9',\n",
       " 7: ' $ellout $tout',\n",
       " 8: ' &#268;ernovar &#268;ern\\xc3\\xa9',\n",
       " 9: ' &#268;ern\\xc3\\xa1 Hora Moravsk\\xc3\\xa9 Sklepn\\xc3\\xad',\n",
       " 10: ' &#268;ern\\xc3\\xa1 Hora P\\xc3\\xa1ter',\n",
       " 11: ' &#268;ern\\xc3\\xa1 Hora Velen',\n",
       " 12: ' &#268;ern\\xc3\\xa9 Z\\xc3\\xa1meck\\xc3\\xa9',\n",
       " 13: ' &#960;&#964;&#953;&#963;&#940;&#957;&#951; (tisane)',\n",
       " 14: \" '71 Pale Ale\",\n",
       " 15: \" 'F\\xc3\\xa8ileadh Air Teine' - Scottish Oatmeal Stout\",\n",
       " 16: \" 'Pooya Porter\",\n",
       " 17: \" 'Stock Stout\",\n",
       " 18: \" 'T Zelfde\",\n",
       " 19: \" 'Tis The Saison\",\n",
       " 20: \" 'Vagabond Blonde' Blonde Ale\",\n",
       " 21: \" 'Zula Stout\",\n",
       " 22: \" 't Gaverhopke / Tired Hands Bitter Sweet Symphony\",\n",
       " 23: \" 't Gaverhopke De Kriek (Red Cap)\",\n",
       " 24: \" 't Gaverhopke Den Blond 8\\xc2\\xb0 (White Cap)\",\n",
       " 25: \" 't Gaverhopke Den Bruin 8\\xc2\\xb0 (Blue Cap)\",\n",
       " 26: \" 't Gaverhopke Extra\",\n",
       " 27: \" 't Gaverhopke Zingende Blondine\",\n",
       " 28: \" 't Goeye Goet Dubbel\",\n",
       " 29: \" 't Hartje( For Hbry De B's & 1st Year CVO-IVV Gent)\",\n",
       " 30: \" 't Schoenlappertje\",\n",
       " 31: \" 't Smisje BBBourgondier\",\n",
       " 32: \" 't Smisje Blond\",\n",
       " 33: \" 't Smisje Calva Reserva\",\n",
       " 34: \" 't Smisje Dubbel\",\n",
       " 35: \" 't Smisje Fiori\",\n",
       " 36: \" 't Smisje Grande Reserva\",\n",
       " 37: \" 't Smisje Great Reserva\",\n",
       " 38: \" 't Smisje Halloween\",\n",
       " 39: \" 't Smisje Honingbier Blond\",\n",
       " 40: \" 't Smisje Honingbier Bruin\",\n",
       " 41: \" 't Smisje IPA+\",\n",
       " 42: \" 't Smisje Kerst\",\n",
       " 43: \" 't Smisje Kuvee Elektrik 979W\",\n",
       " 44: \" 't Smisje Tripel\",\n",
       " 45: ' (512) Alt',\n",
       " 46: ' (512) Black IPA',\n",
       " 47: ' (512) Brandy Barrel Aged ONE',\n",
       " 48: ' (512) Bruin',\n",
       " 49: ' (512) Cascabel Cream Stout',\n",
       " 50: ' (512) IPA',\n",
       " 51: ' (512) ONE',\n",
       " 52: ' (512) Pale',\n",
       " 53: ' (512) Pecan Porter',\n",
       " 54: ' (512) TWO',\n",
       " 55: ' (512) Three',\n",
       " 56: ' (512) Whiskey Barrel Aged Double Pecan Porter',\n",
       " 57: ' (512) Wit',\n",
       " 58: ' (STOUT)',\n",
       " 59: ' (Styrian) Anniversary IPA',\n",
       " 60: ' (Woodford Reserve) Bourbon Barrel Porter',\n",
       " 61: ' (s)Cream Ale',\n",
       " 62: ' .357 Imperial Pilsner',\n",
       " 63: ' 0% Brett Saison De Lente',\n",
       " 64: \" 06 Old Ton O' Bricks Barleywine\",\n",
       " 65: ' 077XX',\n",
       " 66: ' 077XX Double IPA',\n",
       " 67: ' 1 A.M. Ale',\n",
       " 68: ' 1 Door Flemish Style Sour Ale',\n",
       " 69: ' 1 Door Saison Style Ale',\n",
       " 70: ' 1/2 Court Light',\n",
       " 71: ' 1/2 Weizen Bier',\n",
       " 72: ' 10',\n",
       " 73: ' 10 (Dieci)',\n",
       " 74: ' 10 BBL Pale Ale',\n",
       " 75: ' 10 Blocks South',\n",
       " 76: ' 10 Commandments',\n",
       " 77: ' 10 Commandments - Bourbon Barrel-Aged',\n",
       " 78: ' 10 Degrees Below',\n",
       " 79: ' 10 E Lode',\n",
       " 80: ' 10 Marad\\xc3\\xb3',\n",
       " 81: ' 10 Squared Fish Tale Ale',\n",
       " 82: ' 10,13 Oatmeal Stout',\n",
       " 83: ' 10-10-10 IPA',\n",
       " 84: ' 10-10-10 IPA (Whiskey Barrel Aged)',\n",
       " 85: ' 10-10-100 IPA',\n",
       " 86: ' 100 Meter Ale',\n",
       " 87: ' 100% Barrel Fermented Autumn Maple',\n",
       " 88: ' 100% Brett Autumn Maple',\n",
       " 89: ' 1000',\n",
       " 90: ' 1000 IBU',\n",
       " 91: ' 1000 IBU - Barrel Aged',\n",
       " 92: ' 1000 IBU Light',\n",
       " 93: ' 1001 Bandits',\n",
       " 94: ' 100th Harvest Glacier Lager',\n",
       " 95: ' 101 Oktan',\n",
       " 96: ' 1060 EZ Taxation Ale',\n",
       " 97: ' 1066',\n",
       " 98: ' 1066 Ale',\n",
       " 99: ' 1084 Barley Wine Ale',\n",
       " 100: ' 10W-30 Imperial Oatmeal Stout',\n",
       " 101: ' 10th Anniversary Ale',\n",
       " 102: ' 10th Anniversary Bock-style Red Fox',\n",
       " 103: ' 10th Anniversary Double India Pale Ale',\n",
       " 104: ' 10th Anniversary Rye IPA',\n",
       " 105: ' 10th Anniversary Special Russian Imperial Stout',\n",
       " 106: ' 10th Anniversary Thunder Hop IPA',\n",
       " 107: ' 10th Anniversary Uber Maibock',\n",
       " 108: ' 10th Great British Beer Festival Anniversary Ale',\n",
       " 109: ' 10th Street Cherry Wheat',\n",
       " 110: ' 10w-30 Oatmeal Stout',\n",
       " 111: ' 11',\n",
       " 112: ' 11 Si\\xc3\\xa8cles De Normandie',\n",
       " 113: ' 1100',\n",
       " 114: ' 110K+OT Batch #1 - Der Rauch Gott',\n",
       " 115: ' 110K+OT Batch #2 - I.R.I.S.',\n",
       " 116: ' 110K+OT Batch #2 - I.R.I.S. - Barrel Aged',\n",
       " 117: ' 110K+OT Batch #3 - The Other West Coast IPA',\n",
       " 118: ' 110K+OT Batch #3 - The Other West Coast IPA - Cedar Aged (Humidor Series)',\n",
       " 119: ' 110K+OT Batch #4 - Imperial Red Ale',\n",
       " 120: \" 1133 Biere D'Abbaye\",\n",
       " 121: ' 11th Anniversary (2009) Blackberry Wit',\n",
       " 122: ' 11th Anniversary Double IPA',\n",
       " 123: ' 11th Anniversary Double Wheat',\n",
       " 124: ' 11th Anniversary Pale Ale ( Project XI )',\n",
       " 125: ' 11th Hour IPA',\n",
       " 126: ' 12 Dogs Of Christmas Ale',\n",
       " 127: ' 12 Gauge Stout',\n",
       " 128: ' 12 Horse Ale',\n",
       " 129: ' 12 Year Anniversary Ale',\n",
       " 130: ' 12 Year Witbeer',\n",
       " 131: ' 120 Minute IPA',\n",
       " 132: ' 120 Schilling Scotch Ale',\n",
       " 133: ' 120 Shilling Ale',\n",
       " 134: ' 1260 Triple India Pale Ale',\n",
       " 135: ' 12th Anniversary Imperial Porter',\n",
       " 136: ' 12th Anniversary Undercover Investigation Shut-Down Ale',\n",
       " 137: ' 12th Street Pilsner (15th Anniversary)',\n",
       " 138: ' 13 (Thirteen) Degrees',\n",
       " 139: ' 13 Hour Wheat Wine',\n",
       " 140: ' 13 Rebels ESB',\n",
       " 141: ' 132 Cents IPA',\n",
       " 142: ' 13th Anniversary Ale',\n",
       " 143: ' 14 Year Anniversary Ale',\n",
       " 144: \" 14'ER ESB\",\n",
       " 145: ' 1488 Blonde Ale',\n",
       " 146: ' 1488 Strong Ale',\n",
       " 147: ' 1488 Traditional Ale',\n",
       " 148: ' 1488 Whisky Beer',\n",
       " 149: ' 1492 IPA',\n",
       " 150: ' 14th Anniversary Ale',\n",
       " 151: ' 14th Anniversary English Brown Ale',\n",
       " 152: ' 14th Anniversary IPA',\n",
       " 153: ' 14th Anniversary Imperial Red',\n",
       " 154: ' 15',\n",
       " 155: ' 150th Anniversary Ale',\n",
       " 156: ' 150th Anniversary All Malt Lager',\n",
       " 157: ' 1516',\n",
       " 158: ' 1516 Bavarian Lager',\n",
       " 159: ' 152 Pilsner',\n",
       " 160: ' 1535 Pearl Street Porter',\n",
       " 161: ' 1554 Enlightened Black Ale',\n",
       " 162: ' 15th Anniversary Ale',\n",
       " 163: ' 15th Anniversary Belgian Quadruple',\n",
       " 164: ' 15th Anniversary Double Wench',\n",
       " 165: ' 15th Anniversary ESB',\n",
       " 166: ' 15th Anniversary Traditional Bock',\n",
       " 167: ' 15th Anniversary Wood Aged',\n",
       " 168: ' 16',\n",
       " 169: ' 16 Ton IPA',\n",
       " 170: ' 16 Year Anniversary Ale',\n",
       " 171: ' 1602 Colonial Style Porter',\n",
       " 172: ' 1608',\n",
       " 173: ' 1612er Zwickl Bier',\n",
       " 174: ' 1633 Original Dunkel',\n",
       " 175: ' 1635 (UU375)',\n",
       " 176: ' 1673',\n",
       " 177: ' 16th Anniversary ESB',\n",
       " 178: ' 16th Anniversary India Black Ale',\n",
       " 179: ' 16th Anniversary Wood Aged',\n",
       " 180: ' 16th Avenue Pilsner',\n",
       " 181: ' 17 Year Anniversary Ale',\n",
       " 182: ' 1702',\n",
       " 183: ' 1731 Dark',\n",
       " 184: ' 1757 GW',\n",
       " 185: ' 1776',\n",
       " 186: ' 1784',\n",
       " 187: ' 1787 Abbey Single',\n",
       " 188: ' 1795 Original Czech Lager',\n",
       " 189: ' 17th Anniversary Wood Aged Double IPA',\n",
       " 190: ' 18',\n",
       " 191: ' 18 Barrel IPA',\n",
       " 192: ' 18 Hands Brown Ale',\n",
       " 193: ' 1800 Old English IPA',\n",
       " 194: ' 1803 Fat Ox Ale',\n",
       " 195: ' 1811 Pre-Prohibition Lager',\n",
       " 196: ' 1812 India Pale Ale',\n",
       " 197: ' 1814 ESB',\n",
       " 198: ' 1825',\n",
       " 199: ' 1837',\n",
       " 200: ' 1846 Pale Ale',\n",
       " 201: ' 1849',\n",
       " 202: ' 1849 Irish Red Ale',\n",
       " 203: ' 1850 London Porter',\n",
       " 204: ' 1850 Porter',\n",
       " 205: ' 1855 Celebration Lager',\n",
       " 206: ' 1856 IPA',\n",
       " 207: ' 1860 IPA',\n",
       " 208: \" 1861 Arnold's Porter\",\n",
       " 209: ' 1867 Munich Dunkel',\n",
       " 210: ' 1871 Lager',\n",
       " 211: ' 1872 Porter',\n",
       " 212: ' 1878 Einbecker Doppelbock',\n",
       " 213: ' 1881',\n",
       " 214: ' 1888 Bock',\n",
       " 215: ' 1890 Schwarzbier',\n",
       " 216: ' 1892 Traditional Ale',\n",
       " 217: ' 1896 Wood Island Old Ale',\n",
       " 218: ' 1897 Stanley Park Amber',\n",
       " 219: ' 18th Anniversary Pilsner',\n",
       " 220: ' 18th Century India Pale Ale',\n",
       " 221: ' 18th Street Pale Ale',\n",
       " 222: ' 1900 Amber Lager',\n",
       " 223: ' 1900 Sp\\xc3\\xa9ciale Bonnes F\\xc3\\xaates',\n",
       " 224: ' 1901 Red Ale',\n",
       " 225: ' 1905 Century Ale',\n",
       " 226: ' 1906 Anniverysary Pale Ale',\n",
       " 227: ' 1906 Reserva Especial',\n",
       " 228: ' 1913 Traditional Kolsch',\n",
       " 229: ' 1914 Porter',\n",
       " 230: ' 1919 - Choc Beer',\n",
       " 231: ' 1982',\n",
       " 232: ' 1984 Golden Ale',\n",
       " 233: ' 1997 Saison',\n",
       " 234: ' 19th Anniversary Belgian Style Golden Ale',\n",
       " 235: ' 19th Anniversary ESB',\n",
       " 236: ' 19th Hole Ale',\n",
       " 237: ' 1er Anniversaire',\n",
       " 238: ' 1st Anniversary Ale',\n",
       " 239: ' 1st Anniversary Ale, Imperial Blood Orange Wheat',\n",
       " 240: ' 1st Anniversary Red Wheat',\n",
       " 241: ' 2 Hills Maibock',\n",
       " 242: ' 2 Paws',\n",
       " 243: ' 2 Pint IPA',\n",
       " 244: ' 2 Sisters Stout',\n",
       " 245: ' 2 Turtle Doves',\n",
       " 246: ' 2 Turtle Doves (Vanilla Beans)',\n",
       " 247: ' 2 X 4 Stout',\n",
       " 248: ' 2,01 IRA',\n",
       " 249: ' 2-6-0',\n",
       " 250: ' 20 To Life',\n",
       " 251: ' 20,20 Blonde Ale',\n",
       " 252: ' 200 Meter Ale',\n",
       " 253: ' 2000 Not Out',\n",
       " 254: ' 2002 Anniversary Ale',\n",
       " 255: ' 2003 Yo-Ho Barleywine',\n",
       " 256: ' 2004 Symposium Ale',\n",
       " 257: ' 2005 Christmas Ale',\n",
       " 258: ' 2005 Peated Wee Heavy',\n",
       " 259: ' 2006 Christmas Ale',\n",
       " 260: ' 2006 Double Bastard Ale Aged In Brandy Barrels',\n",
       " 261: ' 2007 Christmas Ale',\n",
       " 262: ' 2007 Vintage Oak Aged Ale (Barrel No. 230)',\n",
       " 263: ' 2008 Christmas Ale',\n",
       " 264: ' 2008 Vintage Oak Aged Ale (Barrel No. 96)',\n",
       " 265: ' 2009 Christmas Ale',\n",
       " 266: ' 2009 Correction Ale',\n",
       " 267: ' 2009 Vintage Oak Aged Ale (Barrel No. 145)',\n",
       " 268: ' 2010 Barleywine',\n",
       " 269: ' 2010 Bluesapalooza',\n",
       " 270: ' 2010 Christmas Ale',\n",
       " 271: ' 2010 Cleveland Beer Week Collaboration Altbier (w/ Cornerstone)',\n",
       " 272: ' 2010 Cleveland Beer Week India-Style Black Ale',\n",
       " 273: ' 2010 Oktoberfest 200th Anniversary Jubil\\xc3\\xa4umsbier Collaboration',\n",
       " 274: ' 2010 Reserve Amber Ale',\n",
       " 275: ' 2010 Reserve Old Boardhead Barley Wine Ale',\n",
       " 276: ' 2010 Reserve Pale Ale',\n",
       " 277: ' 2011 Belgian Independence Day Saison',\n",
       " 278: ' 2011 Christmas Ale',\n",
       " 279: ' 2011 Cleveland Beer Week Hoppy German-Style Altbier',\n",
       " 280: ' 2011 Grand Cr\\xc3\\xbce',\n",
       " 281: ' 2011 Owens Valley Wet Harvest Lager',\n",
       " 282: ' 2011 Reserve Pale Ale',\n",
       " 283: ' 2011 Symposium IPA',\n",
       " 284: ' 2011 Symposium New Albion Porter',\n",
       " 285: ' 2011 Symposium Oyster Stout',\n",
       " 286: ' 2012 Black Ale',\n",
       " 287: ' 2020',\n",
       " 288: ' 20th Anniversary',\n",
       " 289: ' 20th Anniversary  Wee Heavy',\n",
       " 290: ' 20th Anniversary Ale',\n",
       " 291: ' 20th Anniversary American IPA',\n",
       " 292: ' 20th Anniversary Belgian Ale',\n",
       " 293: ' 20th Anniversary ESB',\n",
       " 294: ' 20th Anniversary Old Ale',\n",
       " 295: ' 20th Anniversary Pilsner',\n",
       " 296: ' 20th Anniversary Rorschach One',\n",
       " 297: ' 20th Anniversary Tripel (Aged In Bourbon Barrels For 10 Months)',\n",
       " 298: ' 20th Anniversary Wit',\n",
       " 299: ' 20th Street Green Hop Ale',\n",
       " 300: ' 20th Street Pale Ale - Citra',\n",
       " 301: ' 21 Bones Salute ESB',\n",
       " 302: ' 21 IPA',\n",
       " 303: ' 21 Rock',\n",
       " 304: ' 215 Pale Ale',\n",
       " 305: ' 219',\n",
       " 306: ' 21st Amendment',\n",
       " 307: ' 21st Amendment IPA',\n",
       " 308: ' 21st Amendment Pale Ale',\n",
       " 309: ' 21st Anniversary Belgian Strong Ale Aged With Old Vine Zin Grapes',\n",
       " 310: ' 21st Anniversary Fresh Hop Pale Ale',\n",
       " 311: ' 21st Anniversary Rorschach Two Double Brown Ale',\n",
       " 312: ' 22 Porter',\n",
       " 313: ' 221 B',\n",
       " 314: ' 22nd Anniversary Vanilla Imperial Stout',\n",
       " 315: ' 230th Anniversary American Sour Ale',\n",
       " 316: ' 23rd Anniversary Ale',\n",
       " 317: ' 24th Street Pale Ale',\n",
       " 318: ' 25 Belgian Dubbel Style Anniversary Ale',\n",
       " 319: ' 25 Dodici',\n",
       " 320: ' 250th Anniversary 80 Schilling Scottish Ale',\n",
       " 321: ' 25th Anniversary Ale',\n",
       " 322: ' 25th Anniversary Hopped Lager',\n",
       " 323: ' 25th Anniversary Sour (Bourbon Barrel Aged)',\n",
       " 324: ' 25th Anniversary Vanilla Doubledog',\n",
       " 325: ' 26\\xc2\\xb0',\n",
       " 326: ' 275th Anniversary Ale',\n",
       " 327: ' 28 Pale Ale',\n",
       " 328: ' 29 Palms Pale Ale',\n",
       " 329: ' 292 Ale',\n",
       " 330: ' 2IC',\n",
       " 331: ' 2X Chocolate Porter',\n",
       " 332: ' 2X India Brown',\n",
       " 333: ' 2X Stout',\n",
       " 334: ' 2XIPA',\n",
       " 335: ' 2cc Red',\n",
       " 336: ' 2nd Anniversary',\n",
       " 337: ' 2nd Anniversary Ale',\n",
       " 338: ' 2nd Anniversary Double IPA',\n",
       " 339: ' 2x Ultra IPA',\n",
       " 340: ' 2x4',\n",
       " 341: ' 2x4 Ale',\n",
       " 342: ' 2x4 IPA',\n",
       " 343: ' 2\\xc2\\xb0 Below Winter Ale',\n",
       " 344: ' 3',\n",
       " 345: ' 3 Amigos',\n",
       " 346: \" 3 C's IPA\",\n",
       " 347: ' 3 Clear',\n",
       " 348: ' 3 Coins Irish Dark',\n",
       " 349: ' 3 Coins Malt Lager',\n",
       " 350: ' 3 Coins Riva',\n",
       " 351: ' 3 Fields Harvest Ale',\n",
       " 352: ' 3 French Hens',\n",
       " 353: ' 3 Heavy Scottish Wee Heavy',\n",
       " 354: ' 3 Horses Holland Lager Beer',\n",
       " 355: ' 3 Judges Barleywine',\n",
       " 356: ' 3 Monts',\n",
       " 357: ' 3 Monts 90th Anniversary',\n",
       " 358: ' 3 Monts Grande R\\xc3\\xa9serve Sp\\xc3\\xa9cial Ale',\n",
       " 359: ' 3 Peppers Pilsner',\n",
       " 360: ' 3 RB Pell',\n",
       " 361: ' 3 Ravens 55',\n",
       " 362: ' 3 Ravens Ale Noir',\n",
       " 363: ' 3 Ravens Black',\n",
       " 364: ' 3 Ravens Blond',\n",
       " 365: ' 3 Ravens Bock The Ravenator',\n",
       " 366: ' 3 Ravens Bronze',\n",
       " 367: ' 3 Ravens Dark',\n",
       " 368: ' 3 Ravens Rye',\n",
       " 369: ' 3 Ravens White',\n",
       " 370: ' 3 Ravens \\xc3\\x9cber Blond Sticke Altbier',\n",
       " 371: ' 3 Rivers Scottish Ale',\n",
       " 372: ' 3 Scht\\xc3\\xa9ng',\n",
       " 373: ' 3 Sheets',\n",
       " 374: ' 3 Sheets Barleywine',\n",
       " 375: ' 3 Sisters Golden Wheat',\n",
       " 376: ' 3 Weiss Men',\n",
       " 377: ' 3-Grid IPA',\n",
       " 378: ' 30 E Lode',\n",
       " 379: ' 300 Batch',\n",
       " 380: ' 303AD',\n",
       " 381: \" 30th Anniversary - Fritz And Ken's Ale\",\n",
       " 382: \" 30th Anniversary - Fritz And Ken's Ale Bourbon Barrel Aged\",\n",
       " 383: ' 30th Anniversary - Grand Cru',\n",
       " 384: \" 30th Anniversary - Jack & Ken's Ale\",\n",
       " 385: ' 30th Street Pale Ale',\n",
       " 386: ' 31',\n",
       " 387: ' 31-25 Hefe',\n",
       " 388: ' 312 Urban Wheat',\n",
       " 389: ' 32 Inning Ale',\n",
       " 390: ' 32/50',\n",
       " 391: ' 33 Export',\n",
       " 392: ' 333 Premium Export Beer',\n",
       " 393: ' 36 Shilling Scotch Ale',\n",
       " 394: ' 3767 - Belgian IPA With Brett',\n",
       " 395: ' 37hr Simcoe SMaSH',\n",
       " 396: ' 37th Suitcase',\n",
       " 397: ' 38 Redemption Black Pilesner',\n",
       " 398: ' 38 Schilling Scottish Ale',\n",
       " 399: ' 3C Extreme Ale',\n",
       " 400: ' 3R Raspberry Ale',\n",
       " 401: ' 3Tail',\n",
       " 402: ' 3rd Anniversaire',\n",
       " 403: ' 3rd Anniversary Ale',\n",
       " 404: ' 3rd Anniversary Double IPA',\n",
       " 405: ' 3rd Rail IPA',\n",
       " 406: ' 4 Calling Birds',\n",
       " 407: ' 4 Pines Dry Stout',\n",
       " 408: ' 4 Pines Hefeweizen',\n",
       " 409: ' 4 Pines Kolsch',\n",
       " 410: ' 4 Pines Pale Ale',\n",
       " 411: ' 4 Seasons IPA',\n",
       " 412: ' 4 Stroke Winter Lager',\n",
       " 413: ' 40 Cream Ale',\n",
       " 414: ' 40 Shilling Ale',\n",
       " 415: ' 400 Honey Ale',\n",
       " 416: ' 400 Pound Monkey',\n",
       " 417: ' 4000 Footer IPA',\n",
       " 418: ' 405 Oklahoma Lager',\n",
       " 419: ' 406 Saison',\n",
       " 420: ' 40th Anniversary Wheatwine',\n",
       " 421: ' 420 IPA',\n",
       " 422: ' 420 India Pale Ale',\n",
       " 423: \" 420 Smokin' Hemp Porter\",\n",
       " 424: ' 420.2407 Smoked IPA',\n",
       " 425: ' 422 Pale Wheat Ale',\n",
       " 426: ' 44 Magnum',\n",
       " 427: ' 440 Pepper Smoker',\n",
       " 428: ' 45 Fathoms Porter',\n",
       " 429: \" 46'er Pale Ale\",\n",
       " 430: ' 471 Avalanche Special Reserve',\n",
       " 431: ' 471 ESB',\n",
       " 432: ' 471 IPA',\n",
       " 433: ' 47\\xc2\\xba North IPA',\n",
       " 434: ' 483 Pale Ale',\n",
       " 435: ' 4C 10th Anniversary Ale',\n",
       " 436: ' 4GA',\n",
       " 437: ' 4Shadow',\n",
       " 438: ' 4X Quad',\n",
       " 439: ' 4e Anniversaire',\n",
       " 440: ' 4ieme De 1000 D\\xc3\\xa9lice Des Moines',\n",
       " 441: ' 4th & Long Wheat Lager',\n",
       " 442: ' 4th Anniversary Ale',\n",
       " 443: ' 4th Anniversary Double IPA',\n",
       " 444: ' 4th Anniversary Oak Aged Imperial Porter',\n",
       " 445: ' 4th Street Wheat',\n",
       " 446: ' 4x4',\n",
       " 447: ' 4x4 Ale (15th Anniversary)',\n",
       " 448: ' 5 A.M. Saint',\n",
       " 449: ' 5 Barrel Pale Ale',\n",
       " 450: ' 5 Borough',\n",
       " 451: ' 5 Czars Imperial Stout',\n",
       " 452: ' 5 Day IPA',\n",
       " 453: ' 5 Lamps Lager',\n",
       " 454: ' 5 Lizard',\n",
       " 455: ' 5 Malt Ale',\n",
       " 456: ' 5 Rabbit',\n",
       " 457: ' 5 Rings IPA',\n",
       " 458: ' 5 Vulture',\n",
       " 459: ' 5 Years Later',\n",
       " 460: ' 5,02 Amber',\n",
       " 461: ' 50 Back American Lager',\n",
       " 462: ' 50 CAT IPA',\n",
       " 463: ' 50 Fathoms ESB',\n",
       " 464: ' 508 Belgian Strong Ale',\n",
       " 465: ' 508 Lager',\n",
       " 466: ' 508 Strong Ale',\n",
       " 467: ' 509 Style',\n",
       " 468: ' 529',\n",
       " 469: ' 547 Haight',\n",
       " 470: ' 555 IPA',\n",
       " 471: ' 563 Stout',\n",
       " 472: ' 57 Wild',\n",
       " 473: ' 5th Anniversary',\n",
       " 474: ' 5th Anniversary Ale',\n",
       " 475: ' 5th Element',\n",
       " 476: ' 6,56 (2010)',\n",
       " 477: ' 60 Minute IPA',\n",
       " 478: ' 60 Shilling Ale',\n",
       " 479: ' 60 Shilling Scottish Ale',\n",
       " 480: ' 60 To Life',\n",
       " 481: ' 60 Winks',\n",
       " 482: ' 606 Ale',\n",
       " 483: ' 6060 Stout',\n",
       " 484: ' 62 Pilsner',\n",
       " 485: ' 6288 Stout',\n",
       " 486: ' 6450 Red Ale',\n",
       " 487: ' 668 The Neighbor Of The Beast',\n",
       " 488: ' 69 IPA',\n",
       " 489: ' 6X',\n",
       " 490: ' 6i\\xc3\\xa8me Soir',\n",
       " 491: ' 7 Beauties Rye',\n",
       " 492: ' 7 Devils IIPA',\n",
       " 493: ' 7 Springs Mountain Ale',\n",
       " 494: ' 7 Stern Bamberger Rauchbier',\n",
       " 495: ' 7 Stern Chilli',\n",
       " 496: ' 7 Stern Hanf',\n",
       " 497: ' 7 Stern India Pale Ale',\n",
       " 498: ' 7 Stern Prager Dunkles',\n",
       " 499: ' 7 Stern Wiener Helles',\n",
       " 500: ' 7 Stern Winter Rauch Bock',\n",
       " 501: ' 7 Threads Symposium Ale',\n",
       " 502: ' 7-Hop Imperial I.P.A.',\n",
       " 503: ' 70 SchillingBridge',\n",
       " 504: ' 700 Level',\n",
       " 505: ' 71 Pale',\n",
       " 506: ' 71 Pale Ale',\n",
       " 507: ' 714',\n",
       " 508: ' 72 Imperial Chocolate Cream Stout',\n",
       " 509: ' 724',\n",
       " 510: ' 75 Minute IPA',\n",
       " 511: ' 76 Barrel Aged Sour With Cherries',\n",
       " 512: ' 77 Anniversary Ale',\n",
       " 513: ' 77 Lager',\n",
       " 514: ' 78 Anniversary Ale',\n",
       " 515: ' 7GA IPA',\n",
       " 516: ' 7th Anniversary 2004 Bourbon Barrel Wee Heavy',\n",
       " 517: ' 7th Street IPA',\n",
       " 518: ' 7th Street Wheat',\n",
       " 519: ' 8 Ball Stout',\n",
       " 520: ' 8 Malty Nights (Bourbon Barrel Aged)',\n",
       " 521: ' 8 Second IBA',\n",
       " 522: ' 8 String Ale',\n",
       " 523: ' 8-4-1 Expedition',\n",
       " 524: ' 80 Schilling Scottish Ale',\n",
       " 525: ' 80 Shilling',\n",
       " 526: ' 80 Shilling Ale',\n",
       " 527: ' 80 Shilling Scotch Ale',\n",
       " 528: ' 80 Shilling Scottish Ale',\n",
       " 529: ' 80/- (Eighty Shilling)',\n",
       " 530: ' 806 Stout',\n",
       " 531: ' 825 State Stout',\n",
       " 532: ' 84/09 Double Alt (25th Anniversary Beer)',\n",
       " 533: ' 840 India Pale Ale',\n",
       " 534: ' 844 Oatmeal Stout',\n",
       " 535: ' 847 Suburban Wheat Ale',\n",
       " 536: ' 8472',\n",
       " 537: ' 85 Shilling',\n",
       " 538: ' 888 India Pale Ale',\n",
       " 539: ' 8e Jour',\n",
       " 540: ' 8th Anniversary Ale (2005) - Raspberry Wit',\n",
       " 541: ' 8th Street Ale',\n",
       " 542: ' 9 Alarm Amber',\n",
       " 543: ' 9 Donkeys Of The Hopocalypse',\n",
       " 544: ' 90 Glengarry Shilling Ale',\n",
       " 545: ' 90 Minute IPA',\n",
       " 546: ' 90 Schilling Scotch Ale',\n",
       " 547: ' 90 Shilling Ale',\n",
       " 548: ' 90 Shilling Scotch Ale',\n",
       " 549: ' 900 English Ale',\n",
       " 550: ' 90999 Pilsner',\n",
       " 551: ' 9303 German Red Ale',\n",
       " 552: ' 961 IPA (India Pale Ale)',\n",
       " 553: ' 961 Red Ale',\n",
       " 554: ' 961 Stout',\n",
       " 555: ' 961 Traditional Lager',\n",
       " 556: ' 97 Pound Weakling',\n",
       " 557: ' 9th Street Market Blood Orange Grapefruit',\n",
       " 558: ' 9th Street Market Pomegranate Raspberry',\n",
       " 559: ' ? (Imperial Bitter)',\n",
       " 560: ' ? The Riddler ?',\n",
       " 561: ' A Beer Named Sue',\n",
       " 562: ' A Big Ail',\n",
       " 563: ' A Cart Ride To Mexico',\n",
       " 564: ' A Clockwork Orange Belgian Wit',\n",
       " 565: ' A Few Hops More',\n",
       " 566: ' A Fortnights Journey',\n",
       " 567: ' A Little Behind Altbier',\n",
       " 568: \" A Little Sumpin' Extra! Ale\",\n",
       " 569: \" A Little Sumpin' Sumpin' Ale\",\n",
       " 570: \" A Little Sumpin' Weizen\",\n",
       " 571: \" A Little Sumpin' Wild\",\n",
       " 572: ' A Over T (Aromas Over Tongham)',\n",
       " 573: ' A Romantic Aromatic',\n",
       " 574: ' A Saison Darkly (Import Series Vol. #2)',\n",
       " 575: ' A Stout Mammal Porter',\n",
       " 576: \" A Winter's Ale\",\n",
       " 577: ' A-10 Warthog Double IPA',\n",
       " 578: ' A. K. Session',\n",
       " 579: ' A. Le Coq Black Beer',\n",
       " 580: ' A. Le Coq Double Bock',\n",
       " 581: ' A. Le Coq J\\xc3\\xb5uluporter',\n",
       " 582: ' A. Le Coq Porter',\n",
       " 583: ' A. Le Coq Premium',\n",
       " 584: ' A. Strange Stout',\n",
       " 585: ' A.F.O.',\n",
       " 586: ' A.J. Winter Ale',\n",
       " 587: ' A.K. Damm',\n",
       " 588: ' A4 Amber Ale',\n",
       " 589: ' AAA',\n",
       " 590: ' ABC ESB',\n",
       " 591: ' ABC Extra Stout',\n",
       " 592: ' AC Golden German Pilsener',\n",
       " 593: ' ACME California Brown Ale',\n",
       " 594: ' ACME California IPA',\n",
       " 595: ' ACME California Pale Ale',\n",
       " 596: ' AF23 Pale Ale',\n",
       " 597: ' AK 47 Chocolate Hazelnut Porter',\n",
       " 598: ' ALCHEMY',\n",
       " 599: ' ALT',\n",
       " 600: ' ALT German Style Ale',\n",
       " 601: ' ALTari 2600',\n",
       " 602: ' ALTerior Motive',\n",
       " 603: ' ALTitude',\n",
       " 604: ' AMA Bionda',\n",
       " 605: ' AMB No\\xc3\\xabl - Bi\\xc3\\xa8re De No\\xc3\\xabl',\n",
       " 606: ' APA',\n",
       " 607: ' ASDA Gentleman Jack Strong Ale',\n",
       " 608: ' ASDA Premium Golden Ale',\n",
       " 609: ' ASDA Whitechapel Porter',\n",
       " 610: ' AXL Pale Ale',\n",
       " 611: ' AZO (All Zoned Out) Imperial Red',\n",
       " 612: ' Aaaah! Bock',\n",
       " 613: ' Aardmonnik - Earthmonk',\n",
       " 614: ' Aass Bayer (Aass Dark)',\n",
       " 615: ' Aass Bock',\n",
       " 616: ' Aass Classic',\n",
       " 617: ' Aass Genuine Pilsner',\n",
       " 618: ' Aass Gull\\xc3\\xb8l',\n",
       " 619: ' Aass Halling Pilsner\\xc3\\xb8l',\n",
       " 620: ' Aass Jule\\xc3\\xb8l',\n",
       " 621: ' Aass Jule\\xc3\\xb8l Premium 9%',\n",
       " 622: ' Aass Original Lager',\n",
       " 623: ' Abandon Ship Smoked Lager',\n",
       " 624: ' Abbadon',\n",
       " 625: ' Abbaye Cistercienne Paix-Dieu',\n",
       " 626: \" Abbaye D'Aulne Alleluia\",\n",
       " 627: \" Abbaye D'Aulne Blonde Des P\\xc3\\xa8res (Sur Lie) 6\\xc2\\xb0\",\n",
       " 628: \" Abbaye D'Aulne Brune Des P\\xc3\\xa8res (Sur Lie) 6\\xc2\\xb0\",\n",
       " 629: \" Abbaye D'Aulne Super No\\xc3\\xabl 9\\xc2\\xb0\",\n",
       " 630: \" Abbaye D'Aulne Triple Blonde 9\\xc2\\xb0\",\n",
       " 631: \" Abbaye D'Aulne Triple Brune 9\\xc2\\xb0\",\n",
       " 632: \" Abbaye D'Aulne Val De Sambre Ambr\\xc3\\xa9e 6\\xc2\\xb0\",\n",
       " 633: ' Abbaye De Brogne Brune',\n",
       " 634: ' Abbaye De Floreffe Blanche',\n",
       " 635: ' Abbaye De Floreffe Blonde',\n",
       " 636: ' Abbaye De Floreffe Double',\n",
       " 637: ' Abbaye De Floreffe Prima Melior',\n",
       " 638: ' Abbaye De Floreffe Triple',\n",
       " 639: ' Abbaye De Forest',\n",
       " 640: ' Abbaye De Lille',\n",
       " 641: ' Abbaye De Malonne Brune',\n",
       " 642: ' Abbaye De Marchiennes',\n",
       " 643: ' Abbaye De Oudkerken',\n",
       " 644: ' Abbaye De Saint Bon-Chien',\n",
       " 645: ' Abbaye De Saint Bon-Chien Grand Cru (Aged In Merlot Barrels)',\n",
       " 646: ' Abbaye De Saint Bon-Chien Grand Cru (Aged In Pinot Noir Barrels)',\n",
       " 647: ' Abbaye De Saint Bon-Chien Grand Cru (Aged In Rhum Barrels)',\n",
       " 648: ' Abbaye De Saint Bon-Chien Grand Cru (Aged In San Giovese Barrels)',\n",
       " 649: ' Abbaye De Saint Bon-Chien Grand Cru (Aged In Spirit Barrels)',\n",
       " 650: ' Abbaye De Saint Bon-Chien Grand Cru (Aged In Trousseau Barrels)',\n",
       " 651: ' Abbaye De Saint Bon-Chien Grand Cru (Aged In Vin Jaune Barrels)',\n",
       " 652: ' Abbaye De St Amand',\n",
       " 653: ' Abbaye Des Bonne-Esp\\xc3\\xa9rance',\n",
       " 654: ' Abbaye Des Rocs Grand Cru Belgian Special Brown',\n",
       " 655: ' Abbaye Des Rocs Nuits Blanches',\n",
       " 656: ' Abbaye Des Rocs Sp\\xc3\\xa9ciale No\\xc3\\xabl',\n",
       " 657: ' Abbaye Des Rocs [Brasserie Des Rocs Brune]',\n",
       " 658: ' Abbaye Du Park Blonde',\n",
       " 659: ' Abbaye Saint Paul De Wisques Abdijbier',\n",
       " 660: ' Abbey',\n",
       " 661: ' Abbey 5',\n",
       " 662: ' Abbey 8',\n",
       " 663: ' Abbey Ale',\n",
       " 664: ' Abbey Ales Bellringer',\n",
       " 665: ' Abbey Beer',\n",
       " 666: ' Abbey Belgian Style Ale',\n",
       " 667: ' Abbey Blonde',\n",
       " 668: ' Abbey Brune',\n",
       " 669: ' Abbey Christmas',\n",
       " 670: ' Abbey Dubbel',\n",
       " 671: ' Abbey Extra',\n",
       " 672: ' Abbey Holiday Ale',\n",
       " 673: ' Abbey Honey Wheat',\n",
       " 674: ' Abbey India Pale Ale',\n",
       " 675: ' Abbey Normal',\n",
       " 676: ' Abbey Oatmeal Stout',\n",
       " 677: ' Abbey Road IPA',\n",
       " 678: ' Abbey Roade',\n",
       " 679: ' Abbey Russian Imperial Stout',\n",
       " 680: ' Abbey Six',\n",
       " 681: ' Abbey Something',\n",
       " 682: ' Abbey Tripel',\n",
       " 683: ' Abbey Triple',\n",
       " 684: ' Abbey Trippel',\n",
       " 685: ' Abbey Wheat',\n",
       " 686: ' Abbey-style Dubbel',\n",
       " 687: ' Abbot 1',\n",
       " 688: ' Abbot Ale',\n",
       " 689: \" Abbot's Habit Tripel\",\n",
       " 690: ' Abbots Lager',\n",
       " 691: ' Abbotsford Invalid Stout',\n",
       " 692: ' Abby Normal',\n",
       " 693: \" Abby's Fault\",\n",
       " 694: ' Abdijbier Ter Dolen',\n",
       " 695: ' Abdis Bruin',\n",
       " 696: ' Abdis Tripel',\n",
       " 697: ' Abeelsen Stout',\n",
       " 698: ' Abel',\n",
       " 699: ' Abel Turcault',\n",
       " 700: ' Aberrant Amber',\n",
       " 701: ' Abes Honest Ale',\n",
       " 702: ' Abies Balsamea',\n",
       " 703: ' Abigail Adams Amber',\n",
       " 704: \" Abigail's Amber (Buddy's Ringside Amber Ale)\",\n",
       " 705: ' Abigale',\n",
       " 706: ' Abita Select Alt',\n",
       " 707: ' Abita Select Amber Ale',\n",
       " 708: ' Abita Select Barleywine (DUPLICATE)',\n",
       " 709: ' Abita Select Belgian Golden Ale',\n",
       " 710: ' Abita Select Belgian Saison',\n",
       " 711: ' Abita Select Belgian White',\n",
       " 712: ' Abita Select Black IPA',\n",
       " 713: ' Abita Select Cream Ale',\n",
       " 714: ' Abita Select Doppelbock',\n",
       " 715: ' Abita Select Double IPA',\n",
       " 716: ' Abita Select Double Kolsch',\n",
       " 717: ' Abita Select Extra Extra Strong Bitter (ESB2)',\n",
       " 718: ' Abita Select Four Grain',\n",
       " 719: ' Abita Select Imperial Louisiana Oyster Stout',\n",
       " 720: ' Abita Select Imperial Pilsner',\n",
       " 721: ' Abita Select Imperial Stout',\n",
       " 722: ' Abita Select India Pale Ale',\n",
       " 723: ' Abita Select Kolsch',\n",
       " 724: ' Abita Select Oatmeal Stout',\n",
       " 725: ' Abita Select Pale Ale',\n",
       " 726: ' Abita Select Pilsner',\n",
       " 727: ' Abita Select Rye',\n",
       " 728: ' Abita Select Triple Haze',\n",
       " 729: ' Abita Select Vanilla Porter',\n",
       " 730: ' Abita Select Weizenbock',\n",
       " 731: ' Able Danger IPA',\n",
       " 732: ' Abner Imperial IPA',\n",
       " 733: ' Abner Weed Amber Ale',\n",
       " 734: ' Abnormal Genius',\n",
       " 735: ' Abominable',\n",
       " 736: ' Abominable Ale',\n",
       " 737: ' Abominable Winter Ale',\n",
       " 738: ' Abominal Snow Beer',\n",
       " 739: ' Aboriginale',\n",
       " 740: ' Abracadabra Brown Ale',\n",
       " 741: ' Abrasive Ale',\n",
       " 742: ' Abraxas',\n",
       " 743: ' Absinthe',\n",
       " 744: ' Absolute Rat Bastard',\n",
       " 745: ' Absolution',\n",
       " 746: ' Absolution Ale',\n",
       " 747: ' Abstrakt AB,01',\n",
       " 748: ' Abstrakt AB,02',\n",
       " 749: ' Abstrakt AB,03',\n",
       " 750: ' Abstrakt AB,04',\n",
       " 751: ' Abstrakt AB,05',\n",
       " 752: ' Abstrakt AB,06',\n",
       " 753: ' Abt 12',\n",
       " 754: ' Abt Andreas Traditionstrunk',\n",
       " 755: ' Abzug',\n",
       " 756: ' Acadia Pale Ale',\n",
       " 757: ' Acai Berry Wheat',\n",
       " 758: ' Accel',\n",
       " 759: ' Accelerator Amber',\n",
       " 760: ' Accelerator Double Bock',\n",
       " 761: ' Acclaim Champion Beer',\n",
       " 762: ' Accusation Ale',\n",
       " 763: ' Ace Hole',\n",
       " 764: ' Ace Of Spades',\n",
       " 765: ' Ace Of Spades Double Stout',\n",
       " 766: ' Acer',\n",
       " 767: \" Acer Quercus - The Bruery / Lawson's Finest Liquids Collaboration\",\n",
       " 768: ' Aces & Ates',\n",
       " 769: ' Aces High',\n",
       " 770: ' Ach! Roggenbier',\n",
       " 771: ' Achel Extra Blond',\n",
       " 772: ' Achel Trappist Extra',\n",
       " 773: \" Achievement Beyond Life's Experiences (A.B.L.E.) (Pizza Port San Clemente)\",\n",
       " 774: \" Achievement Beyond Life's Experiences (A.B.L.E.) (Pizza Port Solana Beach)\",\n",
       " 775: ' Achilles Amber Ale',\n",
       " 776: ' Achocolypse',\n",
       " 777: ' Ackels Forte 8.0',\n",
       " 778: ' Ackels Pur Malt',\n",
       " 779: \" Ackerman's Imperial Double Stout (Indiana Replicale 2011)\",\n",
       " 780: ' Aconcagua',\n",
       " 781: ' Acorn Galena IPA',\n",
       " 782: ' Acorn Old Moor Porter',\n",
       " 783: ' Acorn Saison',\n",
       " 784: ' ActiBREW Belgian Triple',\n",
       " 785: ' Action Jackson',\n",
       " 786: ' Ad Astra Ale',\n",
       " 787: ' Ad Lib',\n",
       " 788: ' Adam',\n",
       " 789: ' Adam & Eve Ale',\n",
       " 790: ' Adam From The Wood',\n",
       " 791: ' Addlepated Ale',\n",
       " 792: ' Adelardus Dubbel',\n",
       " 793: ' Adelardus Tripel',\n",
       " 794: ' Adelscott',\n",
       " 795: ' Adirondack Abbey Ale',\n",
       " 796: ' Adirondack Beaver Tail Brown Ale',\n",
       " 797: ' Adirondack Golden',\n",
       " 798: ' Adler',\n",
       " 799: ' Adler Br\\xc3\\xa4u Stettfelder Heller Bock',\n",
       " 800: ' Adlys Ale',\n",
       " 801: ' Admiral Hops (Single Hop Series)',\n",
       " 802: \" Admiral's Ale\",\n",
       " 803: \" Admiral's Amber Ale\",\n",
       " 804: ' Admiralskoye (Admipanbrbke Nacmepuzokahr)',\n",
       " 805: ' Admiralteyskoye',\n",
       " 806: ' Adnams 93 Celebration Ale',\n",
       " 807: ' Adnams American Style IPA',\n",
       " 808: ' Adnams Bitter',\n",
       " 809: ' Adnams Broadside',\n",
       " 810: ' Adnams Broadside Strong Original',\n",
       " 811: ' Adnams East Green Carbon Neutral',\n",
       " 812: ' Adnams Explorer',\n",
       " 813: ' Adnams Gunhill',\n",
       " 814: ' Adnams Innovation',\n",
       " 815: ' Adnams Lighthouse',\n",
       " 816: ' Adnams Regatta',\n",
       " 817: ' Adnams SSB (Suffolk Special Bitter)',\n",
       " 818: ' Adnams Southwold Bitter',\n",
       " 819: ' Adnams Southwold Winter Beer',\n",
       " 820: ' Adnams Spiced Winter Beer',\n",
       " 821: ' Adnams Tally-Ho',\n",
       " 822: ' Adnams Victory Celebration Ale',\n",
       " 823: ' Adnams Yuletide',\n",
       " 824: ' Adonis Gold',\n",
       " 825: ' Adriaen Brouwer Audenaerds Bruyn',\n",
       " 826: ' Adriaen Brouwer Dark Gold Ale',\n",
       " 827: ' Advent Ale',\n",
       " 828: ' Adventure Fest',\n",
       " 829: ' Aecht Schlenkerla Eiche',\n",
       " 830: ' Aecht Schlenkerla Fastenbier',\n",
       " 831: ' Aecht Schlenkerla Helles Lagerbier',\n",
       " 832: ' Aecht Schlenkerla Krausen',\n",
       " 833: ' Aecht Schlenkerla Rauchbier M\\xc3\\xa4rzen',\n",
       " 834: ' Aecht Schlenkerla Rauchbier Urbock',\n",
       " 835: ' Aecht Schlenkerla Rauchbier Weizen',\n",
       " 836: ' Aegirs Ale',\n",
       " 837: ' Aerts 1900',\n",
       " 838: ' Aestas Ale',\n",
       " 839: ' Afanasy Dobroe',\n",
       " 840: ' Afanasy Gold Premium',\n",
       " 841: ' Afanasy Svetloye',\n",
       " 842: ' Afanasy Tyemnoye',\n",
       " 843: ' Afanasy Ultra Premium',\n",
       " 844: ' Affinity Lager',\n",
       " 845: ' Affligem Blond',\n",
       " 846: ' Affligem Dubbel',\n",
       " 847: ' Affligem Fruits Rouges',\n",
       " 848: ' Affligem No\\xc3\\xabl',\n",
       " 849: ' Affligem Paters Vat',\n",
       " 850: ' Affligem Paters Vat Christmas',\n",
       " 851: ' Affligem Tripel',\n",
       " 852: ' Affumicator',\n",
       " 853: ' African Amber',\n",
       " 854: ' After Battle Pale',\n",
       " 855: ' After Dark Mild',\n",
       " 856: ' Afterburner IPA',\n",
       " 857: ' Afterglow IPA',\n",
       " 858: ' Aftermath Imperial IPA',\n",
       " 859: ' Afternburner Habenero Beer',\n",
       " 860: ' Afternoon Delight',\n",
       " 861: ' Agate Pass Amber',\n",
       " 862: ' Agave Peach Wheat',\n",
       " 863: ' Agave Wheat',\n",
       " 864: ' Agave Wit',\n",
       " 865: ' Aged Abbey Ale',\n",
       " 866: ' Aged Lambic',\n",
       " 867: ' Agent Orange',\n",
       " 868: ' Agent Provocateur',\n",
       " 869: ' Aggressive',\n",
       " 870: ' Agnes Irish Red',\n",
       " 871: ' Agrumbocq',\n",
       " 872: ' Aguila Imperial Edicion Especial',\n",
       " 873: ' Agullons Pura Pale',\n",
       " 874: ' Ahopalypse Now IPA',\n",
       " 875: ' Ahornberger Dunkel',\n",
       " 876: ' Ahornberger Hopfig',\n",
       " 877: ' Ahornberger Maibock',\n",
       " 878: ' Ahtamatic IPA',\n",
       " 879: ' Ahtanum IPA',\n",
       " 880: ' Ahtanumous IPA',\n",
       " 881: \" Aida's Ale (strawberry/kiwi)\",\n",
       " 882: \" Aidan Michael's Amber Lager\",\n",
       " 883: ' Aigre (Sour) Plead The 5th',\n",
       " 884: ' Aiken Czech Pilsner',\n",
       " 885: ' Aiken Double Pale Ale',\n",
       " 886: ' Aiken German Doppel Bock',\n",
       " 887: ' Aiken Oatmeal Stout',\n",
       " 888: ' Aiken Oktoberfest',\n",
       " 889: ' Aiken Scottish Style Ale',\n",
       " 890: ' Aiken Standard Bred Golden Honey Wheat',\n",
       " 891: ' Aiken Strong Scotch Ale',\n",
       " 892: ' Aiken Thoroughbred Red',\n",
       " 893: ' Aiken West Coast Pale Ale',\n",
       " 894: \" Aiken's Natural Blonde\",\n",
       " 895: ' Aiko',\n",
       " 896: ' Aiko Pale',\n",
       " 897: ' Aile Smoked Celtic Porter',\n",
       " 898: ' Air',\n",
       " 899: ' Airborne',\n",
       " 900: ' Airbr\\xc3\\xa4u Jetstream',\n",
       " 901: ' Airbr\\xc3\\xa4u Krampus',\n",
       " 902: ' Airbr\\xc3\\xa4u Kumulus',\n",
       " 903: ' Airdale Altitude',\n",
       " 904: ' Airdale Dark And Stormy',\n",
       " 905: ' Airdale Homecoming',\n",
       " 906: ' Airdale Horizon',\n",
       " 907: ' Airporter Porter',\n",
       " 908: \" Aisha's Oatmeal Stout\",\n",
       " 909: ' Aisling Irish Stout',\n",
       " 910: ' Akagi Pils',\n",
       " 911: ' Akasaka Beer',\n",
       " 912: ' Akashi Kaigan Beer',\n",
       " 913: ' Akashi Roman Beer',\n",
       " 914: ' Akevitt Porter (Barrel-Aged Porter)',\n",
       " 915: ' Akinama',\n",
       " 916: ' Akiraku',\n",
       " 917: ' Akron Dopple Alt',\n",
       " 918: ' Akron/Macon Ale',\n",
       " 919: ' Aktien Original 1857',\n",
       " 920: \" Aktien Zwick'l Kellerbier\",\n",
       " 921: ' Akuna Gold',\n",
       " 922: \" Al's Bock\",\n",
       " 923: \" Al's Cask Ale\",\n",
       " 924: \" Al's Little Blonde Ale\",\n",
       " 925: ' Al-Iksir',\n",
       " 926: ' Alabaster Belgian White',\n",
       " 927: ' Alamo Drafthouse Amber Ale',\n",
       " 928: ' Alamo Golden Ale',\n",
       " 929: ' Alamosa Amber',\n",
       " 930: ' Alaskan Amber',\n",
       " 931: ' Alaskan Baltic Porter (Pilot Series)',\n",
       " 932: ' Alaskan Barley Wine (Pilot Series)',\n",
       " 933: ' Alaskan Birch Bock (Rough Draft Series)',\n",
       " 934: ' Alaskan Black IPA',\n",
       " 935: ' Alaskan Boogie Bitter',\n",
       " 936: ' Alaskan Double Black IPA (Pilot Series)',\n",
       " 937: ' Alaskan ESB',\n",
       " 938: ' Alaskan Fresh Hop ESB (Rough Draft Series)',\n",
       " 939: ' Alaskan Heritage Coffee Brown Ale',\n",
       " 940: ' Alaskan IPA',\n",
       " 941: ' Alaskan Imperial IPA (Pilot Series)',\n",
       " 942: ' Alaskan Pale',\n",
       " 943: ' Alaskan Perseverance Ale (Pilot Series)',\n",
       " 944: ' Alaskan Raspberry Stout',\n",
       " 945: ' Alaskan Raspberry Wheat (Pilot Series)',\n",
       " 946: ' Alaskan Sister Wit',\n",
       " 947: ' Alaskan Smoked Porter',\n",
       " 948: ' Alaskan Stout',\n",
       " 949: ' Alaskan Summer Ale',\n",
       " 950: ' Alaskan White',\n",
       " 951: ' Alaskan Winter Ale',\n",
       " 952: ' Alaskan Witbier (Rough Draft Series)',\n",
       " 953: ' Alba Scots Pine Ale',\n",
       " 954: ' Albani Julebryg - Bl\\xc3\\xa5lys',\n",
       " 955: ' Albani Odense Pilsner',\n",
       " 956: ' Albani R\\xc3\\xb8dh\\xc3\\xa6tten (Julebryg)',\n",
       " 957: ' Albert Anderson (A.A.)',\n",
       " 958: ' Alberta Crude Oatmeal Stout',\n",
       " 959: ' Alberta Genuine Draft',\n",
       " 960: ' Alberta Pale Ale',\n",
       " 961: ' Albino Rhino Ale',\n",
       " 962: ' Albino Rhino Dark Ale',\n",
       " 963: ' Albion Amber',\n",
       " 964: ' Alcatraz Cable Car Stout',\n",
       " 965: ' Alcatraz Weiss Guy Wheat',\n",
       " 966: ' Alchemy',\n",
       " 967: ' Aldara Stiprais (Strong)',\n",
       " 968: ' Alder Bay Honey Lager',\n",
       " 969: ' Aldersbacher Kloster Weisse Hell',\n",
       " 970: ' Aldrich Bay Pale Ale',\n",
       " 971: ' Ale',\n",
       " 972: ' Ale 2009',\n",
       " 973: ' Ale Diablo',\n",
       " 974: ' Ale Diablo Pepper Beer',\n",
       " 975: ' Ale Epeteios',\n",
       " 976: ' Ale House Weiss',\n",
       " 977: ' Ale La Reverend (Wedding Ale Joe And Leah 2009)',\n",
       " 978: ' Ale La Reverend (wedding Session IPA A Tribute To Joe And Leah Short 2011)',\n",
       " 979: ' Ale Mary',\n",
       " 980: ' Ale Mary Wit',\n",
       " 981: ' Ale Mucho Hoppo',\n",
       " 982: ' Ale Nr. 16',\n",
       " 983: ' Ale Of Atholl',\n",
       " 984: ' Ale Of Fergus',\n",
       " 985: ' Ale Of The 2 TUN',\n",
       " 986: ' Ale Of The Hermit',\n",
       " 987: ' Ale Of The IMP',\n",
       " 988: ' Ale Of The Living Dead',\n",
       " 989: ' Ale Of Wight',\n",
       " 990: ' Ale Rousse Rivale',\n",
       " 991: ' Ale To The Chief',\n",
       " 992: ' AleSmith All English Anvil Ale ESB',\n",
       " 993: ' AleSmith Best Bitter',\n",
       " 994: ' AleSmith Decadence 2005 Barrel Aged',\n",
       " 995: ' AleSmith Decadence 2006 (Dead By Dawn)',\n",
       " 996: ' AleSmith Decadence 2006 (Dead By Dawn) Barrel Aged',\n",
       " 997: ' AleSmith Decadence 2007 Imperial Porter',\n",
       " 998: ' AleSmith Decadence 2007 Imperial Porter Barrel Aged',\n",
       " 999: ' AleSmith Decadence 2008 Barrel Aged',\n",
       " ...}"
      ]
     },
     "execution_count": 10,
     "metadata": {},
     "output_type": "execute_result"
    }
   ],
   "source": [
    "beer_dict"
   ]
  },
  {
   "cell_type": "code",
   "execution_count": 11,
   "metadata": {},
   "outputs": [
    {
     "data": {
      "text/plain": [
       "' # 100'"
      ]
     },
     "execution_count": 11,
     "metadata": {},
     "output_type": "execute_result"
    }
   ],
   "source": [
    "beer_dict[0]"
   ]
  },
  {
   "cell_type": "code",
   "execution_count": 12,
   "metadata": {},
   "outputs": [
    {
     "name": "stdout",
     "output_type": "stream",
     "text": [
      "There are 31651 users, and 35800 different beers\n"
     ]
    }
   ],
   "source": [
    "n_users = df.profile_name.unique().shape[0]\n",
    "n_beers = df.beerId.unique().shape[0]\n",
    "print(\"There are %s users, and %s different beers\" %(n_users, n_beers))"
   ]
  },
  {
   "cell_type": "markdown",
   "metadata": {},
   "source": [
    "## Split the dataset into train and test sets"
   ]
  },
  {
   "cell_type": "code",
   "execution_count": 13,
   "metadata": {},
   "outputs": [
    {
     "name": "stderr",
     "output_type": "stream",
     "text": [
      "/home/alejandro/anaconda3/envs/beer/lib/python2.7/site-packages/sklearn/cross_validation.py:41: DeprecationWarning: This module was deprecated in version 0.18 in favor of the model_selection module into which all the refactored classes and functions are moved. Also note that the interface of the new CV iterators are different from that of this module. This module will be removed in 0.20.\n",
      "  \"This module will be removed in 0.20.\", DeprecationWarning)\n"
     ]
    }
   ],
   "source": [
    "import sklearn\n",
    "from sklearn.cross_validation import train_test_split"
   ]
  },
  {
   "cell_type": "code",
   "execution_count": 14,
   "metadata": {},
   "outputs": [
    {
     "data": {
      "text/html": [
       "<div>\n",
       "<style>\n",
       "    .dataframe thead tr:only-child th {\n",
       "        text-align: right;\n",
       "    }\n",
       "\n",
       "    .dataframe thead th {\n",
       "        text-align: left;\n",
       "    }\n",
       "\n",
       "    .dataframe tbody tr th {\n",
       "        vertical-align: top;\n",
       "    }\n",
       "</style>\n",
       "<table border=\"1\" class=\"dataframe\">\n",
       "  <thead>\n",
       "    <tr style=\"text-align: right;\">\n",
       "      <th></th>\n",
       "      <th>user_id</th>\n",
       "      <th>profile_name</th>\n",
       "      <th>beerId</th>\n",
       "      <th>beerName</th>\n",
       "      <th>overall</th>\n",
       "    </tr>\n",
       "  </thead>\n",
       "  <tbody>\n",
       "    <tr>\n",
       "      <th>0</th>\n",
       "      <td>13938</td>\n",
       "      <td>alpinebryant</td>\n",
       "      <td>6549</td>\n",
       "      <td>Caldera Ginger Beer</td>\n",
       "      <td>3.0</td>\n",
       "    </tr>\n",
       "  </tbody>\n",
       "</table>\n",
       "</div>"
      ],
      "text/plain": [
       "   user_id   profile_name  beerId              beerName  overall\n",
       "0    13938   alpinebryant    6549   Caldera Ginger Beer      3.0"
      ]
     },
     "execution_count": 14,
     "metadata": {},
     "output_type": "execute_result"
    }
   ],
   "source": [
    "df.head(1)"
   ]
  },
  {
   "cell_type": "code",
   "execution_count": 15,
   "metadata": {
    "collapsed": true
   },
   "outputs": [],
   "source": [
    "train, test = train_test_split(df, test_size=0.2)"
   ]
  },
  {
   "cell_type": "markdown",
   "metadata": {},
   "source": [
    "# 1. Recommender taking into account the most popular Beers\n",
    "\n",
    "* Most rated beers (it is assumed that this is the most consumed beer)\n",
    "* Most positively rated beer (rating > 4.0)\n",
    "* Highest rated beer"
   ]
  },
  {
   "cell_type": "markdown",
   "metadata": {},
   "source": [
    "### Most Rated Beer"
   ]
  },
  {
   "cell_type": "code",
   "execution_count": 16,
   "metadata": {
    "scrolled": true
   },
   "outputs": [
    {
     "data": {
      "text/plain": [
       "beerId\n",
       "545      1899\n",
       "23132    1790\n",
       "28766    1743\n",
       "Name: profile_name, dtype: int64"
      ]
     },
     "execution_count": 16,
     "metadata": {},
     "output_type": "execute_result"
    }
   ],
   "source": [
    "mostRated = train.groupby('beerId')['profile_name'].count().sort_values(ascending = False)\n",
    "mostRated.head(3)"
   ]
  },
  {
   "cell_type": "code",
   "execution_count": 17,
   "metadata": {
    "scrolled": false
   },
   "outputs": [
    {
     "data": {
      "text/html": [
       "<div>\n",
       "<style>\n",
       "    .dataframe thead tr:only-child th {\n",
       "        text-align: right;\n",
       "    }\n",
       "\n",
       "    .dataframe thead th {\n",
       "        text-align: left;\n",
       "    }\n",
       "\n",
       "    .dataframe tbody tr th {\n",
       "        vertical-align: top;\n",
       "    }\n",
       "</style>\n",
       "<table border=\"1\" class=\"dataframe\">\n",
       "  <thead>\n",
       "    <tr style=\"text-align: right;\">\n",
       "      <th></th>\n",
       "      <th>user_id</th>\n",
       "      <th>profile_name</th>\n",
       "      <th>beerId</th>\n",
       "      <th>beerName</th>\n",
       "      <th>overall</th>\n",
       "    </tr>\n",
       "  </thead>\n",
       "  <tbody>\n",
       "    <tr>\n",
       "      <th>238773</th>\n",
       "      <td>32481</td>\n",
       "      <td>wagenvolks</td>\n",
       "      <td>49</td>\n",
       "      <td>(512) Cascabel Cream Stout</td>\n",
       "      <td>4.0</td>\n",
       "    </tr>\n",
       "  </tbody>\n",
       "</table>\n",
       "</div>"
      ],
      "text/plain": [
       "        user_id profile_name  beerId                     beerName  overall\n",
       "238773    32481   wagenvolks      49   (512) Cascabel Cream Stout      4.0"
      ]
     },
     "execution_count": 17,
     "metadata": {},
     "output_type": "execute_result"
    }
   ],
   "source": [
    "a=df[(df['profile_name']==' wagenvolks') & (df['beerName']== ' (512) Cascabel Cream Stout')]\n",
    "a"
   ]
  },
  {
   "cell_type": "code",
   "execution_count": 18,
   "metadata": {
    "scrolled": true
   },
   "outputs": [
    {
     "data": {
      "text/plain": [
       "' (512) Cascabel Cream Stout'"
      ]
     },
     "execution_count": 18,
     "metadata": {},
     "output_type": "execute_result"
    }
   ],
   "source": [
    "beer_dict[49]"
   ]
  },
  {
   "cell_type": "code",
   "execution_count": 19,
   "metadata": {
    "scrolled": true
   },
   "outputs": [
    {
     "data": {
      "text/plain": [
       "array([[' 90 Minute IPA', 1899],\n",
       "       [' Old Rasputin Russian Imperial Stout', 1790],\n",
       "       [' Sierra Nevada Celebration Ale', 1743],\n",
       "       [' Stone Ruination IPA', 1537],\n",
       "       [' Arrogant Bastard Ale', 1510],\n",
       "       [' Sierra Nevada Pale Ale', 1510],\n",
       "       [' Two Hearted Ale', 1509],\n",
       "       [' Stone IPA (India Pale Ale)', 1444],\n",
       "       [' Founders Breakfast Stout', 1427],\n",
       "       [' La Fin Du Monde', 1425]], dtype=object)"
      ]
     },
     "execution_count": 19,
     "metadata": {},
     "output_type": "execute_result"
    }
   ],
   "source": [
    "mostRatedBeers = np.array([np.array([i, beer_dict[i], mostRated[i]], dtype=np.object) \n",
    "                          for i in mostRated.index])\n",
    "mostRatedBeers[:10,1:]"
   ]
  },
  {
   "cell_type": "markdown",
   "metadata": {},
   "source": [
    "### Positive Rated Beer"
   ]
  },
  {
   "cell_type": "code",
   "execution_count": 20,
   "metadata": {},
   "outputs": [],
   "source": [
    "positiveRated = train[train.overall>=4.0].groupby('beerId')['profile_name'].count().sort_values(ascending = False)"
   ]
  },
  {
   "cell_type": "code",
   "execution_count": 21,
   "metadata": {},
   "outputs": [
    {
     "data": {
      "text/plain": [
       "array([[' 90 Minute IPA', 1577],\n",
       "       [' Old Rasputin Russian Imperial Stout', 1533],\n",
       "       [' Sierra Nevada Celebration Ale', 1484],\n",
       "       [' Pliny The Elder', 1372],\n",
       "       [' Two Hearted Ale', 1354],\n",
       "       [' Sierra Nevada Pale Ale', 1340],\n",
       "       [' Stone Ruination IPA', 1320],\n",
       "       [' Founders Breakfast Stout', 1315],\n",
       "       [' Stone IPA (India Pale Ale)', 1283],\n",
       "       [\" Bell's Hopslam Ale\", 1268]], dtype=object)"
      ]
     },
     "execution_count": 21,
     "metadata": {},
     "output_type": "execute_result"
    }
   ],
   "source": [
    "positiveRatedBeers = np.array([np.array([i, beer_dict[i], positiveRated[i]], dtype=np.object) \n",
    "                          for i in positiveRated.index])\n",
    "positiveRatedBeers[:10,1:]"
   ]
  },
  {
   "cell_type": "markdown",
   "metadata": {},
   "source": [
    "### Highest mean rating beer"
   ]
  },
  {
   "cell_type": "code",
   "execution_count": 22,
   "metadata": {},
   "outputs": [],
   "source": [
    "min_ratings = 50\n",
    "listRatedBeers = train.groupby('beerId')['overall'].apply(list).reset_index()"
   ]
  },
  {
   "cell_type": "code",
   "execution_count": 23,
   "metadata": {},
   "outputs": [],
   "source": [
    "filteredListRatedBeers = listRatedBeers[listRatedBeers.overall.apply(lambda x: len(x)>min_ratings)]"
   ]
  },
  {
   "cell_type": "code",
   "execution_count": 24,
   "metadata": {},
   "outputs": [
    {
     "data": {
      "text/html": [
       "<div>\n",
       "<style>\n",
       "    .dataframe thead tr:only-child th {\n",
       "        text-align: right;\n",
       "    }\n",
       "\n",
       "    .dataframe thead th {\n",
       "        text-align: left;\n",
       "    }\n",
       "\n",
       "    .dataframe tbody tr th {\n",
       "        vertical-align: top;\n",
       "    }\n",
       "</style>\n",
       "<table border=\"1\" class=\"dataframe\">\n",
       "  <thead>\n",
       "    <tr style=\"text-align: right;\">\n",
       "      <th></th>\n",
       "      <th>beerId</th>\n",
       "      <th>overall</th>\n",
       "    </tr>\n",
       "  </thead>\n",
       "  <tbody>\n",
       "    <tr>\n",
       "      <th>0</th>\n",
       "      <td>0</td>\n",
       "      <td>[4.5, 4.0, 4.0, 4.5, 4.0, 4.0, 4.0, 4.0, 4.0, ...</td>\n",
       "    </tr>\n",
       "    <tr>\n",
       "      <th>5</th>\n",
       "      <td>6</td>\n",
       "      <td>[3.5, 4.5, 3.0, 3.5, 3.0, 4.0, 3.5, 4.5, 4.0, ...</td>\n",
       "    </tr>\n",
       "    <tr>\n",
       "      <th>68</th>\n",
       "      <td>76</td>\n",
       "      <td>[2.5, 3.5, 3.0, 2.0, 3.5, 4.0, 4.0, 4.0, 4.0, ...</td>\n",
       "    </tr>\n",
       "    <tr>\n",
       "      <th>81</th>\n",
       "      <td>90</td>\n",
       "      <td>[2.0, 4.0, 4.0, 4.5, 4.0, 3.0, 3.0, 4.5, 4.5, ...</td>\n",
       "    </tr>\n",
       "    <tr>\n",
       "      <th>93</th>\n",
       "      <td>103</td>\n",
       "      <td>[4.0, 4.0, 4.0, 4.5, 4.0, 4.5, 4.0, 3.5, 3.5, ...</td>\n",
       "    </tr>\n",
       "  </tbody>\n",
       "</table>\n",
       "</div>"
      ],
      "text/plain": [
       "    beerId                                            overall\n",
       "0        0  [4.5, 4.0, 4.0, 4.5, 4.0, 4.0, 4.0, 4.0, 4.0, ...\n",
       "5        6  [3.5, 4.5, 3.0, 3.5, 3.0, 4.0, 3.5, 4.5, 4.0, ...\n",
       "68      76  [2.5, 3.5, 3.0, 2.0, 3.5, 4.0, 4.0, 4.0, 4.0, ...\n",
       "81      90  [2.0, 4.0, 4.0, 4.5, 4.0, 3.0, 3.0, 4.5, 4.5, ...\n",
       "93     103  [4.0, 4.0, 4.0, 4.5, 4.0, 4.5, 4.0, 3.5, 3.5, ..."
      ]
     },
     "execution_count": 24,
     "metadata": {},
     "output_type": "execute_result"
    }
   ],
   "source": [
    "filteredListRatedBeers.head()"
   ]
  },
  {
   "cell_type": "code",
   "execution_count": 25,
   "metadata": {},
   "outputs": [],
   "source": [
    "meanBeers = filteredListRatedBeers.overall.apply(lambda x: np.mean(np.array(x))).sort_values(ascending=False)"
   ]
  },
  {
   "cell_type": "code",
   "execution_count": 26,
   "metadata": {},
   "outputs": [
    {
     "data": {
      "text/plain": [
       "array([[' Gourmetbryggeriet Piney', 4.6394230769230766],\n",
       "       [' Centennial Alt', 4.6284403669724767],\n",
       "       [' St Arnou St Cloud', 4.621382636655949],\n",
       "       [' Oktoberator', 4.6135593220338986],\n",
       "       [' Old Morgantown Amber', 4.6104651162790695],\n",
       "       [' OktoberFish', 4.6079465541490858],\n",
       "       [' Ettaler Curator Doppelbock (Original German Version)',\n",
       "        4.604982206405694],\n",
       "       [' Oyster Point Oyster Stout', 4.5943396226415096],\n",
       "       [' Kirin Tanrei Alpha Happoshu Beer', 4.5625],\n",
       "       [' Tripel Van De Garre', 4.5508021390374331]], dtype=object)"
      ]
     },
     "execution_count": 26,
     "metadata": {},
     "output_type": "execute_result"
    }
   ],
   "source": [
    "meanRateBeers = np.array([np.array([i, beer_dict[i], meanBeers[i]], dtype=np.object) \n",
    "                          for i in meanBeers.index])\n",
    "\n",
    "meanRateBeers[:10,1:]"
   ]
  },
  {
   "cell_type": "markdown",
   "metadata": {},
   "source": [
    "### Function to calculate the recall metric"
   ]
  },
  {
   "cell_type": "code",
   "execution_count": 27,
   "metadata": {},
   "outputs": [],
   "source": [
    "def recall_at_n(N, rated, recommended):\n",
    "    \"\"\"\n",
    "    :param N: number of recommendations\n",
    "    :param rated: list of beers rated by user\n",
    "    :param recommended: list of beers recommended\n",
    "    \n",
    "    :return the recall\n",
    "    \"\"\"\n",
    "    intersection = len(set(rated) & set(recommended[:N]))\n",
    "    return intersection / np.min([float(N), len(rated)])"
   ]
  },
  {
   "cell_type": "code",
   "execution_count": 28,
   "metadata": {
    "collapsed": true
   },
   "outputs": [],
   "source": [
    "rated = [\" # 100\"]\n",
    "recommended = [' Stone Imperial Russian Stout',' Stone Sublimely Self-Righteous Ale']"
   ]
  },
  {
   "cell_type": "code",
   "execution_count": 29,
   "metadata": {},
   "outputs": [
    {
     "data": {
      "text/plain": [
       "0.0"
      ]
     },
     "execution_count": 29,
     "metadata": {},
     "output_type": "execute_result"
    }
   ],
   "source": [
    "recall_at_n(1, rated, recommended)"
   ]
  },
  {
   "cell_type": "code",
   "execution_count": 30,
   "metadata": {},
   "outputs": [
    {
     "data": {
      "text/plain": [
       "0.0"
      ]
     },
     "execution_count": 30,
     "metadata": {},
     "output_type": "execute_result"
    }
   ],
   "source": [
    "recall_at_n(2, rated, recommended)"
   ]
  },
  {
   "cell_type": "markdown",
   "metadata": {},
   "source": [
    "### Looking for the recall metrics.\n",
    "#### Now, we are going to measure the efficiency of the popularity in the test set. Using the top-5 beers"
   ]
  },
  {
   "cell_type": "code",
   "execution_count": 31,
   "metadata": {},
   "outputs": [
    {
     "data": {
      "text/plain": [
       "array([[' 90 Minute IPA', 1899],\n",
       "       [' Old Rasputin Russian Imperial Stout', 1790],\n",
       "       [' Sierra Nevada Celebration Ale', 1743],\n",
       "       [' Stone Ruination IPA', 1537],\n",
       "       [' Arrogant Bastard Ale', 1510],\n",
       "       [' Sierra Nevada Pale Ale', 1510],\n",
       "       [' Two Hearted Ale', 1509],\n",
       "       [' Stone IPA (India Pale Ale)', 1444],\n",
       "       [' Founders Breakfast Stout', 1427],\n",
       "       [' La Fin Du Monde', 1425]], dtype=object)"
      ]
     },
     "execution_count": 31,
     "metadata": {},
     "output_type": "execute_result"
    }
   ],
   "source": [
    "mostRatedBeers[:10,1:]"
   ]
  },
  {
   "cell_type": "code",
   "execution_count": 32,
   "metadata": {},
   "outputs": [
    {
     "data": {
      "text/plain": [
       "array([[' 90 Minute IPA', 1577],\n",
       "       [' Old Rasputin Russian Imperial Stout', 1533],\n",
       "       [' Sierra Nevada Celebration Ale', 1484],\n",
       "       [' Pliny The Elder', 1372],\n",
       "       [' Two Hearted Ale', 1354],\n",
       "       [' Sierra Nevada Pale Ale', 1340],\n",
       "       [' Stone Ruination IPA', 1320],\n",
       "       [' Founders Breakfast Stout', 1315],\n",
       "       [' Stone IPA (India Pale Ale)', 1283],\n",
       "       [\" Bell's Hopslam Ale\", 1268]], dtype=object)"
      ]
     },
     "execution_count": 32,
     "metadata": {},
     "output_type": "execute_result"
    }
   ],
   "source": [
    "positiveRatedBeers[:10,1:]"
   ]
  },
  {
   "cell_type": "code",
   "execution_count": 33,
   "metadata": {},
   "outputs": [
    {
     "data": {
      "text/plain": [
       "array([[' Gourmetbryggeriet Piney', 4.6394230769230766],\n",
       "       [' Centennial Alt', 4.6284403669724767],\n",
       "       [' St Arnou St Cloud', 4.621382636655949],\n",
       "       [' Oktoberator', 4.6135593220338986],\n",
       "       [' Old Morgantown Amber', 4.6104651162790695]], dtype=object)"
      ]
     },
     "execution_count": 33,
     "metadata": {},
     "output_type": "execute_result"
    }
   ],
   "source": [
    "meanRateBeers[:5,1:]"
   ]
  },
  {
   "cell_type": "code",
   "execution_count": 34,
   "metadata": {},
   "outputs": [],
   "source": [
    "testUsersGrouped = test[test.overall>=4.0].groupby('profile_name')['beerId'].apply(list)"
   ]
  },
  {
   "cell_type": "code",
   "execution_count": 35,
   "metadata": {},
   "outputs": [
    {
     "data": {
      "text/plain": [
       "0.048424083922409704"
      ]
     },
     "execution_count": 35,
     "metadata": {},
     "output_type": "execute_result"
    }
   ],
   "source": [
    "topN = 10\n",
    "np.mean(testUsersGrouped.apply(lambda rated: recall_at_n(topN, rated, mostRatedBeers[:,0])).values)"
   ]
  },
  {
   "cell_type": "code",
   "execution_count": 36,
   "metadata": {},
   "outputs": [
    {
     "data": {
      "text/plain": [
       "0.050780102818708303"
      ]
     },
     "execution_count": 36,
     "metadata": {},
     "output_type": "execute_result"
    }
   ],
   "source": [
    "np.mean(testUsersGrouped.apply(lambda rated: recall_at_n(topN, rated, positiveRatedBeers[:,0])).values)"
   ]
  },
  {
   "cell_type": "code",
   "execution_count": 37,
   "metadata": {},
   "outputs": [
    {
     "data": {
      "text/plain": [
       "6.7296960147068474e-05"
      ]
     },
     "execution_count": 37,
     "metadata": {},
     "output_type": "execute_result"
    }
   ],
   "source": [
    "np.mean(testUsersGrouped.apply(lambda rated: recall_at_n(topN, rated, meanRateBeers[:,0])).values)"
   ]
  },
  {
   "cell_type": "code",
   "execution_count": 38,
   "metadata": {
    "collapsed": true
   },
   "outputs": [],
   "source": [
    "def apk(actual, predicted, k=10):\n",
    "    \"\"\"\n",
    "    Computes the average precision at k.\n",
    "    \n",
    "    :param actual : A list of elements that are to be predicted \n",
    "    :param predicted : A list of predicted elements \n",
    "    :param k: The maximum number of predicted elements\n",
    "    \n",
    "    :return The average precision at k over the input lists\n",
    "    \"\"\"\n",
    "    predicted = predicted[:k] # top-k predictions\n",
    "    \n",
    "    score = 0.0 # This will store the numerator\n",
    "    num_hits = 0.0 # This will store the sum of rel(i)\n",
    "\n",
    "    for i,p in enumerate(predicted):\n",
    "        if p in actual and p not in predicted[:i]:\n",
    "            num_hits += 1.0\n",
    "            score += num_hits / (i+1.0)\n",
    "\n",
    "    return score / min(len(actual), k)"
   ]
  },
  {
   "cell_type": "code",
   "execution_count": 39,
   "metadata": {},
   "outputs": [],
   "source": [
    "rated = [\" Short's Cup A Joe Coffee Creme Stout\",\" Frog's Hollow Double Pumpkin Ale\",\" DNR Belgian-Style Golden Ale\"]\n",
    "recommended = [\" Founders KBS (Kentucky Breakfast Stout\" , \" Maduro Oatmeal Brown Ale\"]"
   ]
  },
  {
   "cell_type": "code",
   "execution_count": 40,
   "metadata": {},
   "outputs": [
    {
     "data": {
      "text/plain": [
       "0.0"
      ]
     },
     "execution_count": 40,
     "metadata": {},
     "output_type": "execute_result"
    }
   ],
   "source": [
    "apk(rated, recommended, 1)"
   ]
  },
  {
   "cell_type": "code",
   "execution_count": 41,
   "metadata": {},
   "outputs": [
    {
     "data": {
      "text/plain": [
       "0.0"
      ]
     },
     "execution_count": 41,
     "metadata": {},
     "output_type": "execute_result"
    }
   ],
   "source": [
    "apk(rated, recommended, 2)"
   ]
  },
  {
   "cell_type": "markdown",
   "metadata": {},
   "source": [
    "### looking for the MAP (mean avergae precision) using the top 5 beers\n"
   ]
  },
  {
   "cell_type": "code",
   "execution_count": 42,
   "metadata": {
    "collapsed": true
   },
   "outputs": [],
   "source": [
    "testUsersGrouped = test[test.overall>=4.0].groupby('profile_name')['beerId'].apply(list)"
   ]
  },
  {
   "cell_type": "code",
   "execution_count": 43,
   "metadata": {},
   "outputs": [
    {
     "data": {
      "text/plain": [
       "0.017186622312681008"
      ]
     },
     "execution_count": 43,
     "metadata": {},
     "output_type": "execute_result"
    }
   ],
   "source": [
    "topN = 5\n",
    "np.mean(testUsersGrouped.apply(lambda rated: apk(rated, mostRatedBeers[:,0], topN)).values)"
   ]
  },
  {
   "cell_type": "code",
   "execution_count": 44,
   "metadata": {},
   "outputs": [
    {
     "data": {
      "text/plain": [
       "0.017697094376235598"
      ]
     },
     "execution_count": 44,
     "metadata": {},
     "output_type": "execute_result"
    }
   ],
   "source": [
    "np.mean(testUsersGrouped.apply(lambda rated: apk(rated, positiveRatedBeers[:,0], topN)).values)"
   ]
  },
  {
   "cell_type": "code",
   "execution_count": 45,
   "metadata": {},
   "outputs": [
    {
     "data": {
      "text/plain": [
       "1.3131114175037753e-05"
      ]
     },
     "execution_count": 45,
     "metadata": {},
     "output_type": "execute_result"
    }
   ],
   "source": [
    "np.mean(testUsersGrouped.apply(lambda rated: apk(rated, meanRateBeers[:,0], topN)).values)"
   ]
  },
  {
   "cell_type": "markdown",
   "metadata": {},
   "source": [
    "# 2. Collaborative Filtering Recommender"
   ]
  },
  {
   "cell_type": "markdown",
   "metadata": {},
   "source": [
    "### Co-occurrence Matrix"
   ]
  },
  {
   "cell_type": "code",
   "execution_count": 46,
   "metadata": {},
   "outputs": [],
   "source": [
    "# create a dictionary of beers per user\n",
    "BeersPerUser = train[train.overall>=4.0].groupby('profile_name')['beerId'].apply(np.array).to_dict()\n",
    "\n",
    "# calculate the number of items in train\n",
    "n_items = len(beer_dict.keys())\n",
    "\n",
    "# co-ocurrance matrix will have shape=[n_items,n_items]\n",
    "coMatrix = np.zeros((n_items, n_items)) # co-occurrence matrix\n",
    "for user,beers in BeersPerUser.items():\n",
    "    for m in beers:\n",
    "        # update 1 row at a time\n",
    "        coMatrix[m,beers] = coMatrix[m,beers] + 1"
   ]
  },
  {
   "cell_type": "markdown",
   "metadata": {},
   "source": [
    "### Making predictions using the co-occurrence matrix\n",
    "\n",
    "Recommendations based on the beers similarity"
   ]
  },
  {
   "cell_type": "code",
   "execution_count": 47,
   "metadata": {},
   "outputs": [],
   "source": [
    "def co_occurrance_similarity(beerId, coocurrance, ntop=10):\n",
    "    \"\"\"\n",
    "    Returns the top-N most similar items to a given one, based on the coocurrance matrix\n",
    "    \n",
    "    :param item_id: id of input item\n",
    "    :param cooccurrance: 2-dim numpy array with the co-occurance matrix\n",
    "    :param ntop: number of items to be retrieved\n",
    "    \n",
    "    :return top-N most similar items to the given item_id\n",
    "    \"\"\"\n",
    "    similarItems = coocurrance[beerId,:]\n",
    "    mostSimilar = np.argsort(similarItems)[::-1]  # sort in descending order the item ids\n",
    "    mostSimilar = mostSimilar[1:ntop+1]\n",
    "    \n",
    "    return np.dstack((mostSimilar,similarItems[mostSimilar]))[0]"
   ]
  },
  {
   "cell_type": "markdown",
   "metadata": {},
   "source": [
    "### Example of top 5 beers recommender if the customer likes the beer called # 100\n",
    "** we use id=0 for the next example (queryBeerId = 0) \n",
    "for example: beer_dict [0]  --> beer name = ' # 100' **"
   ]
  },
  {
   "cell_type": "code",
   "execution_count": 48,
   "metadata": {},
   "outputs": [
    {
     "name": "stdout",
     "output_type": "stream",
     "text": [
      "For item \" # 100\" top-5 recommendations are:\n",
      "(' Stone Imperial Russian Stout', 28.0)\n",
      "(' Old Rasputin Russian Imperial Stout', 27.0)\n",
      "(' Pliny The Elder', 26.0)\n",
      "(' Stone Ruination IPA', 25.0)\n",
      "(' La Fin Du Monde', 25.0)\n"
     ]
    }
   ],
   "source": [
    "queryBeerId = 0\n",
    "Ntop = 5\n",
    "print('For item \"%s\" top-%s recommendations are:' % (beer_dict[queryBeerId], Ntop))\n",
    "\n",
    "similarItems = co_occurrance_similarity(queryBeerId, coMatrix, Ntop)\n",
    "# let's print out the first Ntop recommendations\n",
    "for r in similarItems:\n",
    "    print(beer_dict[r[0]], r[1])"
   ]
  },
  {
   "cell_type": "markdown",
   "metadata": {},
   "source": [
    "**Now, let use this function to make recommendations:**"
   ]
  },
  {
   "cell_type": "code",
   "execution_count": 49,
   "metadata": {
    "collapsed": true
   },
   "outputs": [],
   "source": [
    "def co_occurrance_recommendation(beerId, cooccurrance, ntop=5):\n",
    "    list_sim_items = np.vstack([co_occurrance_similarity(id, cooccurrance, ntop) for id in beerId])\n",
    "    sorted_list = np.sort(list_sim_items, axis=0)[::-1]\n",
    "    # We have to remove duplicates\n",
    "    unique_items = np.unique(sorted_list[:,0])[:ntop]\n",
    "    return unique_items    "
   ]
  },
  {
   "cell_type": "code",
   "execution_count": 50,
   "metadata": {},
   "outputs": [
    {
     "data": {
      "text/plain": [
       "profile_name\n",
       " 007                                     [14698, 33574, 27418]\n",
       " 00766                                                 [16376]\n",
       " 01001111                                  [7996, 26422, 7696]\n",
       " 0110x011    [24859, 19597, 6540, 20592, 16672, 1185, 1184,...\n",
       " 01121987    [33774, 11597, 1035, 28077, 9405, 3375, 23660,...\n",
       "Name: beerId, dtype: object"
      ]
     },
     "execution_count": 50,
     "metadata": {},
     "output_type": "execute_result"
    }
   ],
   "source": [
    "trainUsersGrouped = train[train.overall>=4.0].groupby('profile_name')['beerId'].apply(list)\n",
    "trainUsersGrouped.head()"
   ]
  },
  {
   "cell_type": "code",
   "execution_count": 51,
   "metadata": {},
   "outputs": [
    {
     "data": {
      "text/plain": [
       "array([  5883.,  23132.,  32974.])"
      ]
     },
     "execution_count": 51,
     "metadata": {},
     "output_type": "execute_result"
    }
   ],
   "source": [
    "co_occurrance_recommendation(trainUsersGrouped[1], coMatrix, 3)"
   ]
  },
  {
   "cell_type": "code",
   "execution_count": 52,
   "metadata": {},
   "outputs": [
    {
     "data": {
      "text/plain": [
       "profile_name\n",
       " 007          [545.0, 12152.0, 15632.0, 18457.0, 23132.0]\n",
       " 00766       [5883.0, 12152.0, 23132.0, 30516.0, 32974.0]\n",
       " 01001111    [3336.0, 12152.0, 18457.0, 23132.0, 23593.0]\n",
       " 0110x011          [477.0, 545.0, 1007.0, 1013.0, 1184.0]\n",
       "Name: beerId, dtype: object"
      ]
     },
     "execution_count": 52,
     "metadata": {},
     "output_type": "execute_result"
    }
   ],
   "source": [
    "Ntop = 5\n",
    "predictions = trainUsersGrouped.apply(lambda l: co_occurrance_recommendation(l, coMatrix, Ntop))\n",
    "predictions[:4]"
   ]
  },
  {
   "cell_type": "code",
   "execution_count": 54,
   "metadata": {},
   "outputs": [
    {
     "name": "stdout",
     "output_type": "stream",
     "text": [
      "******\n",
      "rated items: \n",
      "[' HopDevil Ale', ' Fraoch Heather Ale']\n",
      "Recommended items: \n",
      "[' 90 Minute IPA', ' Founders Breakfast Stout', ' HopDevil Ale', ' La Fin Du Monde', ' Old Rasputin Russian Imperial Stout']\n",
      "******\n",
      "rated items: \n",
      "[' Aphrodisiaque']\n",
      "Recommended items: \n",
      "[' Brooklyn Black Chocolate Stout', ' Founders Breakfast Stout', ' Old Rasputin Russian Imperial Stout', ' Stone Imperial Russian Stout', ' Two Hearted Ale']\n",
      "******\n",
      "rated items: \n",
      "[' Stone Imperial Russian Stout', ' Mirror Mirror', ' Stone Sublimely Self-Righteous Ale', ' Cantillon Saint Lamvinus', ' White Knuckle Double IPA', ' White Zin', ' Ommegang Rouge', ' Weihenstephaner Hefeweissbier', ' Racer X', ' The Bitter End Pale Ale', ' Double Daddy Imperial India Pale Ale', \" Bell's Expedition Stout\", ' Firestone 12 - Anniversary Ale', ' Sculpin India Pale Ale', ' Tovarish Imperial Espresso Stout', ' AleSmith Old Numbskull', ' Melange No. 1', \" The Angel's Share - Bourbon Barrel-Aged\", ' Bottleworks 10th Anniversary Wild Ale', ' Rodenbach Grand Cru', ' Pure Hoppiness', ' Cuvee De Tomme']\n",
      "Recommended items: \n",
      "[\" Bell's Hopslam Ale\", ' Founders Breakfast Stout', ' La Fin Du Monde', ' Old Rasputin Russian Imperial Stout', ' Oro De Calabaza']\n"
     ]
    }
   ],
   "source": [
    "for (rated, recom) in zip(testUsersGrouped, predictions)[:3]:\n",
    "    print(\"*\"*6)\n",
    "    print(\"rated items: \")\n",
    "    print([beer_dict[i] for i in rated])\n",
    "    print(\"Recommended items: \")\n",
    "    print([beer_dict[i] for i in recom])"
   ]
  },
  {
   "cell_type": "markdown",
   "metadata": {},
   "source": [
    "### Evalute the recommendation"
   ]
  },
  {
   "cell_type": "code",
   "execution_count": 55,
   "metadata": {},
   "outputs": [
    {
     "name": "stdout",
     "output_type": "stream",
     "text": [
      "Recall=0.025; MAP=0.013\n"
     ]
    }
   ],
   "source": [
    "topN = 5\n",
    "predictions = trainUsersGrouped.apply(lambda l: co_occurrance_recommendation(l, coMatrix, topN))\n",
    "\n",
    "targets_predictions = zip(testUsersGrouped, predictions)\n",
    "recall = np.mean([recall_at_n(topN, rated, recommended) for (rated, recommended) in targets_predictions])\n",
    "map_ = np.mean([apk(rated, recommended, topN) for (rated, recommended) in targets_predictions])\n",
    "\n",
    "print(\"Recall=%.3f; MAP=%.3f\" %(recall, map_))"
   ]
  },
  {
   "cell_type": "code",
   "execution_count": null,
   "metadata": {
    "collapsed": true
   },
   "outputs": [],
   "source": []
  }
 ],
 "metadata": {
  "anaconda-cloud": {},
  "celltoolbar": "Raw Cell Format",
  "kernelspec": {
   "display_name": "Python 2",
   "language": "python",
   "name": "python2"
  },
  "language_info": {
   "codemirror_mode": {
    "name": "ipython",
    "version": 2
   },
   "file_extension": ".py",
   "mimetype": "text/x-python",
   "name": "python",
   "nbconvert_exporter": "python",
   "pygments_lexer": "ipython2",
   "version": "2.7.13"
  }
 },
 "nbformat": 4,
 "nbformat_minor": 1
}
